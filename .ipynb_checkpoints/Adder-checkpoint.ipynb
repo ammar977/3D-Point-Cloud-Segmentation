{
 "cells": [
  {
   "cell_type": "markdown",
   "metadata": {},
   "source": [
    "## Imports"
   ]
  },
  {
   "cell_type": "code",
   "execution_count": 18,
   "metadata": {},
   "outputs": [],
   "source": [
    "# import NALU files\n",
    "# import sys\n",
    "# sys.path.insert(0, 'C:/Users/Ammar/Documents/CV LAB internship/Sproj/NALU_files')\n",
    "# from nalu import NALU\n",
    "# from nac import NAC\n",
    "\n",
    "# import Keras items\n",
    "from keras.models import Model\n",
    "from keras.layers import Dense,Lambda,Concatenate,Input\n",
    "from keras import backend as K\n",
    "from keras.utils import to_categorical,plot_model\n",
    "from keras.initializers import constant\n",
    "\n",
    "# import other libs\n",
    "import numpy as np\n",
    "from itertools import combinations_with_replacement,product\n",
    "# from sklearn.model_selection import train_test_split\n",
    "\n",
    "from tensorflow import floor as tf_floor"
   ]
  },
  {
   "cell_type": "markdown",
   "metadata": {},
   "source": [
    "## Parameters"
   ]
  },
  {
   "cell_type": "code",
   "execution_count": 2,
   "metadata": {
    "collapsed": true
   },
   "outputs": [],
   "source": [
    "model_name = 'adder_0-9'\n",
    "EPOCHS = 2000\n",
    "BATCH_SIZE = 4\n",
    "range_min = 0\n",
    "range_max = 9"
   ]
  },
  {
   "cell_type": "markdown",
   "metadata": {},
   "source": [
    "## Generate Dataset"
   ]
  },
  {
   "cell_type": "code",
   "execution_count": 21,
   "metadata": {},
   "outputs": [
    {
     "name": "stdout",
     "output_type": "stream",
     "text": [
      "\t (100, 3)\n"
     ]
    }
   ],
   "source": [
    "x = np.array(list(product(range(10),repeat = 2)))\n",
    "y = np.empty((100,3))\n",
    "y_sum = x[:,0] + x[:,1]\n",
    "y[:,0] = np.floor(y_sum / 10)\n",
    "y[:,1] = y_sum % 10\n",
    "y[:,2] = y_sum\n",
    "# y = to_categorical(y,num_classes=19)\n",
    "print('\\t',y.shape)"
   ]
  },
  {
   "cell_type": "markdown",
   "metadata": {},
   "source": [
    "## Model"
   ]
  },
  {
   "cell_type": "code",
   "execution_count": 14,
   "metadata": {
    "collapsed": true
   },
   "outputs": [],
   "source": [
    "def net(inputs):\n",
    "    input_data = Input(shape = inputs)\n",
    "    addition = Dense(1,kernel_initializer='ones',use_bias=False)(input_data)\n",
    "    \n",
    "    carry = Dense(1,use_bias=False,kernel_initializer=constant(value=0.1))(addition)\n",
    "    carry = Lambda(lambda x: tf_floor(x))(carry)\n",
    "    \n",
    "    out = Concatenate()([carry])\n",
    "    return Model(inputs = input_data,outputs = addition)"
   ]
  },
  {
   "cell_type": "markdown",
   "metadata": {},
   "source": [
    "+ #### Model Initilization And Details"
   ]
  },
  {
   "cell_type": "code",
   "execution_count": 17,
   "metadata": {},
   "outputs": [
    {
     "name": "stdout",
     "output_type": "stream",
     "text": [
      "_________________________________________________________________\n",
      "Layer (type)                 Output Shape              Param #   \n",
      "=================================================================\n",
      "input_3 (InputLayer)         (None, 2)                 0         \n",
      "_________________________________________________________________\n",
      "dense_3 (Dense)              (None, 1)                 2         \n",
      "=================================================================\n",
      "Total params: 2\n",
      "Trainable params: 0\n",
      "Non-trainable params: 2\n",
      "_________________________________________________________________\n"
     ]
    }
   ],
   "source": [
    "model = net((2,))\n",
    "model.layers[1].trainable = False\n",
    "model.compile(loss = 'MSE',optimizer = 'Adam',metrics = ['accuracy'])\n",
    "model.summary()"
   ]
  },
  {
   "cell_type": "markdown",
   "metadata": {},
   "source": [
    "+ #### Fit Model"
   ]
  },
  {
   "cell_type": "code",
   "execution_count": 41,
   "metadata": {
    "scrolled": true
   },
   "outputs": [
    {
     "ename": "ValueError",
     "evalue": "Error when checking target: expected lambda_9 to have 1 dimensions, but got array with shape (100, 1)",
     "output_type": "error",
     "traceback": [
      "\u001b[1;31m---------------------------------------------------------------------------\u001b[0m",
      "\u001b[1;31mValueError\u001b[0m                                Traceback (most recent call last)",
      "\u001b[1;32m<ipython-input-41-3db45595f20f>\u001b[0m in \u001b[0;36m<module>\u001b[1;34m()\u001b[0m\n\u001b[0;32m      1\u001b[0m fitted = model.fit(x, y, validation_data = (x,y),\n\u001b[0;32m      2\u001b[0m           \u001b[0mbatch_size\u001b[0m\u001b[1;33m=\u001b[0m\u001b[0mBATCH_SIZE\u001b[0m\u001b[1;33m,\u001b[0m \u001b[0mepochs\u001b[0m\u001b[1;33m=\u001b[0m\u001b[0mEPOCHS\u001b[0m\u001b[1;33m,\u001b[0m\u001b[1;33m\u001b[0m\u001b[0m\n\u001b[1;32m----> 3\u001b[1;33m           verbose=1)\n\u001b[0m",
      "\u001b[1;32m~\\Anaconda2\\envs\\Dip-demo\\lib\\site-packages\\keras\\engine\\training.py\u001b[0m in \u001b[0;36mfit\u001b[1;34m(self, x, y, batch_size, epochs, verbose, callbacks, validation_split, validation_data, shuffle, class_weight, sample_weight, initial_epoch, steps_per_epoch, validation_steps, **kwargs)\u001b[0m\n\u001b[0;32m   1628\u001b[0m             \u001b[0msample_weight\u001b[0m\u001b[1;33m=\u001b[0m\u001b[0msample_weight\u001b[0m\u001b[1;33m,\u001b[0m\u001b[1;33m\u001b[0m\u001b[0m\n\u001b[0;32m   1629\u001b[0m             \u001b[0mclass_weight\u001b[0m\u001b[1;33m=\u001b[0m\u001b[0mclass_weight\u001b[0m\u001b[1;33m,\u001b[0m\u001b[1;33m\u001b[0m\u001b[0m\n\u001b[1;32m-> 1630\u001b[1;33m             batch_size=batch_size)\n\u001b[0m\u001b[0;32m   1631\u001b[0m         \u001b[1;31m# Prepare validation data.\u001b[0m\u001b[1;33m\u001b[0m\u001b[1;33m\u001b[0m\u001b[0m\n\u001b[0;32m   1632\u001b[0m         \u001b[0mdo_validation\u001b[0m \u001b[1;33m=\u001b[0m \u001b[1;32mFalse\u001b[0m\u001b[1;33m\u001b[0m\u001b[0m\n",
      "\u001b[1;32m~\\Anaconda2\\envs\\Dip-demo\\lib\\site-packages\\keras\\engine\\training.py\u001b[0m in \u001b[0;36m_standardize_user_data\u001b[1;34m(self, x, y, sample_weight, class_weight, check_array_lengths, batch_size)\u001b[0m\n\u001b[0;32m   1478\u001b[0m                                     \u001b[0moutput_shapes\u001b[0m\u001b[1;33m,\u001b[0m\u001b[1;33m\u001b[0m\u001b[0m\n\u001b[0;32m   1479\u001b[0m                                     \u001b[0mcheck_batch_axis\u001b[0m\u001b[1;33m=\u001b[0m\u001b[1;32mFalse\u001b[0m\u001b[1;33m,\u001b[0m\u001b[1;33m\u001b[0m\u001b[0m\n\u001b[1;32m-> 1480\u001b[1;33m                                     exception_prefix='target')\n\u001b[0m\u001b[0;32m   1481\u001b[0m         sample_weights = _standardize_sample_weights(sample_weight,\n\u001b[0;32m   1482\u001b[0m                                                      self._feed_output_names)\n",
      "\u001b[1;32m~\\Anaconda2\\envs\\Dip-demo\\lib\\site-packages\\keras\\engine\\training.py\u001b[0m in \u001b[0;36m_standardize_input_data\u001b[1;34m(data, names, shapes, check_batch_axis, exception_prefix)\u001b[0m\n\u001b[0;32m    111\u001b[0m                         \u001b[1;34m': expected '\u001b[0m \u001b[1;33m+\u001b[0m \u001b[0mnames\u001b[0m\u001b[1;33m[\u001b[0m\u001b[0mi\u001b[0m\u001b[1;33m]\u001b[0m \u001b[1;33m+\u001b[0m \u001b[1;34m' to have '\u001b[0m \u001b[1;33m+\u001b[0m\u001b[1;33m\u001b[0m\u001b[0m\n\u001b[0;32m    112\u001b[0m                         \u001b[0mstr\u001b[0m\u001b[1;33m(\u001b[0m\u001b[0mlen\u001b[0m\u001b[1;33m(\u001b[0m\u001b[0mshape\u001b[0m\u001b[1;33m)\u001b[0m\u001b[1;33m)\u001b[0m \u001b[1;33m+\u001b[0m \u001b[1;34m' dimensions, but got array '\u001b[0m\u001b[1;33m\u001b[0m\u001b[0m\n\u001b[1;32m--> 113\u001b[1;33m                         'with shape ' + str(data_shape))\n\u001b[0m\u001b[0;32m    114\u001b[0m                 \u001b[1;32mif\u001b[0m \u001b[1;32mnot\u001b[0m \u001b[0mcheck_batch_axis\u001b[0m\u001b[1;33m:\u001b[0m\u001b[1;33m\u001b[0m\u001b[0m\n\u001b[0;32m    115\u001b[0m                     \u001b[0mdata_shape\u001b[0m \u001b[1;33m=\u001b[0m \u001b[0mdata_shape\u001b[0m\u001b[1;33m[\u001b[0m\u001b[1;36m1\u001b[0m\u001b[1;33m:\u001b[0m\u001b[1;33m]\u001b[0m\u001b[1;33m\u001b[0m\u001b[0m\n",
      "\u001b[1;31mValueError\u001b[0m: Error when checking target: expected lambda_9 to have 1 dimensions, but got array with shape (100, 1)"
     ]
    }
   ],
   "source": [
    "fitted = model.fit(x, y, validation_data = (x,y),\n",
    "          batch_size=BATCH_SIZE, epochs=EPOCHS,\n",
    "          verbose=1)"
   ]
  },
  {
   "cell_type": "markdown",
   "metadata": {},
   "source": [
    "+ #### Test Model"
   ]
  },
  {
   "cell_type": "code",
   "execution_count": 49,
   "metadata": {
    "scrolled": true
   },
   "outputs": [
    {
     "name": "stdout",
     "output_type": "stream",
     "text": [
      "\t [0 0]  =  0\n",
      "\t predicted:  [ 0.]\n",
      "\t [0 1]  =  1\n",
      "\t predicted:  [ 1.]\n",
      "\t [0 2]  =  2\n",
      "\t predicted:  [ 2.]\n",
      "\t [0 3]  =  3\n",
      "\t predicted:  [ 3.]\n",
      "\t [0 4]  =  4\n",
      "\t predicted:  [ 4.]\n",
      "\t [0 5]  =  5\n",
      "\t predicted:  [ 5.]\n",
      "\t [0 6]  =  6\n",
      "\t predicted:  [ 6.]\n",
      "\t [0 7]  =  7\n",
      "\t predicted:  [ 7.]\n",
      "\t [0 8]  =  8\n",
      "\t predicted:  [ 8.]\n",
      "\t [0 9]  =  9\n",
      "\t predicted:  [ 9.]\n",
      "\t [1 0]  =  1\n",
      "\t predicted:  [ 1.]\n",
      "\t [1 1]  =  2\n",
      "\t predicted:  [ 2.]\n",
      "\t [1 2]  =  3\n",
      "\t predicted:  [ 3.]\n",
      "\t [1 3]  =  4\n",
      "\t predicted:  [ 4.]\n",
      "\t [1 4]  =  5\n",
      "\t predicted:  [ 5.]\n",
      "\t [1 5]  =  6\n",
      "\t predicted:  [ 6.]\n",
      "\t [1 6]  =  7\n",
      "\t predicted:  [ 7.]\n",
      "\t [1 7]  =  8\n",
      "\t predicted:  [ 8.]\n",
      "\t [1 8]  =  9\n",
      "\t predicted:  [ 9.]\n",
      "\t [1 9]  =  10\n",
      "\t predicted:  [ 10.]\n",
      "\t [2 0]  =  2\n",
      "\t predicted:  [ 2.]\n",
      "\t [2 1]  =  3\n",
      "\t predicted:  [ 3.]\n",
      "\t [2 2]  =  4\n",
      "\t predicted:  [ 4.]\n",
      "\t [2 3]  =  5\n",
      "\t predicted:  [ 5.]\n",
      "\t [2 4]  =  6\n",
      "\t predicted:  [ 6.]\n",
      "\t [2 5]  =  7\n",
      "\t predicted:  [ 7.]\n",
      "\t [2 6]  =  8\n",
      "\t predicted:  [ 8.]\n",
      "\t [2 7]  =  9\n",
      "\t predicted:  [ 9.]\n",
      "\t [2 8]  =  10\n",
      "\t predicted:  [ 10.]\n",
      "\t [2 9]  =  11\n",
      "\t predicted:  [ 11.]\n",
      "\t [3 0]  =  3\n",
      "\t predicted:  [ 3.]\n",
      "\t [3 1]  =  4\n",
      "\t predicted:  [ 4.]\n",
      "\t [3 2]  =  5\n",
      "\t predicted:  [ 5.]\n",
      "\t [3 3]  =  6\n",
      "\t predicted:  [ 6.]\n",
      "\t [3 4]  =  7\n",
      "\t predicted:  [ 7.]\n",
      "\t [3 5]  =  8\n",
      "\t predicted:  [ 8.]\n",
      "\t [3 6]  =  9\n",
      "\t predicted:  [ 9.]\n",
      "\t [3 7]  =  10\n",
      "\t predicted:  [ 10.]\n",
      "\t [3 8]  =  11\n",
      "\t predicted:  [ 11.]\n",
      "\t [3 9]  =  12\n",
      "\t predicted:  [ 12.]\n",
      "\t [4 0]  =  4\n",
      "\t predicted:  [ 4.]\n",
      "\t [4 1]  =  5\n",
      "\t predicted:  [ 5.]\n",
      "\t [4 2]  =  6\n",
      "\t predicted:  [ 6.]\n",
      "\t [4 3]  =  7\n",
      "\t predicted:  [ 7.]\n",
      "\t [4 4]  =  8\n",
      "\t predicted:  [ 8.]\n",
      "\t [4 5]  =  9\n",
      "\t predicted:  [ 9.]\n",
      "\t [4 6]  =  10\n",
      "\t predicted:  [ 10.]\n",
      "\t [4 7]  =  11\n",
      "\t predicted:  [ 11.]\n",
      "\t [4 8]  =  12\n",
      "\t predicted:  [ 12.]\n",
      "\t [4 9]  =  13\n",
      "\t predicted:  [ 13.]\n",
      "\t [5 0]  =  5\n",
      "\t predicted:  [ 5.]\n",
      "\t [5 1]  =  6\n",
      "\t predicted:  [ 6.]\n",
      "\t [5 2]  =  7\n",
      "\t predicted:  [ 7.]\n",
      "\t [5 3]  =  8\n",
      "\t predicted:  [ 8.]\n",
      "\t [5 4]  =  9\n",
      "\t predicted:  [ 9.]\n",
      "\t [5 5]  =  10\n",
      "\t predicted:  [ 10.]\n",
      "\t [5 6]  =  11\n",
      "\t predicted:  [ 11.]\n",
      "\t [5 7]  =  12\n",
      "\t predicted:  [ 12.]\n",
      "\t [5 8]  =  13\n",
      "\t predicted:  [ 13.]\n",
      "\t [5 9]  =  14\n",
      "\t predicted:  [ 14.]\n",
      "\t [6 0]  =  6\n",
      "\t predicted:  [ 6.]\n",
      "\t [6 1]  =  7\n",
      "\t predicted:  [ 7.]\n",
      "\t [6 2]  =  8\n",
      "\t predicted:  [ 8.]\n",
      "\t [6 3]  =  9\n",
      "\t predicted:  [ 9.]\n",
      "\t [6 4]  =  10\n",
      "\t predicted:  [ 10.]\n",
      "\t [6 5]  =  11\n",
      "\t predicted:  [ 11.]\n",
      "\t [6 6]  =  12\n",
      "\t predicted:  [ 12.]\n",
      "\t [6 7]  =  13\n",
      "\t predicted:  [ 13.]\n",
      "\t [6 8]  =  14\n",
      "\t predicted:  [ 14.]\n",
      "\t [6 9]  =  15\n",
      "\t predicted:  [ 15.]\n",
      "\t [7 0]  =  7\n",
      "\t predicted:  [ 7.]\n",
      "\t [7 1]  =  8\n",
      "\t predicted:  [ 8.]\n",
      "\t [7 2]  =  9\n",
      "\t predicted:  [ 9.]\n",
      "\t [7 3]  =  10\n",
      "\t predicted:  [ 10.]\n",
      "\t [7 4]  =  11\n",
      "\t predicted:  [ 11.]\n",
      "\t [7 5]  =  12\n",
      "\t predicted:  [ 12.]\n",
      "\t [7 6]  =  13\n",
      "\t predicted:  [ 13.]\n",
      "\t [7 7]  =  14\n",
      "\t predicted:  [ 14.]\n",
      "\t [7 8]  =  15\n",
      "\t predicted:  [ 15.]\n",
      "\t [7 9]  =  16\n",
      "\t predicted:  [ 16.]\n",
      "\t [8 0]  =  8\n",
      "\t predicted:  [ 8.]\n",
      "\t [8 1]  =  9\n",
      "\t predicted:  [ 9.]\n",
      "\t [8 2]  =  10\n",
      "\t predicted:  [ 10.]\n",
      "\t [8 3]  =  11\n",
      "\t predicted:  [ 11.]\n",
      "\t [8 4]  =  12\n",
      "\t predicted:  [ 12.]\n",
      "\t [8 5]  =  13\n",
      "\t predicted:  [ 13.]\n",
      "\t [8 6]  =  14\n",
      "\t predicted:  [ 14.]\n",
      "\t [8 7]  =  15\n",
      "\t predicted:  [ 15.]\n",
      "\t [8 8]  =  16\n",
      "\t predicted:  [ 16.]\n",
      "\t [8 9]  =  17\n",
      "\t predicted:  [ 17.]\n",
      "\t [9 0]  =  9\n",
      "\t predicted:  [ 9.]\n",
      "\t [9 1]  =  10\n",
      "\t predicted:  [ 10.]\n",
      "\t [9 2]  =  11\n",
      "\t predicted:  [ 11.]\n",
      "\t [9 3]  =  12\n",
      "\t predicted:  [ 12.]\n",
      "\t [9 4]  =  13\n",
      "\t predicted:  [ 13.]\n",
      "\t [9 5]  =  14\n",
      "\t predicted:  [ 14.]\n",
      "\t [9 6]  =  15\n",
      "\t predicted:  [ 15.]\n",
      "\t [9 7]  =  16\n",
      "\t predicted:  [ 16.]\n",
      "\t [9 8]  =  17\n",
      "\t predicted:  [ 17.]\n",
      "\t [9 9]  =  18\n",
      "\t predicted:  [ 18.]\n"
     ]
    }
   ],
   "source": [
    "out = model.predict(x)\n",
    "for i in range(100):\n",
    "    print ('\\t',x[i,:],' = ', y[i])\n",
    "    print('\\t predicted: ',out[i])"
   ]
  },
  {
   "cell_type": "markdown",
   "metadata": {},
   "source": [
    "+ #### Save Model"
   ]
  },
  {
   "cell_type": "code",
   "execution_count": 14,
   "metadata": {
    "collapsed": true
   },
   "outputs": [],
   "source": [
    "model.save_weights('adder_0-9_classifier.h5')"
   ]
  },
  {
   "cell_type": "code",
   "execution_count": 151,
   "metadata": {
    "collapsed": true
   },
   "outputs": [],
   "source": [
    "plot_model(model,to_file = 'mul_0-9.png',show_shapes=True)"
   ]
  }
 ],
 "metadata": {
  "kernelspec": {
   "display_name": "Python [conda env:Dip-demo]",
   "language": "python",
   "name": "conda-env-Dip-demo-py"
  },
  "language_info": {
   "codemirror_mode": {
    "name": "ipython",
    "version": 3
   },
   "file_extension": ".py",
   "mimetype": "text/x-python",
   "name": "python",
   "nbconvert_exporter": "python",
   "pygments_lexer": "ipython3",
   "version": "3.5.4"
  }
 },
 "nbformat": 4,
 "nbformat_minor": 2
}
