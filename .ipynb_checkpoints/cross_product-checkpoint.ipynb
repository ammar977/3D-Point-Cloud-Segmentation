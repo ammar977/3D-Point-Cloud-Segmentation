{
 "cells": [
  {
   "cell_type": "markdown",
   "metadata": {},
   "source": [
    "## Imports"
   ]
  },
  {
   "cell_type": "code",
   "execution_count": 71,
   "metadata": {},
   "outputs": [],
   "source": [
    "# import NALU files\n",
    "import sys\n",
    "sys.path.insert(0, 'C:/Users/Ammar/Documents/CV LAB internship/Sproj/NALU_files')\n",
    "from nalu import NALU\n",
    "from nac import NAC\n",
    "# import Keras items\n",
    "from keras.models import Model\n",
    "from keras.layers import Dense,Lambda,Concatenate,Input,Activation,Layer,Dropout\n",
    "from keras import backend as K\n",
    "from keras.utils import to_categorical,plot_model\n",
    "from keras.initializers import constant\n",
    "\n",
    "# import other libs\n",
    "\n",
    "import numpy as np\n",
    "# from itertools import combinations_with_replacement,product\n",
    "from sklearn.model_selection import train_test_split\n",
    "from tensorflow import floor as tf_floor\n",
    "from tensorflow.dtypes import as_string\n",
    "from tensorflow.strings import join,to_number\n",
    "from tensorflow import add"
   ]
  },
  {
   "cell_type": "markdown",
   "metadata": {},
   "source": [
    "## Parameters"
   ]
  },
  {
   "cell_type": "code",
   "execution_count": 2,
   "metadata": {},
   "outputs": [],
   "source": [
    "model_name = 'generalized_mult'\n",
    "EPOCHS = 2000\n",
    "BATCH_SIZE = 4\n",
    "num_digits = 3\n",
    "range_min = 0\n",
    "range_max = 999"
   ]
  },
  {
   "cell_type": "markdown",
   "metadata": {},
   "source": [
    "## Generate Dataset"
   ]
  },
  {
   "cell_type": "code",
   "execution_count": 3,
   "metadata": {},
   "outputs": [],
   "source": [
    "def sep(x,num_digits):\n",
    "    x = np.array([int(i) for i in str(x)])\n",
    "    while (x.shape[0] < num_digits):\n",
    "        x = np.insert(x,0,0)\n",
    "    return x"
   ]
  },
  {
   "cell_type": "code",
   "execution_count": null,
   "metadata": {},
   "outputs": [],
   "source": [
    "def sep2(x):\n",
    "    x = np.array([int(i) for i in str(x)])\n",
    "    return x"
   ]
  },
  {
   "cell_type": "code",
   "execution_count": 5,
   "metadata": {},
   "outputs": [
    {
     "name": "stdout",
     "output_type": "stream",
     "text": [
      "\t (100, 2, 3)\n",
      "\t (100, 6)\n"
     ]
    }
   ],
   "source": [
    "# Dataset for Division\n",
    "x_train_a = np.random.randint(low = range_min,high = range_max,size =100)\n",
    "x_train_b = np.random.randint(low = range_min,high = range_max,size =100)\n",
    "y_train_a = x_train_a / x_train_b\n",
    "y_train_a = y_train_a.astype(np.int32)\n",
    "y_train = np.empty((100,num_digits*2),dtype = np.int32)\n",
    "\n",
    "x_train = np.empty((100,2,num_digits),dtype = np.int32)\n",
    "for i in range(100):\n",
    "    x_train[i,0] = sep(x_train_a[i],num_digits)\n",
    "    x_train[i,1] = sep(x_train_b[i],num_digits)\n",
    "    y_train[i] = sep(y_train_a[i],num_digits*2)\n",
    "\n",
    "print('\\t',x_train.shape)\n",
    "print('\\t',y_train.shape)"
   ]
  },
  {
   "cell_type": "code",
   "execution_count": 4,
   "metadata": {},
   "outputs": [
    {
     "name": "stdout",
     "output_type": "stream",
     "text": [
      "\t (100, 2, 3)\n",
      "\t (100, 6)\n"
     ]
    }
   ],
   "source": [
    "x_train_a = np.random.randint(low = range_min,high = range_max,size =100)\n",
    "x_train_b = np.random.randint(low = range_min,high = range_max,size =100)\n",
    "\n",
    "x_train = np.empty((100,2,num_digits),dtype = np.int32)\n",
    "\n",
    "y_train_a = x_train_a * x_train_b\n",
    "y_train = np.empty((100,num_digits*2),dtype = np.int32)\n",
    "\n",
    "for i in range(100):\n",
    "    x_train[i,0] = sep(x_train_a[i],num_digits)\n",
    "    \n",
    "    x_train[i,1] = sep(x_train_b[i],num_digits)\n",
    "    y_train[i] = sep(y_train_a[i],num_digits*2)\n",
    "    \n",
    "print('\\t',x_train.shape)\n",
    "print('\\t',y_train.shape)"
   ]
  },
  {
   "cell_type": "markdown",
   "metadata": {},
   "source": [
    "## Model"
   ]
  },
  {
   "cell_type": "code",
   "execution_count": 5,
   "metadata": {},
   "outputs": [],
   "source": [
    "def net(inputs):\n",
    "    input_data = Input(shape = inputs)\n",
    "    out = Dense(30,activation = 'relu',name='my_layer')(input_data)\n",
    "    out = Dense(82,activation='softmax')(out)\n",
    "    \n",
    "    return Model(inputs = input_data,outputs = out)\n"
   ]
  },
  {
   "cell_type": "code",
   "execution_count": 6,
   "metadata": {},
   "outputs": [],
   "source": [
    "model_mul = net((2,))\n",
    "model_mul.trainable = False\n",
    "model_mul.compile(loss = 'categorical_crossentropy',optimizer = 'Adam',metrics = ['accuracy'])\n",
    "# model_mul.summary()\n",
    "model_mul.load_weights('mul_0-9_classifier.h5')"
   ]
  },
  {
   "cell_type": "code",
   "execution_count": 7,
   "metadata": {},
   "outputs": [],
   "source": [
    "def separator(inputs):\n",
    "    input_data = Input(shape = inputs)\n",
    "    # addition = Dense(1,kernel_initializer='ones',use_bias=False)(input_data)\n",
    "    carry = Dense(1,use_bias=False,kernel_initializer=constant(value=0.1))(input_data)\n",
    "    carry = Lambda(lambda x: tf_floor(x))(carry)\n",
    "    \n",
    "    ones_digit = Dense(1,use_bias=False,kernel_initializer=constant(value=10))(carry)\n",
    "    temp = Concatenate()([ones_digit,input_data])\n",
    "    ones_digit = Dense(1,use_bias=False)(temp)\n",
    "    \n",
    "    out = Concatenate()([carry,ones_digit])\n",
    "    return Model(inputs = input_data,outputs = out)"
   ]
  },
  {
   "cell_type": "code",
   "execution_count": 8,
   "metadata": {},
   "outputs": [],
   "source": [
    "model_separator = separator((1,))\n",
    "model_separator.layers[5].set_weights([np.array(([-1],[1]))])\n",
    "model_separator.trainable = False\n",
    "model_separator.compile(loss = 'MSE',optimizer = 'Adam',metrics = ['accuracy'])\n",
    "# model_separator.summary()"
   ]
  },
  {
   "cell_type": "code",
   "execution_count": 45,
   "metadata": {},
   "outputs": [],
   "source": [
    "def net_mul(inputs):\n",
    "    input_data = Input(shape = inputs)\n",
    "    n = input_data[0].shape[-1]\n",
    "    m = input_data[1].shape[-1]\n",
    "    # get initial products\n",
    "    products=[]\n",
    "    for i in range(input_data.shape[-1]):\n",
    "        mul = Lambda(lambda x: x[:,0,i:i+1])(input_data)\n",
    "        for j in range(input_data.shape[-1]):\n",
    "            a = Lambda(lambda x: x[:,1,j:j+1])(input_data)\n",
    "            concat = Concatenate()([a,mul])\n",
    "            prod = model_mul(concat)\n",
    "            prod =  Lambda(lambda x: K.expand_dims(K.cast(K.argmax(x),dtype ='float32')))(prod)\n",
    "            products.append(prod)\n",
    "            \n",
    "    # get individual rows\n",
    "    products = products[::-1]\n",
    "    row_values = []\n",
    "    prod_index = 0\n",
    "    for r in range(n):\n",
    "        for i in range(m+1):\n",
    "            if i==0:\n",
    "                sep = model_separator(products[prod_index])\n",
    "                ones_digit = Lambda(lambda x: x[:,1:])(sep)\n",
    "                carry = Lambda(lambda x: x[:,0:1])(sep)\n",
    "                row_values.append(ones_digit)\n",
    "                prod_index+=1\n",
    "                \n",
    "            elif i == m :\n",
    "                row_values.append(carry)\n",
    "            else:\n",
    "                concat = Concatenate()([products[prod_index],carry])\n",
    "                addition =  Dense(1,use_bias=False,kernel_initializer='ones')(concat)\n",
    "                sep = model_separator(addition)\n",
    "                ones_digit = Lambda(lambda x: x[:,1:])(sep)\n",
    "                carry = Lambda(lambda x: x[:,0:1])(sep)\n",
    "                row_values.append(ones_digit)\n",
    "                prod_index+=1\n",
    "                \n",
    "    final_row = []\n",
    "    current_ind = 0\n",
    "    for i in range(m+n):\n",
    "        if i == 0:\n",
    "            final_row.append(row_values[0])\n",
    "            sep = model_separator(row_values[0])\n",
    "            carry = Lambda(lambda x: x[:,0:1])(sep)\n",
    "            current_ind+=1\n",
    "        else:\n",
    "            to_add = []\n",
    "            to_add.append(row_values[current_ind])\n",
    "            to_add.append(carry)\n",
    "            next_ind = current_ind + m\n",
    "            while(next_ind < n * (m+1) and next_ind%(m+1)!=0):\n",
    "                to_add.append(row_values[next_ind])\n",
    "                next_ind+=m\n",
    "            if (next_ind < n * (m+1) and next_ind%(m+1)==0):\n",
    "                to_add.append(row_values[next_ind])\n",
    "                \n",
    "            concat = Concatenate()(to_add)\n",
    "            addition =  Dense(1,use_bias=False,kernel_initializer='ones')(concat)\n",
    "            sep = model_separator(addition)\n",
    "            ones_digit = Lambda(lambda x: x[:,1:])(sep)\n",
    "            carry = Lambda(lambda x: x[:,0:1])(sep)\n",
    "            final_row.append(ones_digit)\n",
    "            \n",
    "            if (current_ind + 1) % (m+1) !=0:\n",
    "                current_ind+=1\n",
    "            else:\n",
    "                current_ind+=m+1\n",
    "\n",
    "    \n",
    "    concat = Concatenate()(final_row[::-1])\n",
    "    return Model(inputs = input_data,outputs =out)"
   ]
  },
  {
   "cell_type": "markdown",
   "metadata": {},
   "source": [
    "+ #### Model Initilization And Details"
   ]
  },
  {
   "cell_type": "code",
   "execution_count": 38,
   "metadata": {},
   "outputs": [],
   "source": [
    "model_mult = net_mul((2,num_digits))\n",
    "model_mult.trainable=False\n",
    "model_mult.compile(loss = 'MSE',optimizer = 'Adam',metrics = ['accuracy'])\n",
    "# model_mult.summary()"
   ]
  },
  {
   "cell_type": "code",
   "execution_count": 118,
   "metadata": {},
   "outputs": [],
   "source": [
    "def my_init(shape,dtype='float32'):\n",
    "    x = np.array(([1],[-1]),dtype = dtype)\n",
    "    print(x.shape)\n",
    "    return [x]"
   ]
  },
  {
   "cell_type": "code",
   "execution_count": 12,
   "metadata": {},
   "outputs": [],
   "source": [
    "def remove_neg(x):\n",
    "    return x[x >= 0]"
   ]
  },
  {
   "cell_type": "code",
   "execution_count": 14,
   "metadata": {},
   "outputs": [],
   "source": [
    "def my_func(divisor):\n",
    "    print(divisor.shape)\n",
    "    length = divisor.shape[-1]\n",
    "    data = np.empty((10,2,length))\n",
    "    for i in range(10):\n",
    "        for j in range(length):\n",
    "            data[i,0,j] = 0\n",
    "            data[i,1,j] = divisor[0]\n",
    "\n",
    "        data[i,0,length-1] = i\n",
    "        data[i,1,length-1] = divisor[-1]\n",
    "\n",
    "    return data\n",
    "        "
   ]
  },
  {
   "cell_type": "code",
   "execution_count": 87,
   "metadata": {},
   "outputs": [],
   "source": [
    "def set_data(num_digits):\n",
    "    data = np.zeros((10,num_digits))\n",
    "    for i in range(10):\n",
    "        for j in range(num_digits-1):\n",
    "            data[i,j] = 0\n",
    "        data[i,num_digits-1] = i\n",
    "    return data"
   ]
  },
  {
   "cell_type": "code",
   "execution_count": 148,
   "metadata": {},
   "outputs": [],
   "source": [
    "def net_sub(inputs):\n",
    "    input_data = Input(shape=inputs)\n",
    "    out = Dense(1,use_bias = False)(input_data)\n",
    "    \n",
    "    return Model(inputs = input_data,outputs =out)"
   ]
  },
  {
   "cell_type": "code",
   "execution_count": 149,
   "metadata": {},
   "outputs": [],
   "source": [
    "model_sub = net_sub((2,))\n",
    "model_sub.layers[1].set_weights([np.array(([-1],[1]))])\n",
    "model_sub.trainable=False\n",
    "model_sub.compile(loss = 'MSE',optimizer = 'Adam',metrics = ['accuracy'])\n"
   ]
  },
  {
   "cell_type": "code",
   "execution_count": 162,
   "metadata": {},
   "outputs": [],
   "source": [
    "def net_div(inputs):\n",
    "    input_data = Input(shape = inputs)\n",
    "    quotient = []\n",
    "    \n",
    "    ind = input_data[1].shape[-1] # length of divisor\n",
    "    chunk = Lambda(lambda x: x[:,1,:ind])(input_data)\n",
    "    divisor = Lambda(lambda x: x[:,0,:])(input_data)\n",
    "    length = divisor.shape[-1]\n",
    "#     data = Input(shape=(10,length))\n",
    "    \n",
    "    \n",
    "    while(1):\n",
    "        temp = np.zeros((length,))\n",
    "        products = []\n",
    "        differences = []\n",
    "        for i in range(10):\n",
    "            for j in range(length-1):\n",
    "                temp[j] = 0\n",
    "            \n",
    "            temp[length-1] = i\n",
    "            temp1 = K.variable(temp)\n",
    "            data = Lambda(lambda x: K.stack(x,axis=0))([divisor[0],temp1])\n",
    "            data = Lambda(lambda x: K.expand_dims(x,0))(data)\n",
    "            \n",
    "            n = data[:,0].shape[-1]\n",
    "            m = data[:,1].shape[-1]\n",
    "            # get initial products\n",
    "            products=[]\n",
    "            for i in range(data.shape[-1]):\n",
    "                mul = Lambda(lambda x: x[:,0,i:i+1])(data)\n",
    "                for j in range(data.shape[-1]):\n",
    "                    a = Lambda(lambda x: x[:,1,j:j+1])(data)\n",
    "                    concat = Concatenate()([a,mul])\n",
    "                    prod = model_mul(concat)\n",
    "                    prod =  Lambda(lambda x: K.expand_dims(K.cast(K.argmax(x),dtype ='float32')))(prod)\n",
    "                    products.append(prod)\n",
    "\n",
    "            # get individual rows\n",
    "            products = products[::-1]\n",
    "            row_values = []\n",
    "            prod_index = 0\n",
    "            for r in range(n):\n",
    "                for i in range(m+1):\n",
    "                    if i==0:\n",
    "                        sep = model_separator(products[prod_index])\n",
    "                        ones_digit = Lambda(lambda x: x[:,1:])(sep)\n",
    "                        carry = Lambda(lambda x: x[:,0:1])(sep)\n",
    "                        row_values.append(ones_digit)\n",
    "                        prod_index+=1\n",
    "\n",
    "                    elif i == m :\n",
    "                        row_values.append(carry)\n",
    "                    else:\n",
    "                        concat = Concatenate()([products[prod_index],carry])\n",
    "                        addition =  Dense(1,use_bias=False,kernel_initializer='ones')(concat)\n",
    "                        sep = model_separator(addition)\n",
    "                        ones_digit = Lambda(lambda x: x[:,1:])(sep)\n",
    "                        carry = Lambda(lambda x: x[:,0:1])(sep)\n",
    "                        row_values.append(ones_digit)\n",
    "                        prod_index+=1\n",
    "\n",
    "            final_row = []\n",
    "            current_ind = 0\n",
    "            for i in range(m+n):\n",
    "                if i == 0:\n",
    "                    final_row.append(row_values[0])\n",
    "                    sep = model_separator(row_values[0])\n",
    "                    carry = Lambda(lambda x: x[:,0:1])(sep)\n",
    "                    current_ind+=1\n",
    "                else:\n",
    "                    to_add = []\n",
    "                    to_add.append(row_values[current_ind])\n",
    "                    to_add.append(carry)\n",
    "                    next_ind = current_ind + m\n",
    "                    while(next_ind < n * (m+1) and next_ind%(m+1)!=0):\n",
    "                        to_add.append(row_values[next_ind])\n",
    "                        next_ind+=m\n",
    "                    if (next_ind < n * (m+1) and next_ind%(m+1)==0):\n",
    "                        to_add.append(row_values[next_ind])\n",
    "\n",
    "                    concat = Concatenate()(to_add)\n",
    "                    addition =  Dense(1,use_bias=False,kernel_initializer='ones')(concat)\n",
    "                    sep = model_separator(addition)\n",
    "                    ones_digit = Lambda(lambda x: x[:,1:])(sep)\n",
    "                    carry = Lambda(lambda x: x[:,0:1])(sep)\n",
    "                    final_row.append(ones_digit)\n",
    "\n",
    "                    if (current_ind + 1) % (m+1) !=0:\n",
    "                        current_ind+=1\n",
    "                    else:\n",
    "                        current_ind+=m+1\n",
    "\n",
    "\n",
    "            concat = Concatenate()(final_row[::-1])\n",
    "                \n",
    "            \n",
    "#             ans = model_mult(data)\n",
    "            ans = concat\n",
    "            products.append(ans)\n",
    "            temp2 = Lambda(lambda x: as_string(x))(ans)\n",
    "            ans = Lambda(lambda x: to_number(join([temp2[0,0],temp2[0,1],temp2[0,2],temp2[0,3],temp2[0,4],temp2[0,5]])))(temp2)\n",
    "            ans1 = K.expand_dims(ans)\n",
    "            \n",
    "            chunk1 = Lambda(lambda x: as_string(x))(chunk)\n",
    "            chunk1 = Lambda(lambda x: K.expand_dims(to_number(join([chunk1[0,0],chunk1[0,1],chunk1[0,2]]))))(chunk1)\n",
    "            concat = Concatenate()([chunk1,ans1])\n",
    "            concat = K.expand_dims(concat,0)\n",
    "            subtraction = model_sub(concat)\n",
    "            differences.append(subtraction)\n",
    "        \n",
    "        print(len(differences),differences)\n",
    "        min_index =  Lambda(lambda x: K.expand_dims(K.cast(K.argmin(x),dtype ='float32')))(differences)\n",
    "        minimum = Lambda(lambda x: np.min(remove_neg(x)))(differences)\n",
    "        quotient.append(min_index)\n",
    "\n",
    "        # next chunk\n",
    "        if ind < input_data[1].shape[-1] :\n",
    "\n",
    "            chunk = Dense(1,use_bias=False,kernel_initializer=constant(10))(minimum)\n",
    "            next_digit = Lambda(lambda x: x[:,ind,ind+1])(input_data)\n",
    "            concat = Concatenate()([chunk,next_digit])\n",
    "            chunk = Dense(1,use_bias=False,kernel_initializer='ones')(concat)\n",
    "            ind+=1\n",
    "        else:\n",
    "            break\n",
    "\n",
    "    concat = Concatenate()([quotient])\n",
    "    return Model(inputs = input_data,outputs = concat)\n",
    "        "
   ]
  },
  {
   "cell_type": "code",
   "execution_count": 163,
   "metadata": {},
   "outputs": [
    {
     "name": "stdout",
     "output_type": "stream",
     "text": [
      "10 [<tf.Tensor 'model_29_33/dense_443/MatMul:0' shape=(1, 1) dtype=float32>, <tf.Tensor 'model_29_34/dense_443/MatMul:0' shape=(1, 1) dtype=float32>, <tf.Tensor 'model_29_35/dense_443/MatMul:0' shape=(1, 1) dtype=float32>, <tf.Tensor 'model_29_36/dense_443/MatMul:0' shape=(1, 1) dtype=float32>, <tf.Tensor 'model_29_37/dense_443/MatMul:0' shape=(1, 1) dtype=float32>, <tf.Tensor 'model_29_38/dense_443/MatMul:0' shape=(1, 1) dtype=float32>, <tf.Tensor 'model_29_39/dense_443/MatMul:0' shape=(1, 1) dtype=float32>, <tf.Tensor 'model_29_40/dense_443/MatMul:0' shape=(1, 1) dtype=float32>, <tf.Tensor 'model_29_41/dense_443/MatMul:0' shape=(1, 1) dtype=float32>, <tf.Tensor 'model_29_42/dense_443/MatMul:0' shape=(1, 1) dtype=float32>]\n"
     ]
    },
    {
     "ename": "TypeError",
     "evalue": "'>=' not supported between instances of 'list' and 'int'",
     "output_type": "error",
     "traceback": [
      "\u001b[1;31m---------------------------------------------------------------------------\u001b[0m",
      "\u001b[1;31mTypeError\u001b[0m                                 Traceback (most recent call last)",
      "\u001b[1;32m<ipython-input-163-f7b8d5ad6c2a>\u001b[0m in \u001b[0;36m<module>\u001b[1;34m\u001b[0m\n\u001b[1;32m----> 1\u001b[1;33m \u001b[0mmodel_div\u001b[0m \u001b[1;33m=\u001b[0m \u001b[0mnet_div\u001b[0m\u001b[1;33m(\u001b[0m\u001b[1;33m(\u001b[0m\u001b[1;36m2\u001b[0m\u001b[1;33m,\u001b[0m\u001b[0mnum_digits\u001b[0m\u001b[1;33m)\u001b[0m\u001b[1;33m)\u001b[0m\u001b[1;33m\u001b[0m\u001b[1;33m\u001b[0m\u001b[0m\n\u001b[0m\u001b[0;32m      2\u001b[0m \u001b[0mmodel_div\u001b[0m\u001b[1;33m.\u001b[0m\u001b[0mtrainable\u001b[0m\u001b[1;33m=\u001b[0m\u001b[1;32mFalse\u001b[0m\u001b[1;33m\u001b[0m\u001b[1;33m\u001b[0m\u001b[0m\n\u001b[0;32m      3\u001b[0m \u001b[0mmodel_div\u001b[0m\u001b[1;33m.\u001b[0m\u001b[0mcompile\u001b[0m\u001b[1;33m(\u001b[0m\u001b[0mloss\u001b[0m \u001b[1;33m=\u001b[0m \u001b[1;34m'MSE'\u001b[0m\u001b[1;33m,\u001b[0m\u001b[0moptimizer\u001b[0m \u001b[1;33m=\u001b[0m \u001b[1;34m'Adam'\u001b[0m\u001b[1;33m,\u001b[0m\u001b[0mmetrics\u001b[0m \u001b[1;33m=\u001b[0m \u001b[1;33m[\u001b[0m\u001b[1;34m'accuracy'\u001b[0m\u001b[1;33m]\u001b[0m\u001b[1;33m)\u001b[0m\u001b[1;33m\u001b[0m\u001b[1;33m\u001b[0m\u001b[0m\n\u001b[0;32m      4\u001b[0m \u001b[1;31m# model.summary()\u001b[0m\u001b[1;33m\u001b[0m\u001b[1;33m\u001b[0m\u001b[1;33m\u001b[0m\u001b[0m\n",
      "\u001b[1;32m<ipython-input-162-f91ab7ba3ec8>\u001b[0m in \u001b[0;36mnet_div\u001b[1;34m(inputs)\u001b[0m\n\u001b[0;32m    111\u001b[0m         \u001b[0mprint\u001b[0m\u001b[1;33m(\u001b[0m\u001b[0mlen\u001b[0m\u001b[1;33m(\u001b[0m\u001b[0mdifferences\u001b[0m\u001b[1;33m)\u001b[0m\u001b[1;33m,\u001b[0m\u001b[0mdifferences\u001b[0m\u001b[1;33m)\u001b[0m\u001b[1;33m\u001b[0m\u001b[1;33m\u001b[0m\u001b[0m\n\u001b[0;32m    112\u001b[0m         \u001b[0mmin_index\u001b[0m \u001b[1;33m=\u001b[0m  \u001b[0mLambda\u001b[0m\u001b[1;33m(\u001b[0m\u001b[1;32mlambda\u001b[0m \u001b[0mx\u001b[0m\u001b[1;33m:\u001b[0m \u001b[0mK\u001b[0m\u001b[1;33m.\u001b[0m\u001b[0mexpand_dims\u001b[0m\u001b[1;33m(\u001b[0m\u001b[0mK\u001b[0m\u001b[1;33m.\u001b[0m\u001b[0mcast\u001b[0m\u001b[1;33m(\u001b[0m\u001b[0mK\u001b[0m\u001b[1;33m.\u001b[0m\u001b[0margmin\u001b[0m\u001b[1;33m(\u001b[0m\u001b[0mx\u001b[0m\u001b[1;33m)\u001b[0m\u001b[1;33m,\u001b[0m\u001b[0mdtype\u001b[0m \u001b[1;33m=\u001b[0m\u001b[1;34m'float32'\u001b[0m\u001b[1;33m)\u001b[0m\u001b[1;33m)\u001b[0m\u001b[1;33m)\u001b[0m\u001b[1;33m(\u001b[0m\u001b[0mdifferences\u001b[0m\u001b[1;33m)\u001b[0m\u001b[1;33m\u001b[0m\u001b[1;33m\u001b[0m\u001b[0m\n\u001b[1;32m--> 113\u001b[1;33m         \u001b[0mminimum\u001b[0m \u001b[1;33m=\u001b[0m \u001b[0mLambda\u001b[0m\u001b[1;33m(\u001b[0m\u001b[1;32mlambda\u001b[0m \u001b[0mx\u001b[0m\u001b[1;33m:\u001b[0m \u001b[0mnp\u001b[0m\u001b[1;33m.\u001b[0m\u001b[0mmin\u001b[0m\u001b[1;33m(\u001b[0m\u001b[0mremove_neg\u001b[0m\u001b[1;33m(\u001b[0m\u001b[0mx\u001b[0m\u001b[1;33m)\u001b[0m\u001b[1;33m)\u001b[0m\u001b[1;33m)\u001b[0m\u001b[1;33m(\u001b[0m\u001b[0mdifferences\u001b[0m\u001b[1;33m)\u001b[0m\u001b[1;33m\u001b[0m\u001b[1;33m\u001b[0m\u001b[0m\n\u001b[0m\u001b[0;32m    114\u001b[0m         \u001b[0mquotient\u001b[0m\u001b[1;33m.\u001b[0m\u001b[0mappend\u001b[0m\u001b[1;33m(\u001b[0m\u001b[0mmin_index\u001b[0m\u001b[1;33m)\u001b[0m\u001b[1;33m\u001b[0m\u001b[1;33m\u001b[0m\u001b[0m\n\u001b[0;32m    115\u001b[0m \u001b[1;33m\u001b[0m\u001b[0m\n",
      "\u001b[1;32m~\\.conda\\envs\\neuralnets\\lib\\site-packages\\keras\\engine\\base_layer.py\u001b[0m in \u001b[0;36m__call__\u001b[1;34m(self, inputs, **kwargs)\u001b[0m\n\u001b[0;32m    455\u001b[0m             \u001b[1;31m# Actually call the layer,\u001b[0m\u001b[1;33m\u001b[0m\u001b[1;33m\u001b[0m\u001b[1;33m\u001b[0m\u001b[0m\n\u001b[0;32m    456\u001b[0m             \u001b[1;31m# collecting output(s), mask(s), and shape(s).\u001b[0m\u001b[1;33m\u001b[0m\u001b[1;33m\u001b[0m\u001b[1;33m\u001b[0m\u001b[0m\n\u001b[1;32m--> 457\u001b[1;33m             \u001b[0moutput\u001b[0m \u001b[1;33m=\u001b[0m \u001b[0mself\u001b[0m\u001b[1;33m.\u001b[0m\u001b[0mcall\u001b[0m\u001b[1;33m(\u001b[0m\u001b[0minputs\u001b[0m\u001b[1;33m,\u001b[0m \u001b[1;33m**\u001b[0m\u001b[0mkwargs\u001b[0m\u001b[1;33m)\u001b[0m\u001b[1;33m\u001b[0m\u001b[1;33m\u001b[0m\u001b[0m\n\u001b[0m\u001b[0;32m    458\u001b[0m             \u001b[0moutput_mask\u001b[0m \u001b[1;33m=\u001b[0m \u001b[0mself\u001b[0m\u001b[1;33m.\u001b[0m\u001b[0mcompute_mask\u001b[0m\u001b[1;33m(\u001b[0m\u001b[0minputs\u001b[0m\u001b[1;33m,\u001b[0m \u001b[0mprevious_mask\u001b[0m\u001b[1;33m)\u001b[0m\u001b[1;33m\u001b[0m\u001b[1;33m\u001b[0m\u001b[0m\n\u001b[0;32m    459\u001b[0m \u001b[1;33m\u001b[0m\u001b[0m\n",
      "\u001b[1;32m~\\.conda\\envs\\neuralnets\\lib\\site-packages\\keras\\layers\\core.py\u001b[0m in \u001b[0;36mcall\u001b[1;34m(self, inputs, mask)\u001b[0m\n\u001b[0;32m    685\u001b[0m         \u001b[1;32mif\u001b[0m \u001b[0mhas_arg\u001b[0m\u001b[1;33m(\u001b[0m\u001b[0mself\u001b[0m\u001b[1;33m.\u001b[0m\u001b[0mfunction\u001b[0m\u001b[1;33m,\u001b[0m \u001b[1;34m'mask'\u001b[0m\u001b[1;33m)\u001b[0m\u001b[1;33m:\u001b[0m\u001b[1;33m\u001b[0m\u001b[1;33m\u001b[0m\u001b[0m\n\u001b[0;32m    686\u001b[0m             \u001b[0marguments\u001b[0m\u001b[1;33m[\u001b[0m\u001b[1;34m'mask'\u001b[0m\u001b[1;33m]\u001b[0m \u001b[1;33m=\u001b[0m \u001b[0mmask\u001b[0m\u001b[1;33m\u001b[0m\u001b[1;33m\u001b[0m\u001b[0m\n\u001b[1;32m--> 687\u001b[1;33m         \u001b[1;32mreturn\u001b[0m \u001b[0mself\u001b[0m\u001b[1;33m.\u001b[0m\u001b[0mfunction\u001b[0m\u001b[1;33m(\u001b[0m\u001b[0minputs\u001b[0m\u001b[1;33m,\u001b[0m \u001b[1;33m**\u001b[0m\u001b[0marguments\u001b[0m\u001b[1;33m)\u001b[0m\u001b[1;33m\u001b[0m\u001b[1;33m\u001b[0m\u001b[0m\n\u001b[0m\u001b[0;32m    688\u001b[0m \u001b[1;33m\u001b[0m\u001b[0m\n\u001b[0;32m    689\u001b[0m     \u001b[1;32mdef\u001b[0m \u001b[0mcompute_mask\u001b[0m\u001b[1;33m(\u001b[0m\u001b[0mself\u001b[0m\u001b[1;33m,\u001b[0m \u001b[0minputs\u001b[0m\u001b[1;33m,\u001b[0m \u001b[0mmask\u001b[0m\u001b[1;33m=\u001b[0m\u001b[1;32mNone\u001b[0m\u001b[1;33m)\u001b[0m\u001b[1;33m:\u001b[0m\u001b[1;33m\u001b[0m\u001b[1;33m\u001b[0m\u001b[0m\n",
      "\u001b[1;32m<ipython-input-162-f91ab7ba3ec8>\u001b[0m in \u001b[0;36m<lambda>\u001b[1;34m(x)\u001b[0m\n\u001b[0;32m    111\u001b[0m         \u001b[0mprint\u001b[0m\u001b[1;33m(\u001b[0m\u001b[0mlen\u001b[0m\u001b[1;33m(\u001b[0m\u001b[0mdifferences\u001b[0m\u001b[1;33m)\u001b[0m\u001b[1;33m,\u001b[0m\u001b[0mdifferences\u001b[0m\u001b[1;33m)\u001b[0m\u001b[1;33m\u001b[0m\u001b[1;33m\u001b[0m\u001b[0m\n\u001b[0;32m    112\u001b[0m         \u001b[0mmin_index\u001b[0m \u001b[1;33m=\u001b[0m  \u001b[0mLambda\u001b[0m\u001b[1;33m(\u001b[0m\u001b[1;32mlambda\u001b[0m \u001b[0mx\u001b[0m\u001b[1;33m:\u001b[0m \u001b[0mK\u001b[0m\u001b[1;33m.\u001b[0m\u001b[0mexpand_dims\u001b[0m\u001b[1;33m(\u001b[0m\u001b[0mK\u001b[0m\u001b[1;33m.\u001b[0m\u001b[0mcast\u001b[0m\u001b[1;33m(\u001b[0m\u001b[0mK\u001b[0m\u001b[1;33m.\u001b[0m\u001b[0margmin\u001b[0m\u001b[1;33m(\u001b[0m\u001b[0mx\u001b[0m\u001b[1;33m)\u001b[0m\u001b[1;33m,\u001b[0m\u001b[0mdtype\u001b[0m \u001b[1;33m=\u001b[0m\u001b[1;34m'float32'\u001b[0m\u001b[1;33m)\u001b[0m\u001b[1;33m)\u001b[0m\u001b[1;33m)\u001b[0m\u001b[1;33m(\u001b[0m\u001b[0mdifferences\u001b[0m\u001b[1;33m)\u001b[0m\u001b[1;33m\u001b[0m\u001b[1;33m\u001b[0m\u001b[0m\n\u001b[1;32m--> 113\u001b[1;33m         \u001b[0mminimum\u001b[0m \u001b[1;33m=\u001b[0m \u001b[0mLambda\u001b[0m\u001b[1;33m(\u001b[0m\u001b[1;32mlambda\u001b[0m \u001b[0mx\u001b[0m\u001b[1;33m:\u001b[0m \u001b[0mnp\u001b[0m\u001b[1;33m.\u001b[0m\u001b[0mmin\u001b[0m\u001b[1;33m(\u001b[0m\u001b[0mremove_neg\u001b[0m\u001b[1;33m(\u001b[0m\u001b[0mx\u001b[0m\u001b[1;33m)\u001b[0m\u001b[1;33m)\u001b[0m\u001b[1;33m)\u001b[0m\u001b[1;33m(\u001b[0m\u001b[0mdifferences\u001b[0m\u001b[1;33m)\u001b[0m\u001b[1;33m\u001b[0m\u001b[1;33m\u001b[0m\u001b[0m\n\u001b[0m\u001b[0;32m    114\u001b[0m         \u001b[0mquotient\u001b[0m\u001b[1;33m.\u001b[0m\u001b[0mappend\u001b[0m\u001b[1;33m(\u001b[0m\u001b[0mmin_index\u001b[0m\u001b[1;33m)\u001b[0m\u001b[1;33m\u001b[0m\u001b[1;33m\u001b[0m\u001b[0m\n\u001b[0;32m    115\u001b[0m \u001b[1;33m\u001b[0m\u001b[0m\n",
      "\u001b[1;32m<ipython-input-12-393be78df119>\u001b[0m in \u001b[0;36mremove_neg\u001b[1;34m(x)\u001b[0m\n\u001b[0;32m      1\u001b[0m \u001b[1;32mdef\u001b[0m \u001b[0mremove_neg\u001b[0m\u001b[1;33m(\u001b[0m\u001b[0mx\u001b[0m\u001b[1;33m)\u001b[0m\u001b[1;33m:\u001b[0m\u001b[1;33m\u001b[0m\u001b[1;33m\u001b[0m\u001b[0m\n\u001b[1;32m----> 2\u001b[1;33m     \u001b[1;32mreturn\u001b[0m \u001b[0mx\u001b[0m\u001b[1;33m[\u001b[0m\u001b[0mx\u001b[0m \u001b[1;33m>=\u001b[0m \u001b[1;36m0\u001b[0m\u001b[1;33m]\u001b[0m\u001b[1;33m\u001b[0m\u001b[1;33m\u001b[0m\u001b[0m\n\u001b[0m",
      "\u001b[1;31mTypeError\u001b[0m: '>=' not supported between instances of 'list' and 'int'"
     ]
    }
   ],
   "source": [
    "model_div = net_div((2,num_digits))\n",
    "model_div.trainable=False\n",
    "model_div.compile(loss = 'MSE',optimizer = 'Adam',metrics = ['accuracy'])\n",
    "# model.summary()"
   ]
  },
  {
   "cell_type": "markdown",
   "metadata": {},
   "source": [
    "+ #### Test Model"
   ]
  },
  {
   "cell_type": "code",
   "execution_count": 75,
   "metadata": {},
   "outputs": [
    {
     "name": "stdout",
     "output_type": "stream",
     "text": [
      "(1, 2, 3)\n",
      "\n",
      " \t [5 5 4]  *  [7 6 2]  =  [4 2 2 1 4 8]\n",
      "\t predicted:  [4. 2. 2. 1. 4. 8.]\n"
     ]
    }
   ],
   "source": [
    "out = model_mult.predict(x_train[0:1])\n",
    "print(x_train[0:1].shape)\n",
    "for i in range(out.shape[0]):\n",
    "    print ('\\n \\t',x_train[i,0],' * ',x_train[i,1],' = ', y_train[i])\n",
    "    print('\\t predicted: ',out[i])"
   ]
  },
  {
   "cell_type": "markdown",
   "metadata": {},
   "source": [
    "+ #### Save Model"
   ]
  },
  {
   "cell_type": "code",
   "execution_count": null,
   "metadata": {},
   "outputs": [],
   "source": [
    "# plot_model(model,to_file = 'final.png',show_shapes=True)"
   ]
  },
  {
   "cell_type": "code",
   "execution_count": null,
   "metadata": {},
   "outputs": [],
   "source": []
  }
 ],
 "metadata": {
  "kernelspec": {
   "display_name": "Python 3",
   "language": "python",
   "name": "python3"
  },
  "language_info": {
   "codemirror_mode": {
    "name": "ipython",
    "version": 3
   },
   "file_extension": ".py",
   "mimetype": "text/x-python",
   "name": "python",
   "nbconvert_exporter": "python",
   "pygments_lexer": "ipython3",
   "version": "3.6.8"
  }
 },
 "nbformat": 4,
 "nbformat_minor": 2
}
