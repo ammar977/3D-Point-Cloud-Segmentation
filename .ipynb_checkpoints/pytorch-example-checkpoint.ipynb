{
 "cells": [
  {
   "cell_type": "code",
   "execution_count": 6,
   "metadata": {},
   "outputs": [],
   "source": [
    "import numpy as np\n",
    "import torch.nn as nn\n",
    "import torch.nn.functional as F\n",
    "import torch.optim as optim\n",
    "import torch"
   ]
  },
  {
   "cell_type": "code",
   "execution_count": 29,
   "metadata": {},
   "outputs": [],
   "source": [
    "epochs = 30\n",
    "range_min = -999\n",
    "range_max = 999\n",
    "num_train_samples = 800\n",
    "num_test_samples = 200\n",
    "batch_size = 4 \n",
    "num_digits = 3 "
   ]
  },
  {
   "cell_type": "code",
   "execution_count": 26,
   "metadata": {},
   "outputs": [],
   "source": [
    "x = np.random.randint(low = range_min,high = range_max,size = (num_train_samples,2))\n",
    "y = x[:,0] * x[:,1]\n",
    "train_data = torch.from_numpy(x).type(torch.FloatTensor)\n",
    "train_labels = torch.from_numpy(y).type(torch.FloatTensor)\n",
    "x = np.random.randint(low = range_min,high = range_max,size = (num_test_samples,2))\n",
    "y = x[:,0] * x[:,1]\n",
    "test_data = torch.from_numpy(x).type(torch.FloatTensor)\n",
    "test_labels = torch.from_numpy(y).type(torch.FloatTensor)"
   ]
  },
  {
   "cell_type": "code",
   "execution_count": 14,
   "metadata": {},
   "outputs": [],
   "source": [
    "class Net(nn.Module):\n",
    "    def __init__(self):\n",
    "        super(Net,self).__init__()\n",
    "        self.fc1 = nn.Linear(2,10)\n",
    "        self.fc2 = nn.Linear(10,20)\n",
    "        self.fc3 = nn.Linear(20,10)\n",
    "        self.fc4 = nn.Linear(10,1)\n",
    "    \n",
    "    def forward(self,x):\n",
    "        x = F.softsign(self.fc1(x))\n",
    "        x = F.softsign(self.fc2(x))        \n",
    "        x = F.softsign(self.fc3(x))        \n",
    "        x = self.fc4(x)\n",
    "        return x \n",
    "        "
   ]
  },
  {
   "cell_type": "code",
   "execution_count": 30,
   "metadata": {},
   "outputs": [],
   "source": [
    "net = Net()\n",
    "criterion = nn.MSELoss()\n",
    "optimizer = optim.Adam(net.parameters(), lr=0.001)"
   ]
  },
  {
   "cell_type": "code",
   "execution_count": 31,
   "metadata": {},
   "outputs": [
    {
     "name": "stdout",
     "output_type": "stream",
     "text": [
      "epoch :  0    loss :  60559413.375\n",
      "epoch :  1    loss :  60011022.0\n",
      "epoch :  2    loss :  59500423.15625\n",
      "epoch :  3    loss :  59051238.21875\n",
      "epoch :  4    loss :  58628755.0625\n",
      "epoch :  5    loss :  58223468.3125\n",
      "epoch :  6    loss :  57829861.59375\n",
      "epoch :  7    loss :  57445132.21875\n",
      "epoch :  8    loss :  57067541.78125\n",
      "epoch :  9    loss :  56695894.5625\n",
      "epoch :  10    loss :  56329065.8125\n",
      "epoch :  11    loss :  55966891.5625\n",
      "epoch :  12    loss :  55609005.46875\n",
      "epoch :  13    loss :  55254797.71875\n",
      "epoch :  14    loss :  54903953.75\n",
      "epoch :  15    loss :  54556225.46875\n",
      "epoch :  16    loss :  54211409.84375\n",
      "epoch :  17    loss :  53869338.4375\n",
      "epoch :  18    loss :  53529872.0625\n",
      "epoch :  19    loss :  53192891.71875\n",
      "epoch :  20    loss :  52858298.0625\n",
      "epoch :  21    loss :  52526010.15625\n",
      "epoch :  22    loss :  52195949.390625\n",
      "epoch :  23    loss :  51868057.734375\n",
      "epoch :  24    loss :  51542289.0625\n",
      "epoch :  25    loss :  51218589.34375\n",
      "epoch :  26    loss :  50896920.1875\n",
      "epoch :  27    loss :  50577251.59375\n",
      "epoch :  28    loss :  50259561.375\n",
      "epoch :  29    loss :  49943817.5625\n"
     ]
    }
   ],
   "source": [
    "for epoch in range(epochs):\n",
    "    running_loss = 0.0 \n",
    "    batch_min = 0\n",
    "    batch_max = batch_size\n",
    "    for batch in range(num_train_samples // batch_size):\n",
    "        data = train_data[batch_min:batch_min+batch_size]\n",
    "        labels = test_data[batch_min:batch_min+batch_size]\n",
    "        \n",
    "        out = net.forward(data)\n",
    "        loss = criterion(out,labels)\n",
    "        loss.backward()\n",
    "        optimizer.step()\n",
    "        \n",
    "        running_loss+=loss.item()\n",
    "        optimizer.zero_grad()\n",
    "    \n",
    "    batch_min += batch_size\n",
    "    batch_max += batch_size\n",
    "    print(\"epoch : \",epoch, \"   loss : \",running_loss)"
   ]
  },
  {
   "cell_type": "code",
   "execution_count": null,
   "metadata": {},
   "outputs": [],
   "source": []
  }
 ],
 "metadata": {
  "kernelspec": {
   "display_name": "Python 3",
   "language": "python",
   "name": "python3"
  },
  "language_info": {
   "codemirror_mode": {
    "name": "ipython",
    "version": 3
   },
   "file_extension": ".py",
   "mimetype": "text/x-python",
   "name": "python",
   "nbconvert_exporter": "python",
   "pygments_lexer": "ipython3",
   "version": "3.6.8"
  }
 },
 "nbformat": 4,
 "nbformat_minor": 2
}
