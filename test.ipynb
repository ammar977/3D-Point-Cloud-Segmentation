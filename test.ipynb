{
 "cells": [
  {
   "cell_type": "markdown",
   "metadata": {},
   "source": [
    "## Imports"
   ]
  },
  {
   "cell_type": "code",
   "execution_count": 1,
   "metadata": {},
   "outputs": [
    {
     "name": "stderr",
     "output_type": "stream",
     "text": [
      "Using TensorFlow backend.\n"
     ]
    }
   ],
   "source": [
    "# import NALU files\n",
    "\n",
    "# import Keras items\n",
    "from keras.models import Model\n",
    "from keras.layers import Dense,Lambda,Concatenate,Input\n",
    "from keras import backend as K\n",
    "# from keras.utils import to_categorical,plot_model\n",
    "from keras.initializers import constant\n",
    "\n",
    "# import other libs\n",
    "import numpy as np\n",
    "# from sklearn.model_selection import train_test_split\n"
   ]
  },
  {
   "cell_type": "markdown",
   "metadata": {},
   "source": [
    "## Parameters"
   ]
  },
  {
   "cell_type": "code",
   "execution_count": 33,
   "metadata": {},
   "outputs": [],
   "source": [
    "model_name = 'tester'\n",
    "EPOCHS = 100\n",
    "BATCH_SIZE = 4\n",
    "range_min = 0\n",
    "range_max = 999\n",
    "train_samples = 1500"
   ]
  },
  {
   "cell_type": "markdown",
   "metadata": {},
   "source": [
    "## Generate Dataset"
   ]
  },
  {
   "cell_type": "code",
   "execution_count": 13,
   "metadata": {},
   "outputs": [],
   "source": [
    "x = np.random.randint(low = 0, high = 10,size = (100,2))\n",
    "y = x[:,0] * x[:,1]"
   ]
  },
  {
   "cell_type": "markdown",
   "metadata": {},
   "source": [
    "## Model"
   ]
  },
  {
   "cell_type": "code",
   "execution_count": 4,
   "metadata": {},
   "outputs": [],
   "source": [
    "def net(inputs):\n",
    "    input_data = Input(shape = inputs)\n",
    "    out = Dense(30,activation = 'relu',name='my_layer')(input_data)\n",
    "    out = Dense(82,activation='softmax')(out)\n",
    "    \n",
    "    return Model(inputs = input_data,outputs = out)"
   ]
  },
  {
   "cell_type": "markdown",
   "metadata": {},
   "source": [
    "+ #### Model Initilization And Details"
   ]
  },
  {
   "cell_type": "code",
   "execution_count": 5,
   "metadata": {},
   "outputs": [],
   "source": [
    "model_mul = net((2,))\n",
    "model_mul.trainable = False\n",
    "model_mul.compile(loss = 'categorical_crossentropy',optimizer = 'Adam',metrics = ['accuracy'])\n",
    "# model_mul.summary()\n",
    "model_mul.load_weights('mul_0-9_classifier.h5')"
   ]
  },
  {
   "cell_type": "code",
   "execution_count": 19,
   "metadata": {},
   "outputs": [],
   "source": [
    "def net_2(inputs):\n",
    "    input_data = Input(shape=inputs)\n",
    "    out = model_mul(input_data)\n",
    "    out = Lambda(lambda x: K.expand_dims(K.cast(K.argmax(x),dtype ='float32')))(out)\n",
    "    return Model(inputs = input_data,outputs = out)    "
   ]
  },
  {
   "cell_type": "code",
   "execution_count": 20,
   "metadata": {},
   "outputs": [],
   "source": [
    "model_2 = net_2((2,))\n",
    "model_2.compile(loss = 'mse',optimizer = 'Adam',metrics = ['accuracy'])\n",
    "model_2.trainable = False"
   ]
  },
  {
   "cell_type": "code",
   "execution_count": null,
   "metadata": {},
   "outputs": [],
   "source": [
    "def net_mul(inputs):\n",
    "    input_data = Input(shape = inputs)\n",
    "    n = input_data[0].shape[-1]\n",
    "    m = input_data[1].shape[-1]\n",
    "    # get initial products\n",
    "    products=[]\n",
    "    for i in range(input_data.shape[-1]):\n",
    "        mul = Lambda(lambda x: x[:,0,i:i+1])(input_data)\n",
    "        for j in range(input_data.shape[-1]):\n",
    "            a = Lambda(lambda x: x[:,1,j:j+1])(input_data)\n",
    "            concat = Concatenate()([a,mul])\n",
    "            prod = model_mul(concat)\n",
    "            prod =  Lambda(lambda x: K.expand_dims(K.cast(K.argmax(x),dtype ='float32')))(prod)\n",
    "            products.append(prod)\n",
    "            \n",
    "    # get individual rows\n",
    "    products = products[::-1]\n",
    "    row_values = []\n",
    "    prod_index = 0\n",
    "    for r in range(n):\n",
    "        for i in range(m+1):\n",
    "            if i==0:\n",
    "                sep = model_separator(products[prod_index])\n",
    "                ones_digit = Lambda(lambda x: x[:,1:])(sep)\n",
    "                carry = Lambda(lambda x: x[:,0:1])(sep)\n",
    "                row_values.append(ones_digit)\n",
    "                prod_index+=1\n",
    "                \n",
    "            elif i == m :\n",
    "                row_values.append(carry)\n",
    "            else:\n",
    "                concat = Concatenate()([products[prod_index],carry])\n",
    "                addition =  Dense(1,use_bias=False,kernel_initializer='ones')(concat)\n",
    "                sep = model_separator(addition)\n",
    "                ones_digit = Lambda(lambda x: x[:,1:])(sep)\n",
    "                carry = Lambda(lambda x: x[:,0:1])(sep)\n",
    "                row_values.append(ones_digit)\n",
    "                prod_index+=1\n",
    "                \n",
    "    final_row = []\n",
    "    current_ind = 0\n",
    "    for i in range(m+n):\n",
    "        if i == 0:\n",
    "            final_row.append(row_values[0])\n",
    "            sep = model_separator(row_values[0])\n",
    "            carry = Lambda(lambda x: x[:,0:1])(sep)\n",
    "            current_ind+=1\n",
    "        else:\n",
    "            to_add = []\n",
    "            to_add.append(row_values[current_ind])\n",
    "            to_add.append(carry)\n",
    "            next_ind = current_ind + m\n",
    "            while(next_ind < n * (m+1) and next_ind%(m+1)!=0):\n",
    "                to_add.append(row_values[next_ind])\n",
    "                next_ind+=m\n",
    "            if (next_ind < n * (m+1) and next_ind%(m+1)==0):\n",
    "                to_add.append(row_values[next_ind])\n",
    "                \n",
    "            concat = Concatenate()(to_add)\n",
    "            addition =  Dense(1,use_bias=False,kernel_initializer='ones')(concat)\n",
    "            sep = model_separator(addition)\n",
    "            ones_digit = Lambda(lambda x: x[:,1:])(sep)\n",
    "            carry = Lambda(lambda x: x[:,0:1])(sep)\n",
    "            final_row.append(ones_digit)\n",
    "            \n",
    "            if (current_ind + 1) % (m+1) !=0:\n",
    "                current_ind+=1\n",
    "            else:\n",
    "                current_ind+=m+1\n",
    "\n",
    "    \n",
    "    concat = Concatenate()(final_row[::-1])\n",
    "    return Model(inputs = input_data,outputs =concat)"
   ]
  },
  {
   "cell_type": "markdown",
   "metadata": {},
   "source": [
    "+ #### Fit Model"
   ]
  },
  {
   "cell_type": "markdown",
   "metadata": {},
   "source": [
    "+ #### Test Model"
   ]
  },
  {
   "cell_type": "code",
   "execution_count": 21,
   "metadata": {},
   "outputs": [
    {
     "name": "stdout",
     "output_type": "stream",
     "text": [
      "100/100 [==============================] - 0s 1ms/step\n"
     ]
    },
    {
     "data": {
      "text/plain": [
       "[0.0, 1.0]"
      ]
     },
     "execution_count": 21,
     "metadata": {},
     "output_type": "execute_result"
    }
   ],
   "source": [
    "model_2.evaluate(x,y)"
   ]
  },
  {
   "cell_type": "code",
   "execution_count": 55,
   "metadata": {
    "scrolled": true
   },
   "outputs": [
    {
     "name": "stdout",
     "output_type": "stream",
     "text": [
      "\t 0  =  0.0\n",
      "\t predicted:  [ 0.]\n",
      "\t 1  =  0.0\n",
      "\t predicted:  [ 0.]\n",
      "\t 2  =  0.0\n",
      "\t predicted:  [ 0.]\n",
      "\t 3  =  0.0\n",
      "\t predicted:  [ 0.]\n",
      "\t 4  =  0.0\n",
      "\t predicted:  [ 0.]\n",
      "\t 5  =  0.0\n",
      "\t predicted:  [ 0.]\n",
      "\t 6  =  0.0\n",
      "\t predicted:  [ 0.]\n",
      "\t 7  =  0.0\n",
      "\t predicted:  [ 0.]\n",
      "\t 8  =  0.0\n",
      "\t predicted:  [ 0.]\n",
      "\t 9  =  0.0\n",
      "\t predicted:  [ 0.]\n",
      "\t 10  =  1.0\n",
      "\t predicted:  [ 1.]\n",
      "\t 11  =  1.0\n",
      "\t predicted:  [ 1.]\n",
      "\t 12  =  1.0\n",
      "\t predicted:  [ 1.]\n",
      "\t 13  =  1.0\n",
      "\t predicted:  [ 1.]\n",
      "\t 14  =  1.0\n",
      "\t predicted:  [ 1.]\n",
      "\t 15  =  1.0\n",
      "\t predicted:  [ 1.]\n",
      "\t 16  =  1.0\n",
      "\t predicted:  [ 1.]\n",
      "\t 17  =  1.0\n",
      "\t predicted:  [ 1.]\n",
      "\t 18  =  1.0\n",
      "\t predicted:  [ 1.]\n",
      "\t 19  =  1.0\n",
      "\t predicted:  [ 1.]\n",
      "\t 20  =  2.0\n",
      "\t predicted:  [ 2.]\n",
      "\t 21  =  2.0\n",
      "\t predicted:  [ 2.]\n",
      "\t 22  =  2.0\n",
      "\t predicted:  [ 2.]\n",
      "\t 23  =  2.0\n",
      "\t predicted:  [ 2.]\n",
      "\t 24  =  2.0\n",
      "\t predicted:  [ 2.]\n",
      "\t 25  =  2.0\n",
      "\t predicted:  [ 2.]\n",
      "\t 26  =  2.0\n",
      "\t predicted:  [ 2.]\n",
      "\t 27  =  2.0\n",
      "\t predicted:  [ 2.]\n",
      "\t 28  =  2.0\n",
      "\t predicted:  [ 2.]\n",
      "\t 29  =  2.0\n",
      "\t predicted:  [ 2.]\n",
      "\t 30  =  3.0\n",
      "\t predicted:  [ 3.]\n",
      "\t 31  =  3.0\n",
      "\t predicted:  [ 3.]\n",
      "\t 32  =  3.0\n",
      "\t predicted:  [ 3.]\n",
      "\t 33  =  3.0\n",
      "\t predicted:  [ 3.]\n",
      "\t 34  =  3.0\n",
      "\t predicted:  [ 3.]\n",
      "\t 35  =  3.0\n",
      "\t predicted:  [ 3.]\n",
      "\t 36  =  3.0\n",
      "\t predicted:  [ 3.]\n",
      "\t 37  =  3.0\n",
      "\t predicted:  [ 3.]\n",
      "\t 38  =  3.0\n",
      "\t predicted:  [ 3.]\n",
      "\t 39  =  3.0\n",
      "\t predicted:  [ 3.]\n",
      "\t 40  =  4.0\n",
      "\t predicted:  [ 4.]\n",
      "\t 41  =  4.0\n",
      "\t predicted:  [ 4.]\n",
      "\t 42  =  4.0\n",
      "\t predicted:  [ 4.]\n",
      "\t 43  =  4.0\n",
      "\t predicted:  [ 4.]\n",
      "\t 44  =  4.0\n",
      "\t predicted:  [ 4.]\n",
      "\t 45  =  4.0\n",
      "\t predicted:  [ 4.]\n",
      "\t 46  =  4.0\n",
      "\t predicted:  [ 4.]\n",
      "\t 47  =  4.0\n",
      "\t predicted:  [ 4.]\n",
      "\t 48  =  4.0\n",
      "\t predicted:  [ 4.]\n",
      "\t 49  =  4.0\n",
      "\t predicted:  [ 4.]\n",
      "\t 50  =  5.0\n",
      "\t predicted:  [ 5.]\n",
      "\t 51  =  5.0\n",
      "\t predicted:  [ 5.]\n",
      "\t 52  =  5.0\n",
      "\t predicted:  [ 5.]\n",
      "\t 53  =  5.0\n",
      "\t predicted:  [ 5.]\n",
      "\t 54  =  5.0\n",
      "\t predicted:  [ 5.]\n",
      "\t 55  =  5.0\n",
      "\t predicted:  [ 5.]\n",
      "\t 56  =  5.0\n",
      "\t predicted:  [ 5.]\n",
      "\t 57  =  5.0\n",
      "\t predicted:  [ 5.]\n",
      "\t 58  =  5.0\n",
      "\t predicted:  [ 5.]\n",
      "\t 59  =  5.0\n",
      "\t predicted:  [ 5.]\n",
      "\t 60  =  6.0\n",
      "\t predicted:  [ 6.]\n",
      "\t 61  =  6.0\n",
      "\t predicted:  [ 6.]\n",
      "\t 62  =  6.0\n",
      "\t predicted:  [ 6.]\n",
      "\t 63  =  6.0\n",
      "\t predicted:  [ 6.]\n",
      "\t 64  =  6.0\n",
      "\t predicted:  [ 6.]\n",
      "\t 65  =  6.0\n",
      "\t predicted:  [ 6.]\n",
      "\t 66  =  6.0\n",
      "\t predicted:  [ 6.]\n",
      "\t 67  =  6.0\n",
      "\t predicted:  [ 6.]\n",
      "\t 68  =  6.0\n",
      "\t predicted:  [ 6.]\n",
      "\t 69  =  6.0\n",
      "\t predicted:  [ 6.]\n",
      "\t 70  =  7.0\n",
      "\t predicted:  [ 7.]\n",
      "\t 71  =  7.0\n",
      "\t predicted:  [ 7.]\n",
      "\t 72  =  7.0\n",
      "\t predicted:  [ 7.]\n",
      "\t 73  =  7.0\n",
      "\t predicted:  [ 7.]\n",
      "\t 74  =  7.0\n",
      "\t predicted:  [ 7.]\n",
      "\t 75  =  7.0\n",
      "\t predicted:  [ 7.]\n",
      "\t 76  =  7.0\n",
      "\t predicted:  [ 7.]\n",
      "\t 77  =  7.0\n",
      "\t predicted:  [ 7.]\n",
      "\t 78  =  7.0\n",
      "\t predicted:  [ 7.]\n",
      "\t 79  =  7.0\n",
      "\t predicted:  [ 7.]\n",
      "\t 80  =  8.0\n",
      "\t predicted:  [ 8.]\n",
      "\t 81  =  8.0\n",
      "\t predicted:  [ 8.]\n",
      "\t 82  =  8.0\n",
      "\t predicted:  [ 8.]\n",
      "\t 83  =  8.0\n",
      "\t predicted:  [ 8.]\n",
      "\t 84  =  8.0\n",
      "\t predicted:  [ 8.]\n",
      "\t 85  =  8.0\n",
      "\t predicted:  [ 8.]\n",
      "\t 86  =  8.0\n",
      "\t predicted:  [ 8.]\n",
      "\t 87  =  8.0\n",
      "\t predicted:  [ 8.]\n",
      "\t 88  =  8.0\n",
      "\t predicted:  [ 8.]\n",
      "\t 89  =  8.0\n",
      "\t predicted:  [ 8.]\n",
      "\t 90  =  9.0\n",
      "\t predicted:  [ 9.]\n",
      "\t 91  =  9.0\n",
      "\t predicted:  [ 9.]\n",
      "\t 92  =  9.0\n",
      "\t predicted:  [ 9.]\n",
      "\t 93  =  9.0\n",
      "\t predicted:  [ 9.]\n",
      "\t 94  =  9.0\n",
      "\t predicted:  [ 9.]\n",
      "\t 95  =  9.0\n",
      "\t predicted:  [ 9.]\n",
      "\t 96  =  9.0\n",
      "\t predicted:  [ 9.]\n",
      "\t 97  =  9.0\n",
      "\t predicted:  [ 9.]\n",
      "\t 98  =  9.0\n",
      "\t predicted:  [ 9.]\n",
      "\t 99  =  9.0\n",
      "\t predicted:  [ 9.]\n"
     ]
    }
   ],
   "source": [
    "out = model.predict(x)\n",
    "for i in range(100):\n",
    "    print ('\\t',x[i],' = ', y[i])\n",
    "    print('\\t predicted: ',out[i])"
   ]
  },
  {
   "cell_type": "markdown",
   "metadata": {},
   "source": [
    "+ #### Save Model"
   ]
  },
  {
   "cell_type": "code",
   "execution_count": 14,
   "metadata": {
    "collapsed": true
   },
   "outputs": [],
   "source": [
    "model.save_weights('adder_0-9_classifier.h5')"
   ]
  },
  {
   "cell_type": "code",
   "execution_count": 151,
   "metadata": {
    "collapsed": true
   },
   "outputs": [],
   "source": [
    "plot_model(model,to_file = 'mul_0-9.png',show_shapes=True)"
   ]
  }
 ],
 "metadata": {
  "kernelspec": {
   "display_name": "Python 3",
   "language": "python",
   "name": "python3"
  },
  "language_info": {
   "codemirror_mode": {
    "name": "ipython",
    "version": 3
   },
   "file_extension": ".py",
   "mimetype": "text/x-python",
   "name": "python",
   "nbconvert_exporter": "python",
   "pygments_lexer": "ipython3",
   "version": "3.6.8"
  }
 },
 "nbformat": 4,
 "nbformat_minor": 2
}
