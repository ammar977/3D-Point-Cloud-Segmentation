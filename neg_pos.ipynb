{
 "cells": [
  {
   "cell_type": "code",
   "execution_count": 1,
   "metadata": {},
   "outputs": [
    {
     "name": "stderr",
     "output_type": "stream",
     "text": [
      "Using TensorFlow backend.\n"
     ]
    }
   ],
   "source": [
    "import numpy as np\n",
    "\n",
    "# import Keras items\n",
    "from keras.models import Model\n",
    "from keras.layers import Dense,Lambda,Concatenate,Input,Flatten,Reshape\n",
    "# from keras.callbacks import ModelCheckpoint, EarlyStopping, CSVLogger, ReduceLROnPlateau, TensorBoard\n",
    "# from keras import backend as K\n",
    "from keras.utils import to_categorical\n",
    "# from keras.initializers import constant\n",
    "# from keras.constraints import MinMaxNor\n",
    "\n",
    "from itertools import combinations"
   ]
  },
  {
   "cell_type": "code",
   "execution_count": 2,
   "metadata": {},
   "outputs": [],
   "source": [
    "EPOCHS = 10\n",
    "BATCH_SIZE = 4\n",
    "range_min = -999\n",
    "range_max = 999\n",
    "train_samples = 3000\n",
    "test_samples = 200"
   ]
  },
  {
   "cell_type": "code",
   "execution_count": 4,
   "metadata": {},
   "outputs": [],
   "source": [
    "def func(x):\n",
    "    out = np.zeros(shape=(x.shape[0],))\n",
    "#     out[:,0] = np.random.randint\n",
    "    for i in range(x.shape[0]):\n",
    "        if x[i,0] * x[i,1] >= 0:\n",
    "            out[i] = 1 \n",
    "        else:\n",
    "            out[i] = 0\n",
    "            \n",
    "    return out"
   ]
  },
  {
   "cell_type": "code",
   "execution_count": 6,
   "metadata": {},
   "outputs": [],
   "source": [
    "x_train = np.random.randint(low=range_min,high=range_max+1,size=(train_samples,2))\n",
    "x_test = np.random.randint(low=range_min,high=range_max+1,size=(test_samples,2))\n",
    "\n",
    "y_train = to_categorical(func(x_train),num_classes=2)\n",
    "y_test = to_categorical(func(x_test),num_classes=2)"
   ]
  },
  {
   "cell_type": "code",
   "execution_count": 21,
   "metadata": {},
   "outputs": [],
   "source": [
    "def net(inputs):\n",
    "    input_data = Input(shape=inputs)\n",
    "    out = Dense(15,activation = 'softsign')(input_data)\n",
    "    out = Dense(15,activation = 'softsign')(out)\n",
    "    out = Dense(2,activation = 'softmax')(out)\n",
    "\n",
    "    return Model(inputs=input_data,outputs=out)"
   ]
  },
  {
   "cell_type": "code",
   "execution_count": 22,
   "metadata": {},
   "outputs": [],
   "source": [
    "model = net((2,))\n",
    "model.compile(loss='categorical_crossentropy',optimizer = 'adam',metrics=['accuracy'])\n",
    "# model.summary()"
   ]
  },
  {
   "cell_type": "code",
   "execution_count": 23,
   "metadata": {
    "scrolled": true
   },
   "outputs": [
    {
     "name": "stdout",
     "output_type": "stream",
     "text": [
      "Train on 3000 samples, validate on 200 samples\n",
      "Epoch 1/10\n",
      "3000/3000 [==============================] - 1s 304us/step - loss: 0.6558 - acc: 0.6570 - val_loss: 0.5627 - val_acc: 0.9050\n",
      "Epoch 2/10\n",
      "3000/3000 [==============================] - 1s 335us/step - loss: 0.4044 - acc: 0.9583 - val_loss: 0.2451 - val_acc: 0.9950\n",
      "Epoch 3/10\n",
      "3000/3000 [==============================] - 1s 209us/step - loss: 0.1579 - acc: 0.9933 - val_loss: 0.0917 - val_acc: 0.9950\n",
      "Epoch 4/10\n",
      "3000/3000 [==============================] - 1s 202us/step - loss: 0.0705 - acc: 0.9923 - val_loss: 0.0401 - val_acc: 1.0000\n",
      "Epoch 5/10\n",
      "3000/3000 [==============================] - 1s 256us/step - loss: 0.0357 - acc: 0.9960 - val_loss: 0.0216 - val_acc: 1.0000\n",
      "Epoch 6/10\n",
      "3000/3000 [==============================] - 1s 206us/step - loss: 0.0248 - acc: 0.9957 - val_loss: 0.0168 - val_acc: 0.9950\n",
      "Epoch 7/10\n",
      "3000/3000 [==============================] - 1s 207us/step - loss: 0.0185 - acc: 0.9960 - val_loss: 0.0087 - val_acc: 1.0000\n",
      "Epoch 8/10\n",
      "3000/3000 [==============================] - 1s 205us/step - loss: 0.0152 - acc: 0.9970 - val_loss: 0.0286 - val_acc: 0.9900\n",
      "Epoch 9/10\n",
      "3000/3000 [==============================] - 1s 251us/step - loss: 0.0175 - acc: 0.9953 - val_loss: 0.0047 - val_acc: 1.0000\n",
      "Epoch 10/10\n",
      "3000/3000 [==============================] - 1s 222us/step - loss: 0.0163 - acc: 0.9950 - val_loss: 0.0070 - val_acc: 1.0000\n"
     ]
    },
    {
     "data": {
      "text/plain": [
       "<keras.callbacks.History at 0x2b6493e8d68>"
      ]
     },
     "execution_count": 23,
     "metadata": {},
     "output_type": "execute_result"
    }
   ],
   "source": [
    "model.fit(x_train,y_train,epochs=EPOCHS,batch_size=BATCH_SIZE,\n",
    "         validation_data = (x_test,y_test),verbose=1)"
   ]
  },
  {
   "cell_type": "code",
   "execution_count": 24,
   "metadata": {},
   "outputs": [
    {
     "data": {
      "text/plain": [
       "array([ True,  True,  True,  True,  True,  True,  True,  True,  True,\n",
       "        True,  True,  True,  True,  True,  True,  True,  True,  True,\n",
       "        True,  True,  True,  True,  True,  True,  True,  True,  True,\n",
       "        True,  True,  True,  True,  True,  True,  True,  True,  True,\n",
       "        True,  True,  True,  True,  True,  True,  True,  True,  True,\n",
       "        True,  True,  True,  True,  True,  True,  True,  True,  True,\n",
       "        True,  True,  True,  True,  True,  True,  True,  True,  True,\n",
       "        True,  True,  True,  True,  True,  True,  True,  True,  True,\n",
       "        True,  True,  True,  True,  True,  True,  True,  True,  True,\n",
       "        True,  True,  True,  True,  True,  True,  True,  True,  True,\n",
       "        True,  True,  True,  True,  True,  True,  True,  True,  True,\n",
       "        True,  True,  True,  True,  True,  True,  True,  True,  True,\n",
       "        True,  True,  True,  True,  True,  True,  True,  True,  True,\n",
       "        True,  True,  True,  True,  True,  True,  True,  True,  True,\n",
       "        True,  True,  True,  True,  True,  True,  True,  True,  True,\n",
       "        True,  True,  True,  True,  True,  True,  True,  True,  True,\n",
       "        True,  True,  True,  True,  True,  True,  True,  True,  True,\n",
       "        True,  True,  True,  True,  True,  True,  True,  True,  True,\n",
       "        True,  True,  True,  True,  True,  True,  True,  True,  True,\n",
       "        True,  True,  True,  True,  True,  True,  True,  True,  True,\n",
       "        True,  True,  True,  True,  True,  True,  True,  True,  True,\n",
       "        True,  True,  True,  True,  True,  True,  True,  True,  True,\n",
       "        True,  True])"
      ]
     },
     "execution_count": 24,
     "metadata": {},
     "output_type": "execute_result"
    }
   ],
   "source": [
    "np.argmax(y_test,axis=-1) == np.argmax(model.predict(x_test),axis=-1)"
   ]
  },
  {
   "cell_type": "code",
   "execution_count": 25,
   "metadata": {},
   "outputs": [],
   "source": [
    "model.save_weights('neg_pos.h5')"
   ]
  }
 ],
 "metadata": {
  "kernelspec": {
   "display_name": "Python 3",
   "language": "python",
   "name": "python3"
  },
  "language_info": {
   "codemirror_mode": {
    "name": "ipython",
    "version": 3
   },
   "file_extension": ".py",
   "mimetype": "text/x-python",
   "name": "python",
   "nbconvert_exporter": "python",
   "pygments_lexer": "ipython3",
   "version": "3.6.8"
  }
 },
 "nbformat": 4,
 "nbformat_minor": 2
}
