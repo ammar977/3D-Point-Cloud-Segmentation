{
 "cells": [
  {
   "cell_type": "code",
   "execution_count": 1,
   "metadata": {},
   "outputs": [],
   "source": [
    "import numpy as np\n",
    "import torch.nn as nn\n",
    "import torch.nn.functional as F\n",
    "import torch.optim as optim\n",
    "import torch"
   ]
  },
  {
   "cell_type": "code",
   "execution_count": 17,
   "metadata": {},
   "outputs": [],
   "source": [
    "epochs = 10\n",
    "range_min = -99999\n",
    "range_max = 99999\n",
    "batch_size = 4 \n",
    "num_classes = 2\n",
    "num_train_samples = 100\n",
    "num_test_samples = 100\n",
    "num_digits = 5"
   ]
  },
  {
   "cell_type": "code",
   "execution_count": 18,
   "metadata": {},
   "outputs": [],
   "source": [
    "def sep(x,num_digits):\n",
    "    x = np.array([int(i) for i in str(x)])\n",
    "    while (x.shape[0] < num_digits):\n",
    "        x = np.insert(x,0,0)\n",
    "    return x"
   ]
  },
  {
   "cell_type": "code",
   "execution_count": 19,
   "metadata": {},
   "outputs": [],
   "source": [
    "y_train = np.random.randint(low = 0,high = range_max+1,size = num_train_samples)\n",
    "x_train = np.array([sep(x,num_digits) for x in y_train])"
   ]
  },
  {
   "cell_type": "code",
   "execution_count": 20,
   "metadata": {},
   "outputs": [],
   "source": [
    "train_data = torch.from_numpy(x_train).type(torch.FloatTensor)\n",
    "train_labels = torch.from_numpy(y_train).type(torch.LongTensor)\n",
    "# test_data = torch.from_numpy(x_test).type(torch.FloatTensor)\n",
    "# test_labels = torch.from_numpy(y_test).type(torch.LongTensor)"
   ]
  },
  {
   "cell_type": "code",
   "execution_count": 6,
   "metadata": {},
   "outputs": [],
   "source": [
    "# This model will join a list of digits to a number\n",
    "# input: 1 input - (num_digits,)\n",
    "# output: 1   \n",
    "\n",
    "class Net_merge(nn.Module):\n",
    "    def __init__(self):\n",
    "        super(Net_merge,self).__init__()\n",
    "        self.layers = []\n",
    "        \n",
    "    def forward(self,x):\n",
    "        n = x.shape[-1]\n",
    "        i = 0 \n",
    "        add_list = []\n",
    "        ones = []\n",
    "        while(n>=1):\n",
    "            temp = x[:,n-1:n]\n",
    "            self.layers.append(nn.Linear(1,1,bias=False))\n",
    "            self.layers[-1].weight.data = torch.tensor([[10**i]]).type(torch.FloatTensor)\n",
    "            out = self.layers[-1](temp)\n",
    "            i +=1\n",
    "            n-=1\n",
    "            add_list.append(out)\n",
    "            ones.append(1)\n",
    "        \n",
    "        self.layers.append(nn.Linear(x.shape[-1],1,bias=False))\n",
    "        self.layers[-1].weight.data = torch.tensor([ones]).type(torch.FloatTensor)\n",
    "        concat = torch.cat(add_list,-1)\n",
    "        out = self.layers[-1](concat)\n",
    "        return out\n",
    "    \n",
    "    def predict(self,x):\n",
    "        return self.forward(x).type(torch.FloatTensor)"
   ]
  },
  {
   "cell_type": "code",
   "execution_count": 7,
   "metadata": {},
   "outputs": [],
   "source": [
    "net = Net_merge()"
   ]
  },
  {
   "cell_type": "code",
   "execution_count": 8,
   "metadata": {},
   "outputs": [
    {
     "name": "stdout",
     "output_type": "stream",
     "text": [
      "tensor([ 21, 604, 302,  21, 251, 231, 215, 181, 257, 325])\n"
     ]
    },
    {
     "data": {
      "text/plain": [
       "tensor([[ 21.],\n",
       "        [604.],\n",
       "        [302.],\n",
       "        [ 21.],\n",
       "        [251.],\n",
       "        [231.],\n",
       "        [215.],\n",
       "        [181.],\n",
       "        [257.],\n",
       "        [325.]], grad_fn=<MmBackward>)"
      ]
     },
     "execution_count": 8,
     "metadata": {},
     "output_type": "execute_result"
    }
   ],
   "source": [
    "# print(train_data[0:10])\n",
    "print(train_labels[0:10])\n",
    "net.forward(train_data[0:10])"
   ]
  },
  {
   "cell_type": "code",
   "execution_count": 21,
   "metadata": {},
   "outputs": [
    {
     "name": "stdout",
     "output_type": "stream",
     "text": [
      "100\n"
     ]
    }
   ],
   "source": [
    "out = net.forward(train_data)\n",
    "temp = train_labels.numpy()\n",
    "out = out.detach().numpy()\n",
    "correct = 0\n",
    "for i in range(out.shape[0]):\n",
    "    if out[i] == temp[i]:\n",
    "        correct+=1\n",
    "    else:\n",
    "        print('wrong example :',i)\n",
    "        print(train_data[i])\n",
    "        print(train_labels[i])\n",
    "        print(out[i])\n",
    "print(correct)"
   ]
  },
  {
   "cell_type": "code",
   "execution_count": 16,
   "metadata": {},
   "outputs": [
    {
     "name": "stderr",
     "output_type": "stream",
     "text": [
      "C:\\Users\\Ammar\\.conda\\envs\\neuralnets\\lib\\site-packages\\torch\\serialization.py:256: UserWarning: Couldn't retrieve source code for container of type Net_merge. It won't be checked for correctness upon loading.\n",
      "  \"type \" + obj.__name__ + \". It won't be checked \"\n"
     ]
    }
   ],
   "source": [
    "torch.save(net,'model_merge')"
   ]
  }
 ],
 "metadata": {
  "kernelspec": {
   "display_name": "Python 3",
   "language": "python",
   "name": "python3"
  },
  "language_info": {
   "codemirror_mode": {
    "name": "ipython",
    "version": 3
   },
   "file_extension": ".py",
   "mimetype": "text/x-python",
   "name": "python",
   "nbconvert_exporter": "python",
   "pygments_lexer": "ipython3",
   "version": "3.6.8"
  }
 },
 "nbformat": 4,
 "nbformat_minor": 2
}
