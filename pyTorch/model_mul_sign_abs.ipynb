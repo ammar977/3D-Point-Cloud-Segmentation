{
 "cells": [
  {
   "cell_type": "code",
   "execution_count": 1,
   "metadata": {},
   "outputs": [],
   "source": [
    "import numpy as np\n",
    "import torch.nn as nn\n",
    "import torch.nn.functional as F\n",
    "import torch.optim as optim\n",
    "import torch"
   ]
  },
  {
   "cell_type": "code",
   "execution_count": 2,
   "metadata": {},
   "outputs": [],
   "source": [
    "epochs = 10\n",
    "range_min = 0\n",
    "range_max = 999\n",
    "batch_size = 4 \n",
    "num_classes = 2\n",
    "num_train_samples = 100\n",
    "num_test_samples = 100\n",
    "num_digits = 3"
   ]
  },
  {
   "cell_type": "code",
   "execution_count": 4,
   "metadata": {},
   "outputs": [
    {
     "name": "stdout",
     "output_type": "stream",
     "text": [
      "(100, 3)\n",
      "(100,)\n"
     ]
    }
   ],
   "source": [
    "temp = np.random.randint(low = 0,high = range_max+1,size = num_train_samples)\n",
    "x_train = np.empty((num_train_samples,3))\n",
    "x_train[:,0] = temp\n",
    "x_train[:num_train_samples // 2,1] = 1  \n",
    "x_train[num_train_samples // 2:,1] = -1 \n",
    "x_train[:,2] = num_digits\n",
    "np.random.shuffle(x_train)\n",
    "y_train = x_train[:,0] * x_train[:,1]\n",
    "print(x_train.shape)\n",
    "print(y_train.shape)"
   ]
  },
  {
   "cell_type": "code",
   "execution_count": 5,
   "metadata": {},
   "outputs": [],
   "source": [
    "train_data = torch.from_numpy(x_train).type(torch.FloatTensor)\n",
    "train_labels = torch.from_numpy(y_train).type(torch.LongTensor)\n",
    "# test_data = torch.from_numpy(x_test).type(torch.FloatTensor)\n",
    "# test_labels = torch.from_numpy(y_test).type(torch.LongTensor)"
   ]
  },
  {
   "cell_type": "code",
   "execution_count": 6,
   "metadata": {},
   "outputs": [],
   "source": [
    "# This model subtracts two numbers\n",
    "class Net_sub(nn.Module):\n",
    "    def __init__(self):\n",
    "        super(Net_sub,self).__init__()\n",
    "        self.fc1 = nn.Linear(2,1)\n",
    "        self.fc1.weight.data = torch.tensor([[1,-1]]).type(torch.FloatTensor)\n",
    "        self.fc1.bias.data = torch.tensor([0]).type(torch.FloatTensor)\n",
    "    \n",
    "    def forward(self,x):\n",
    "        x = self.fc1(x)\n",
    "        return x\n",
    "    \n",
    "    def predict(self,x):\n",
    "        return self.forward(x).type(torch.FloatTensor)\n",
    "    \n",
    "model_sub = torch.load('model_sub')"
   ]
  },
  {
   "cell_type": "code",
   "execution_count": 7,
   "metadata": {},
   "outputs": [],
   "source": [
    "# This model will separate a number into digits\n",
    "# input: 2 inputs - (number,num_digits)\n",
    "# output: separated digits (num_digits,)  \n",
    "\n",
    "class Net_separate(nn.Module):\n",
    "    def __init__(self,model_sub):\n",
    "        super(Net_separate,self).__init__()\n",
    "        \n",
    "        self.divide_by_10 = nn.Linear(1,1,bias=False)\n",
    "        self.divide_by_10.weight.data = torch.tensor([[0.1]]).type(torch.FloatTensor)\n",
    "\n",
    "        self.multiply_by_10 = nn.Linear(1,1,bias=False)\n",
    "        self.multiply_by_10.weight.data = torch.tensor([[10]]).type(torch.FloatTensor)\n",
    "        \n",
    "        self.model_sub = model_sub\n",
    "    \n",
    "    def forward(self,x):\n",
    "        input_number = x[:,0].unsqueeze(-1)\n",
    "        num_digits = x[:,1].unsqueeze(-1)\n",
    "        concat = []\n",
    "        data = input_number\n",
    "        for i in range(num_digits[0].type(torch.IntTensor)):\n",
    "            temp_data = self.divide_by_10(data).floor()\n",
    "            temp = self.multiply_by_10(temp_data)\n",
    "            concat_temp = torch.cat((data,temp),1)\n",
    "            digit = self.model_sub.predict(concat_temp)\n",
    "            \n",
    "            concat.insert(0,digit)\n",
    "            data = temp_data\n",
    "        \n",
    "        out = torch.cat(concat,1)\n",
    "        return out\n",
    "    \n",
    "    def predict(self,x):\n",
    "        return self.forward(x).type(torch.FloatTensor)\n",
    "    \n",
    "model_separate = torch.load('model_separate')    "
   ]
  },
  {
   "cell_type": "code",
   "execution_count": 9,
   "metadata": {},
   "outputs": [],
   "source": [
    "# this model mulltiplies a single digit number with a sign (1,-1)\n",
    "# input: 2 numbers (2,)\n",
    "# output: single number \n",
    "class Net_mul_sign_0_9(nn.Module):\n",
    "    def __init__(self):\n",
    "        super(Net_mul_sign_0_9,self).__init__()\n",
    "        self.fc1 = nn.Linear(2,10)\n",
    "        self.fc2 = nn.Linear(10,1)\n",
    "    \n",
    "    def forward(self,x):\n",
    "        x = F.softsign(self.fc1(x))\n",
    "        x = self.fc2(x)\n",
    "        return x\n",
    "    \n",
    "    def predict(self,x):\n",
    "        out = self.forward(x)\n",
    "        return torch.round(out).type(torch.FloatTensor)\n",
    "\n",
    "model_mul_sign_0_9 = torch.load('model_mul_sign_0_9')"
   ]
  },
  {
   "cell_type": "code",
   "execution_count": 42,
   "metadata": {},
   "outputs": [],
   "source": [
    "# this model mulltiplies a number with a sign (1,-1)\n",
    "# input: 3 numbers (3,) - [number,sign,num_digits]\n",
    "# output: single number \n",
    "class Net_mul_sign_abs(nn.Module):\n",
    "    def __init__(self,model_separate,model_mul_sign_0_9):\n",
    "        super(Net_mul_sign_abs,self).__init__()\n",
    "        self.model_separate = model_separate\n",
    "        self.model_mul_sign_0_9 = model_mul_sign_0_9\n",
    "        self.multiply_2 = nn.Linear(1,1,bias = False)\n",
    "        self.multiply_2.weight.data = torch.tensor([[2.0]])\n",
    "        self.layers = []\n",
    "    \n",
    "    def forward(self,x):\n",
    "        number = x[:,0].unsqueeze(-1)\n",
    "        sign = x[:,1].unsqueeze(-1)\n",
    "        num_digits = x[:,2].unsqueeze(-1)\n",
    "        \n",
    "        output_digits = self.multiply_2(num_digits)\n",
    "        concat = torch.cat((number,output_digits),1)\n",
    "        sep = self.model_separate.predict(concat)\n",
    "        \n",
    "        products = []\n",
    "        i = 0\n",
    "        j = sep.shape[-1]\n",
    "        for n in range(j,0,-1):\n",
    "            temp = sep[:,n-1:n]\n",
    "            concat = torch.cat((temp,sign),1)\n",
    "            prod = self.model_mul_sign_0_9.predict(concat)\n",
    "            self.layers.append(nn.Linear(1,1,bias=False))\n",
    "            self.layers[-1].weight.data = torch.tensor([[10**i]]).type(torch.FloatTensor)\n",
    "            prod = self.layers[-1](prod)\n",
    "            products.append(prod)\n",
    "            i+=1\n",
    "        \n",
    "        concat = torch.cat(products,1)\n",
    "        self.layers.append(nn.Linear(1,1,bias=False))\n",
    "        self.layers[-1].weight.data = np.repeat(torch.tensor([[1.0]]),len(products),axis = -1)\n",
    "        out = self.layers[-1](concat)\n",
    "        \n",
    "        return out\n",
    "    \n",
    "    def predict(self,x):\n",
    "        out = self.forward(x)\n",
    "        return out.type(torch.FloatTensor)"
   ]
  },
  {
   "cell_type": "code",
   "execution_count": 43,
   "metadata": {},
   "outputs": [],
   "source": [
    "net = Net_mul_sign_abs(model_separate,model_mul_sign_0_9)"
   ]
  },
  {
   "cell_type": "code",
   "execution_count": 46,
   "metadata": {},
   "outputs": [
    {
     "name": "stdout",
     "output_type": "stream",
     "text": [
      "tensor([-308])\n"
     ]
    },
    {
     "data": {
      "text/plain": [
       "tensor([[-308.]], grad_fn=<MmBackward>)"
      ]
     },
     "execution_count": 46,
     "metadata": {},
     "output_type": "execute_result"
    }
   ],
   "source": [
    "# print(train_data[0:10])\n",
    "print(train_labels[0:1])\n",
    "net.forward(train_data[0:1])"
   ]
  },
  {
   "cell_type": "code",
   "execution_count": 47,
   "metadata": {},
   "outputs": [
    {
     "name": "stderr",
     "output_type": "stream",
     "text": [
      "C:\\Users\\Ammar\\.conda\\envs\\neuralnets\\lib\\site-packages\\torch\\serialization.py:256: UserWarning: Couldn't retrieve source code for container of type Net_mul_sign_abs. It won't be checked for correctness upon loading.\n",
      "  \"type \" + obj.__name__ + \". It won't be checked \"\n",
      "C:\\Users\\Ammar\\.conda\\envs\\neuralnets\\lib\\site-packages\\torch\\serialization.py:256: UserWarning: Couldn't retrieve source code for container of type Net_separate. It won't be checked for correctness upon loading.\n",
      "  \"type \" + obj.__name__ + \". It won't be checked \"\n",
      "C:\\Users\\Ammar\\.conda\\envs\\neuralnets\\lib\\site-packages\\torch\\serialization.py:256: UserWarning: Couldn't retrieve source code for container of type Net_sub. It won't be checked for correctness upon loading.\n",
      "  \"type \" + obj.__name__ + \". It won't be checked \"\n",
      "C:\\Users\\Ammar\\.conda\\envs\\neuralnets\\lib\\site-packages\\torch\\serialization.py:256: UserWarning: Couldn't retrieve source code for container of type Net_mul_sign_0_9. It won't be checked for correctness upon loading.\n",
      "  \"type \" + obj.__name__ + \". It won't be checked \"\n"
     ]
    }
   ],
   "source": [
    "torch.save(net,'model_mul_sign_abs')"
   ]
  }
 ],
 "metadata": {
  "kernelspec": {
   "display_name": "Python 3",
   "language": "python",
   "name": "python3"
  },
  "language_info": {
   "codemirror_mode": {
    "name": "ipython",
    "version": 3
   },
   "file_extension": ".py",
   "mimetype": "text/x-python",
   "name": "python",
   "nbconvert_exporter": "python",
   "pygments_lexer": "ipython3",
   "version": "3.6.8"
  }
 },
 "nbformat": 4,
 "nbformat_minor": 2
}
