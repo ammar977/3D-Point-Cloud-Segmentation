{
 "cells": [
  {
   "cell_type": "code",
   "execution_count": 1,
   "metadata": {},
   "outputs": [],
   "source": [
    "import numpy as np\n",
    "import torch.nn as nn\n",
    "import torch.nn.functional as F\n",
    "import torch.optim as optim\n",
    "import torch"
   ]
  },
  {
   "cell_type": "code",
   "execution_count": 3,
   "metadata": {},
   "outputs": [],
   "source": [
    "epochs = 10\n",
    "range_min = -999\n",
    "range_max = 999\n",
    "batch_size = 4 \n",
    "num_classes = 2\n",
    "num_train_samples = 100\n",
    "num_test_samples = 10\n",
    "num_digits = 3"
   ]
  },
  {
   "cell_type": "code",
   "execution_count": 5,
   "metadata": {},
   "outputs": [],
   "source": [
    "def sep(x,num_digits):\n",
    "    x = np.array([int(i) for i in str(x)])\n",
    "    while (x.shape[0] < num_digits):\n",
    "        x = np.insert(x,0,0)\n",
    "    return x"
   ]
  },
  {
   "cell_type": "code",
   "execution_count": 16,
   "metadata": {},
   "outputs": [
    {
     "name": "stdout",
     "output_type": "stream",
     "text": [
      "\t (100, 2, 4)\n",
      "\t (100, 6)\n"
     ]
    }
   ],
   "source": [
    "x_train_a = np.random.randint(low = 0,high = range_max,size =num_train_samples)\n",
    "x_train_b = np.random.randint(low = 0,high = range_max,size =num_train_samples)\n",
    "\n",
    "x_train = np.empty((num_train_samples,2,num_digits+1),dtype = np.int32)\n",
    "\n",
    "y_train_a = x_train_a * x_train_b\n",
    "y_train = np.empty((num_train_samples,num_digits*2),dtype = np.int32)\n",
    "\n",
    "for i in range(num_train_samples):\n",
    "    x_train[i,0,:-1] = sep(x_train_a[i],num_digits)\n",
    "    \n",
    "    x_train[i,1,:-1] = sep(x_train_b[i],num_digits)\n",
    "    y_train[i] = sep(y_train_a[i],num_digits*2)\n",
    "\n",
    "x_train[:,:,-1] = num_digits\n",
    "    \n",
    "print('\\t',x_train.shape)\n",
    "print('\\t',y_train.shape)"
   ]
  },
  {
   "cell_type": "code",
   "execution_count": 17,
   "metadata": {},
   "outputs": [],
   "source": [
    "train_data = torch.from_numpy(x_train).type(torch.FloatTensor)\n",
    "train_labels = torch.from_numpy(y_train).type(torch.LongTensor)\n",
    "# test_data = torch.from_numpy(x_test).type(torch.FloatTensor)\n",
    "# test_labels = torch.from_numpy(y_test).type(torch.LongTensor)"
   ]
  },
  {
   "cell_type": "code",
   "execution_count": 11,
   "metadata": {},
   "outputs": [],
   "source": [
    "class Net(nn.Module):\n",
    "    def __init__(self):\n",
    "        super(Net,self).__init__()\n",
    "        self.fc1 = nn.Linear(2,30)\n",
    "        self.fc2 = nn.Linear(30,82)\n",
    "    \n",
    "    def forward(self,x):\n",
    "        x = F.relu(self.fc1(x))\n",
    "        x = F.softmax(self.fc2(x))\n",
    "        return x\n",
    "    \n",
    "    def predict(self,x):\n",
    "        pred = self.forward(x)\n",
    "        _,out = torch.max(pred,1)\n",
    "        return out.type(torch.FloatTensor)\n",
    "\n",
    "model_mul_0_9 = torch.load('mul_0_9')"
   ]
  },
  {
   "cell_type": "code",
   "execution_count": 10,
   "metadata": {},
   "outputs": [],
   "source": [
    "# This model adds two numbers\n",
    "class Net_add(nn.Module):\n",
    "    def __init__(self):\n",
    "        super(Net_add,self).__init__()\n",
    "        self.fc1 = nn.Linear(2,1,bias=False)\n",
    "        self.fc1.weight.data = torch.tensor([[1,1]]).type(torch.FloatTensor)\n",
    "    \n",
    "    def forward(self,x):\n",
    "        x = self.fc1(x)\n",
    "        return x\n",
    "    \n",
    "    def predict(self,x):\n",
    "        return self.forward(x).type(torch.FloatTensor)\n",
    "\n",
    "model_add = torch.load('model_add')"
   ]
  },
  {
   "cell_type": "code",
   "execution_count": 12,
   "metadata": {},
   "outputs": [],
   "source": [
    "# This model subtracts two numbers\n",
    "class Net_sub(nn.Module):\n",
    "    def __init__(self):\n",
    "        super(Net_sub,self).__init__()\n",
    "        self.fc1 = nn.Linear(2,1)\n",
    "        self.fc1.weight.data = torch.tensor([[1,-1]]).type(torch.FloatTensor)\n",
    "        self.fc1.bias.data = torch.tensor([0]).type(torch.FloatTensor)\n",
    "    \n",
    "    def forward(self,x):\n",
    "        x = self.fc1(x)\n",
    "        return x\n",
    "    \n",
    "    def predict(self,x):\n",
    "        return self.forward(x).type(torch.FloatTensor)\n",
    "    \n",
    "model_sub = torch.load('model_sub')"
   ]
  },
  {
   "cell_type": "code",
   "execution_count": 13,
   "metadata": {},
   "outputs": [],
   "source": [
    "# This model will separate a number into digits\n",
    "# input: 2 inputs - (number,num_digits)\n",
    "# output: separated digits (num_digits,)  \n",
    "\n",
    "class Net_separate(nn.Module):\n",
    "    def __init__(self,model_sub):\n",
    "        super(Net_separate,self).__init__()\n",
    "        \n",
    "        self.divide_by_10 = nn.Linear(1,1,bias=False)\n",
    "        self.divide_by_10.weight.data = torch.tensor([[0.1]]).type(torch.FloatTensor)\n",
    "\n",
    "        self.multiply_by_10 = nn.Linear(1,1,bias=False)\n",
    "        self.multiply_by_10.weight.data = torch.tensor([[10]]).type(torch.FloatTensor)\n",
    "        \n",
    "        self.model_sub = model_sub\n",
    "    \n",
    "    def forward(self,x):\n",
    "        input_number = x[:,0].unsqueeze(-1)\n",
    "        num_digits = x[:,1].unsqueeze(-1)\n",
    "        concat = []\n",
    "        data = input_number\n",
    "        for i in range(num_digits[0].type(torch.IntTensor)):\n",
    "            temp_data = self.divide_by_10(data).floor()\n",
    "            temp = self.multiply_by_10(temp_data)\n",
    "            concat_temp = torch.cat((data,temp),1)\n",
    "            digit = self.model_sub.predict(concat_temp)\n",
    "            \n",
    "            concat.insert(0,digit)\n",
    "            data = temp_data\n",
    "        \n",
    "        out = torch.cat(concat,1)\n",
    "        return out\n",
    "    \n",
    "    def predict(self,x):\n",
    "        return self.forward(x).type(torch.FloatTensor)\n",
    "    \n",
    "model_separate = torch.load('model_separate')"
   ]
  },
  {
   "cell_type": "code",
   "execution_count": 118,
   "metadata": {},
   "outputs": [],
   "source": [
    "# This model will give the product of two absolute numbers\n",
    "# input: 2 separated numbers with num_digits : (2,num_digits+1)\n",
    "# output: product \n",
    "\n",
    "class Net_multiply_abs(nn.Module):\n",
    "    def __init__(self,model_mul_0_9,model_add,model_separate):\n",
    "        super(Net_multiply_abs,self).__init__()\n",
    "        \n",
    "        self.model_add = model_add\n",
    "        self.model_separate = model_separate\n",
    "        self.model_mul_0_9 = model_mul_0_9\n",
    "        \n",
    "        self.final_row_add_layers = []\n",
    "    \n",
    "    def forward(self,x):\n",
    "        n = x.shape[-1] - 1\n",
    "        m = x.shape[-1] - 1\n",
    "        num_digits  = x[:,0,-1].unsqueeze(-1)\n",
    "        \n",
    "        # get initial products\n",
    "        products = []\n",
    "        for i in range(x.shape[-1]-1):\n",
    "            mul = x[:,0,i:i+1]\n",
    "            for j in range(x.shape[-1]-1):\n",
    "                temp = x[:,1,j:j+1]\n",
    "                concat = torch.cat((temp,mul),1)\n",
    "                prod = self.model_mul_0_9.predict(concat)\n",
    "                products.insert(0,prod)\n",
    "                \n",
    "        # get individual rows\n",
    "        row_values = []\n",
    "        prod_index = 0\n",
    "        two = num_digits - num_digits + 2.0\n",
    "        for r in range(n):\n",
    "            for i in range(m+1):\n",
    "                if i==0:\n",
    "                    temp = torch.cat((products[prod_index].unsqueeze(-1),two),1)\n",
    "                    sep = self.model_separate.predict(temp)\n",
    "                    carry = sep[:,0:1]\n",
    "                    ones_digit = sep[:,1:]\n",
    "                    row_values.append(ones_digit)\n",
    "                    prod_index+=1\n",
    "                    \n",
    "                elif i==m:\n",
    "                    row_values.append(carry)\n",
    "                else:\n",
    "                    concat = torch.cat((products[prod_index].unsqueeze(-1),carry),1)\n",
    "                    add = self.model_add(concat)\n",
    "                    concat = torch.cat((add,two),1)\n",
    "                    sep = self.model_separate.predict(concat)\n",
    "                    carry = sep[:,0:1]\n",
    "                    ones_digit = sep[:,1:]\n",
    "                    row_values.append(ones_digit)\n",
    "                    prod_index+=1\n",
    "        \n",
    "        final_row = []\n",
    "        current_ind = 0 \n",
    "        for i in range(m+n):\n",
    "            if i ==0:\n",
    "                final_row.insert(0,row_values[0])\n",
    "                temp = torch.cat((row_values[0],two),1)\n",
    "                sep = self.model_separate.predict(temp)\n",
    "                carry = sep[:,0:1]\n",
    "                current_ind+=1\n",
    "            else:\n",
    "                to_add = []\n",
    "                ones = []\n",
    "                to_add.append(row_values[current_ind])\n",
    "                ones.append(1)\n",
    "                to_add.append(carry)\n",
    "                ones.append(1)\n",
    "                \n",
    "                next_ind = current_ind + m\n",
    "                while(next_ind < n*(m+1) and next_ind%(m+1)!=0):\n",
    "                    to_add.append(row_values[next_ind])\n",
    "                    ones.append(1)\n",
    "                    next_ind+=m\n",
    "                if(next_ind < n * (m+1) and next_ind%(m+1)==0):\n",
    "                    to_add.append(row_values[next_ind])\n",
    "                    ones.append(1)\n",
    "\n",
    "                self.final_row_add_layers.append(nn.Linear(len(to_add),1,bias=False))\n",
    "                self.final_row_add_layers[-1].weight.data = torch.tensor([ones]).type(torch.FloatTensor)\n",
    "                concat = torch.cat(to_add,-1)\n",
    "                add = self.final_row_add_layers[-1](concat)\n",
    "                \n",
    "                temp = torch.cat((add,two),1)\n",
    "                sep = self.model_separate.predict(temp)\n",
    "                carry = sep[:,0:1]\n",
    "                ones_digit = sep[:,1:]\n",
    "                final_row.insert(0,ones_digit)\n",
    "                \n",
    "                if (current_ind + 1) % (m+1) !=0:\n",
    "                    current_ind+=1\n",
    "                else:\n",
    "                    current_ind+=m+1\n",
    "                \n",
    "                \n",
    "        out = torch.cat(final_row,-1)\n",
    "        return out\n",
    "    \n",
    "    def predict(self,x):\n",
    "        return self.forward(x).type(torch.FloatTensor)"
   ]
  },
  {
   "cell_type": "code",
   "execution_count": 119,
   "metadata": {},
   "outputs": [],
   "source": [
    "net = Net_multiply_abs(model_mul_0_9,model_add,model_separate)"
   ]
  },
  {
   "cell_type": "code",
   "execution_count": 121,
   "metadata": {},
   "outputs": [
    {
     "name": "stdout",
     "output_type": "stream",
     "text": [
      "tensor([[0, 2, 0, 8, 8, 0],\n",
      "        [6, 8, 3, 8, 0, 8],\n",
      "        [4, 6, 1, 1, 2, 5],\n",
      "        [4, 3, 9, 3, 0, 0],\n",
      "        [3, 7, 6, 7, 1, 1],\n",
      "        [0, 9, 3, 7, 5, 0],\n",
      "        [2, 7, 9, 3, 9, 5],\n",
      "        [6, 1, 9, 1, 4, 6],\n",
      "        [0, 6, 4, 5, 6, 5],\n",
      "        [2, 1, 9, 3, 6, 9]])\n"
     ]
    },
    {
     "name": "stderr",
     "output_type": "stream",
     "text": [
      "C:\\Users\\Ammar\\.conda\\envs\\neuralnets\\lib\\site-packages\\ipykernel_launcher.py:9: UserWarning: Implicit dimension choice for softmax has been deprecated. Change the call to include dim=X as an argument.\n",
      "  if __name__ == '__main__':\n"
     ]
    },
    {
     "data": {
      "text/plain": [
       "tensor([[0., 2., 0., 8., 8., 0.],\n",
       "        [6., 8., 3., 8., 0., 8.],\n",
       "        [4., 6., 1., 1., 2., 5.],\n",
       "        [4., 3., 9., 3., 0., 0.],\n",
       "        [3., 7., 6., 7., 1., 1.],\n",
       "        [0., 9., 3., 7., 5., 0.],\n",
       "        [2., 7., 9., 3., 9., 5.],\n",
       "        [6., 1., 9., 1., 4., 6.],\n",
       "        [0., 6., 4., 5., 6., 5.],\n",
       "        [2., 1., 9., 3., 6., 9.]], grad_fn=<CatBackward>)"
      ]
     },
     "execution_count": 121,
     "metadata": {},
     "output_type": "execute_result"
    }
   ],
   "source": [
    "# print(train_data[0:1])\n",
    "print(train_labels[0:10])\n",
    "net.forward(train_data[0:10])"
   ]
  },
  {
   "cell_type": "code",
   "execution_count": 122,
   "metadata": {},
   "outputs": [
    {
     "name": "stderr",
     "output_type": "stream",
     "text": [
      "C:\\Users\\Ammar\\.conda\\envs\\neuralnets\\lib\\site-packages\\torch\\serialization.py:256: UserWarning: Couldn't retrieve source code for container of type Net_multiply_abs. It won't be checked for correctness upon loading.\n",
      "  \"type \" + obj.__name__ + \". It won't be checked \"\n",
      "C:\\Users\\Ammar\\.conda\\envs\\neuralnets\\lib\\site-packages\\torch\\serialization.py:256: UserWarning: Couldn't retrieve source code for container of type Net_add. It won't be checked for correctness upon loading.\n",
      "  \"type \" + obj.__name__ + \". It won't be checked \"\n",
      "C:\\Users\\Ammar\\.conda\\envs\\neuralnets\\lib\\site-packages\\torch\\serialization.py:256: UserWarning: Couldn't retrieve source code for container of type Net_separate. It won't be checked for correctness upon loading.\n",
      "  \"type \" + obj.__name__ + \". It won't be checked \"\n",
      "C:\\Users\\Ammar\\.conda\\envs\\neuralnets\\lib\\site-packages\\torch\\serialization.py:256: UserWarning: Couldn't retrieve source code for container of type Net_sub. It won't be checked for correctness upon loading.\n",
      "  \"type \" + obj.__name__ + \". It won't be checked \"\n",
      "C:\\Users\\Ammar\\.conda\\envs\\neuralnets\\lib\\site-packages\\torch\\serialization.py:256: UserWarning: Couldn't retrieve source code for container of type Net. It won't be checked for correctness upon loading.\n",
      "  \"type \" + obj.__name__ + \". It won't be checked \"\n"
     ]
    }
   ],
   "source": [
    "torch.save(net,'model_multiply_abs')"
   ]
  }
 ],
 "metadata": {
  "kernelspec": {
   "display_name": "Python 3",
   "language": "python",
   "name": "python3"
  },
  "language_info": {
   "codemirror_mode": {
    "name": "ipython",
    "version": 3
   },
   "file_extension": ".py",
   "mimetype": "text/x-python",
   "name": "python",
   "nbconvert_exporter": "python",
   "pygments_lexer": "ipython3",
   "version": "3.6.8"
  }
 },
 "nbformat": 4,
 "nbformat_minor": 2
}
