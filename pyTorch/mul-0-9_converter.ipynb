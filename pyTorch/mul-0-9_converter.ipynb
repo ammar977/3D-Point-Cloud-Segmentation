{
 "cells": [
  {
   "cell_type": "code",
   "execution_count": 15,
   "metadata": {},
   "outputs": [],
   "source": [
    "import numpy as np\n",
    "import torch.nn as nn\n",
    "import torch.nn.functional as F\n",
    "import torch.optim as optim\n",
    "import torch\n",
    "from itertools import combinations_with_replacement,product\n",
    "from sklearn.metrics import accuracy_score\n",
    "\n",
    "from keras.models import Model\n",
    "from keras.layers import Dense,Input\n",
    "from keras.layers.convolutional import Conv2D, AtrousConvolution2D\n",
    "import keras\n",
    "import keras.backend as K"
   ]
  },
  {
   "cell_type": "code",
   "execution_count": 2,
   "metadata": {},
   "outputs": [],
   "source": [
    "epochs = 100\n",
    "range_min = 0\n",
    "range_max = 9\n",
    "batch_size = 4 \n",
    "num_classes = 82\n",
    "num_train_samples = 100"
   ]
  },
  {
   "cell_type": "code",
   "execution_count": 3,
   "metadata": {},
   "outputs": [],
   "source": [
    "x = np.array(list(product(range(10),repeat = 2)))\n",
    "np.random.shuffle(x)\n",
    "y = x[:,0] * x[:,1]\n",
    "train_labels = torch.from_numpy(y).type(torch.LongTensor)\n",
    "train_data = torch.from_numpy(x).type(torch.FloatTensor)"
   ]
  },
  {
   "cell_type": "code",
   "execution_count": 33,
   "metadata": {},
   "outputs": [],
   "source": [
    "def net(inputs):\n",
    "    input_data = Input(shape = inputs)\n",
    "    out = Dense(30,activation = 'relu',name='fc1')(input_data)\n",
    "    out = Dense(82,activation='softmax',name='fc2')(out)\n",
    "    \n",
    "    return Model(inputs = input_data,outputs = out)"
   ]
  },
  {
   "cell_type": "code",
   "execution_count": 34,
   "metadata": {},
   "outputs": [],
   "source": [
    "model_mul = net((2,))\n",
    "model_mul.trainable = False\n",
    "model_mul.compile(loss = 'categorical_crossentropy',optimizer = 'Adam',metrics = ['accuracy'])\n",
    "# model_mul.summary()\n",
    "model_mul.load_weights('../mul_0-9_classifier.h5')"
   ]
  },
  {
   "cell_type": "code",
   "execution_count": 43,
   "metadata": {},
   "outputs": [],
   "source": [
    "def keras_to_pyt(km, pm):\n",
    "    weight_dict = dict()\n",
    "    for layer in km.layers:\n",
    "        if type(layer) is keras.layers.convolutional.Conv2D:\n",
    "            weight_dict[layer.get_config()['name'] + '.weight'] = np.transpose(layer.get_weights()[0], (3, 2, 0, 1))\n",
    "            weight_dict[layer.get_config()['name'] + '.bias'] = layer.get_weights()[1]\n",
    "        elif type(layer) is keras.layers.Dense:\n",
    "            weight_dict[layer.get_config()['name'] + '.weight'] = np.transpose(layer.get_weights()[0], (1, 0))\n",
    "            weight_dict[layer.get_config()['name'] + '.bias'] = layer.get_weights()[1]\n",
    "    pyt_state_dict = pm.state_dict()\n",
    "    for key in pyt_state_dict.keys():\n",
    "        pyt_state_dict[key] = torch.from_numpy(weight_dict[key])\n",
    "    pm.load_state_dict(pyt_state_dict)\n",
    "    return (pm,pyt_state_dict)"
   ]
  },
  {
   "cell_type": "code",
   "execution_count": 53,
   "metadata": {},
   "outputs": [],
   "source": [
    "class Net(nn.Module):\n",
    "    def __init__(self):\n",
    "        super(Net,self).__init__()\n",
    "        self.fc1 = nn.Linear(2,30)\n",
    "        self.fc2 = nn.Linear(30,82)\n",
    "    \n",
    "    def forward(self,x):\n",
    "        x = F.relu(self.fc1(x))\n",
    "        x = F.softmax(self.fc2(x))\n",
    "        return x\n",
    "    \n",
    "    def predict(self,x):\n",
    "        pred = self.forward(x)\n",
    "        _,out = torch.max(pred,1)\n",
    "        return out"
   ]
  },
  {
   "cell_type": "code",
   "execution_count": 54,
   "metadata": {},
   "outputs": [],
   "source": [
    "net = Net()\n",
    "criterion = nn.CrossEntropyLoss()\n",
    "optimizer = optim.Adam(net.parameters(), lr=0.001)"
   ]
  },
  {
   "cell_type": "code",
   "execution_count": null,
   "metadata": {
    "scrolled": true
   },
   "outputs": [],
   "source": [
    "for epoch in range(epochs):\n",
    "    running_loss = 0.0 \n",
    "    batch_min = 0\n",
    "    batch_max = batch_size\n",
    "    for batch in range(num_train_samples // batch_size):\n",
    "        data = train_data[batch_min:batch_min+batch_size]\n",
    "        labels = train_labels[batch_min:batch_min+batch_size]\n",
    "        \n",
    "        optimizer.zero_grad()\n",
    "        out = net.forward(data)\n",
    "        loss = criterion(out,labels)\n",
    "        loss.backward()\n",
    "        optimizer.step()\n",
    "        \n",
    "        running_loss+=loss.item()\n",
    "    \n",
    "    batch_min += batch_size\n",
    "    batch_max += batch_size\n",
    "    print(\"epoch : \",epoch, \"   loss : \",running_loss)"
   ]
  },
  {
   "cell_type": "code",
   "execution_count": 55,
   "metadata": {},
   "outputs": [],
   "source": [
    "net,weights = keras_to_pyt(model_mul, net)"
   ]
  },
  {
   "cell_type": "code",
   "execution_count": 57,
   "metadata": {},
   "outputs": [
    {
     "name": "stderr",
     "output_type": "stream",
     "text": [
      "C:\\Users\\Ammar\\.conda\\envs\\neuralnets\\lib\\site-packages\\torch\\serialization.py:256: UserWarning: Couldn't retrieve source code for container of type Net. It won't be checked for correctness upon loading.\n",
      "  \"type \" + obj.__name__ + \". It won't be checked \"\n"
     ]
    }
   ],
   "source": [
    "torch.save(net,'mul_0_9')"
   ]
  },
  {
   "cell_type": "code",
   "execution_count": 58,
   "metadata": {},
   "outputs": [],
   "source": [
    "model1 = torch.load('mul_0_9')"
   ]
  },
  {
   "cell_type": "code",
   "execution_count": 59,
   "metadata": {},
   "outputs": [
    {
     "name": "stderr",
     "output_type": "stream",
     "text": [
      "C:\\Users\\Ammar\\.conda\\envs\\neuralnets\\lib\\site-packages\\ipykernel_launcher.py:9: UserWarning: Implicit dimension choice for softmax has been deprecated. Change the call to include dim=X as an argument.\n",
      "  if __name__ == '__main__':\n"
     ]
    },
    {
     "name": "stdout",
     "output_type": "stream",
     "text": [
      "[ 5 72 25 63 20  0 12  2  0  0  0 28 45 12 18 24 63  4 54 18  4 21  0 27\n",
      "  0  0 48 18  0  0 24  0  8  6 28  9  6 24 36 12  0 20  7  8 21 18 32  8\n",
      " 36 54  0 30  0 16 16 15  7  0  6  6 24 56 49  2 45 40 32 14  4 42 48 10\n",
      " 72  0 30 64 40 56 15 14  9  0 10  1 16  0 81  0  3 36 35  9 35  8  5 27\n",
      " 42  0 12  3]\n",
      "tensor([ 5, 72, 25, 63, 20,  0, 12,  2,  0,  0,  0, 28, 45, 12, 18, 24, 63,  4,\n",
      "        54, 18,  4, 21,  0, 27,  0,  0, 48, 18,  0,  0, 24,  0,  8,  6, 28,  9,\n",
      "         6, 24, 36, 12,  0, 20,  7,  8, 21, 18, 32,  8, 36, 54,  0, 30,  0, 16,\n",
      "        16, 15,  7,  0,  6,  6, 24, 56, 49,  2, 45, 40, 32, 14,  4, 42, 48, 10,\n",
      "        72,  0, 30, 64, 40, 56, 15, 14,  9,  0, 10,  1, 16,  0, 81,  0,  3, 36,\n",
      "        35,  9, 35,  8,  5, 27, 42,  0, 12,  3])\n"
     ]
    }
   ],
   "source": [
    "pred = model1.forward(train_data).exp().detach()\n",
    "_,indices = torch.max(pred,1)\n",
    "indices = indices.numpy()\n",
    "print(indices)\n",
    "print(train_labels)"
   ]
  },
  {
   "cell_type": "code",
   "execution_count": 60,
   "metadata": {},
   "outputs": [
    {
     "name": "stderr",
     "output_type": "stream",
     "text": [
      "C:\\Users\\Ammar\\.conda\\envs\\neuralnets\\lib\\site-packages\\ipykernel_launcher.py:9: UserWarning: Implicit dimension choice for softmax has been deprecated. Change the call to include dim=X as an argument.\n",
      "  if __name__ == '__main__':\n"
     ]
    },
    {
     "data": {
      "text/plain": [
       "tensor([ 5, 72, 25, 63, 20,  0, 12,  2,  0,  0,  0, 28, 45, 12, 18, 24, 63,  4,\n",
       "        54, 18,  4, 21,  0, 27,  0,  0, 48, 18,  0,  0, 24,  0,  8,  6, 28,  9,\n",
       "         6, 24, 36, 12,  0, 20,  7,  8, 21, 18, 32,  8, 36, 54,  0, 30,  0, 16,\n",
       "        16, 15,  7,  0,  6,  6, 24, 56, 49,  2, 45, 40, 32, 14,  4, 42, 48, 10,\n",
       "        72,  0, 30, 64, 40, 56, 15, 14,  9,  0, 10,  1, 16,  0, 81,  0,  3, 36,\n",
       "        35,  9, 35,  8,  5, 27, 42,  0, 12,  3])"
      ]
     },
     "execution_count": 60,
     "metadata": {},
     "output_type": "execute_result"
    }
   ],
   "source": [
    "model1.predict(train_data)"
   ]
  }
 ],
 "metadata": {
  "kernelspec": {
   "display_name": "Python 3",
   "language": "python",
   "name": "python3"
  },
  "language_info": {
   "codemirror_mode": {
    "name": "ipython",
    "version": 3
   },
   "file_extension": ".py",
   "mimetype": "text/x-python",
   "name": "python",
   "nbconvert_exporter": "python",
   "pygments_lexer": "ipython3",
   "version": "3.6.8"
  }
 },
 "nbformat": 4,
 "nbformat_minor": 2
}
