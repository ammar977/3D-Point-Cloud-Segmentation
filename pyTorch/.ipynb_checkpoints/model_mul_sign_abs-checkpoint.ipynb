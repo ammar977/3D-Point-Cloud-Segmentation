{
 "cells": [
  {
   "cell_type": "code",
   "execution_count": 3,
   "metadata": {},
   "outputs": [],
   "source": [
    "import numpy as np\n",
    "import torch.nn as nn\n",
    "import torch.nn.functional as F\n",
    "import torch.optim as optim\n",
    "import torch"
   ]
  },
  {
   "cell_type": "code",
   "execution_count": 77,
   "metadata": {},
   "outputs": [],
   "source": [
    "epochs = 10\n",
    "range_min = -999\n",
    "range_max = 999\n",
    "batch_size = 4 \n",
    "num_classes = 2\n",
    "num_train_samples = 100\n",
    "num_test_samples = 100\n",
    "num_digits = 3"
   ]
  },
  {
   "cell_type": "code",
   "execution_count": 5,
   "metadata": {},
   "outputs": [],
   "source": [
    "def sep(x,num_digits):\n",
    "    x = np.array([int(i) for i in str(x)])\n",
    "    while (x.shape[0] < num_digits):\n",
    "        x = np.insert(x,0,0)\n",
    "    return x"
   ]
  },
  {
   "cell_type": "code",
   "execution_count": 78,
   "metadata": {},
   "outputs": [],
   "source": [
    "temp = np.random.randint(low = 0,high = range_max+1,size = num_train_samples)\n",
    "x_train = np.empty((num_train_samples,2),dtype = np.int32)\n",
    "x_train[:,0] = temp\n",
    "x_train[:,1] = num_digits\n",
    "y_train = np.array([sep(x,num_digits) for x in x_train[:,0]])"
   ]
  },
  {
   "cell_type": "code",
   "execution_count": 79,
   "metadata": {},
   "outputs": [],
   "source": [
    "train_data = torch.from_numpy(x_train).type(torch.FloatTensor)\n",
    "train_labels = torch.from_numpy(y_train).type(torch.LongTensor)\n",
    "# test_data = torch.from_numpy(x_test).type(torch.FloatTensor)\n",
    "# test_labels = torch.from_numpy(y_test).type(torch.LongTensor)"
   ]
  },
  {
   "cell_type": "code",
   "execution_count": 13,
   "metadata": {},
   "outputs": [],
   "source": [
    "# This model subtracts two numbers\n",
    "class Net_sub(nn.Module):\n",
    "    def __init__(self):\n",
    "        super(Net_sub,self).__init__()\n",
    "        self.fc1 = nn.Linear(2,1)\n",
    "        self.fc1.weight.data = torch.tensor([[1,-1]]).type(torch.FloatTensor)\n",
    "        self.fc1.bias.data = torch.tensor([0]).type(torch.FloatTensor)\n",
    "    \n",
    "    def forward(self,x):\n",
    "        x = self.fc1(x)\n",
    "        return x\n",
    "    \n",
    "    def predict(self,x):\n",
    "        return self.forward(x).type(torch.FloatTensor)\n",
    "    \n",
    "model_sub = torch.load('model_sub')"
   ]
  },
  {
   "cell_type": "code",
   "execution_count": 57,
   "metadata": {},
   "outputs": [],
   "source": [
    "# This model will separate a number into digits\n",
    "# input: 2 inputs - (number,num_digits)\n",
    "# output: separated digits (num_digits,)  \n",
    "\n",
    "class Net_separate(nn.Module):\n",
    "    def __init__(self,model_sub):\n",
    "        super(Net_separate,self).__init__()\n",
    "        \n",
    "        self.divide_by_10 = nn.Linear(1,1,bias=False)\n",
    "        self.divide_by_10.weight.data = torch.tensor([[0.1]]).type(torch.FloatTensor)\n",
    "\n",
    "        self.multiply_by_10 = nn.Linear(1,1,bias=False)\n",
    "        self.multiply_by_10.weight.data = torch.tensor([[10]]).type(torch.FloatTensor)\n",
    "        \n",
    "        self.model_sub = model_sub\n",
    "    \n",
    "    def forward(self,x):\n",
    "        input_number = x[:,0].unsqueeze(-1)\n",
    "        num_digits = x[:,1].unsqueeze(-1)\n",
    "        concat = []\n",
    "        data = input_number\n",
    "        for i in range(num_digits[0].type(torch.IntTensor)):\n",
    "            temp_data = self.divide_by_10(data).floor()\n",
    "            temp = self.multiply_by_10(temp_data)\n",
    "            concat_temp = torch.cat((data,temp),1)\n",
    "            digit = self.model_sub.predict(concat_temp)\n",
    "            \n",
    "            concat.insert(0,digit)\n",
    "            data = temp_data\n",
    "        \n",
    "        out = torch.cat(concat,1)\n",
    "        return out\n",
    "    \n",
    "    def predict(self,x):\n",
    "        return self.forward(x).type(torch.FloatTensor)"
   ]
  },
  {
   "cell_type": "code",
   "execution_count": 58,
   "metadata": {},
   "outputs": [],
   "source": [
    "net = Net_separate(model_sub)"
   ]
  },
  {
   "cell_type": "code",
   "execution_count": 80,
   "metadata": {},
   "outputs": [
    {
     "name": "stdout",
     "output_type": "stream",
     "text": [
      "tensor([[7, 5, 0],\n",
      "        [8, 6, 3],\n",
      "        [2, 5, 1],\n",
      "        [9, 8, 7],\n",
      "        [6, 4, 2],\n",
      "        [0, 7, 6],\n",
      "        [0, 5, 8],\n",
      "        [5, 6, 7],\n",
      "        [1, 7, 1],\n",
      "        [7, 3, 0]])\n"
     ]
    },
    {
     "data": {
      "text/plain": [
       "tensor([[7., 5., 0.],\n",
       "        [8., 6., 3.],\n",
       "        [2., 5., 1.],\n",
       "        [9., 8., 7.],\n",
       "        [6., 4., 2.],\n",
       "        [0., 7., 6.],\n",
       "        [0., 5., 8.],\n",
       "        [5., 6., 7.],\n",
       "        [1., 7., 1.],\n",
       "        [7., 3., 0.]], grad_fn=<CatBackward>)"
      ]
     },
     "execution_count": 80,
     "metadata": {},
     "output_type": "execute_result"
    }
   ],
   "source": [
    "# print(train_data[0:10])\n",
    "print(train_labels[0:10])\n",
    "net.forward(train_data[0:10])"
   ]
  },
  {
   "cell_type": "code",
   "execution_count": 81,
   "metadata": {},
   "outputs": [
    {
     "name": "stderr",
     "output_type": "stream",
     "text": [
      "C:\\Users\\Ammar\\.conda\\envs\\neuralnets\\lib\\site-packages\\torch\\serialization.py:256: UserWarning: Couldn't retrieve source code for container of type Net_separate. It won't be checked for correctness upon loading.\n",
      "  \"type \" + obj.__name__ + \". It won't be checked \"\n",
      "C:\\Users\\Ammar\\.conda\\envs\\neuralnets\\lib\\site-packages\\torch\\serialization.py:256: UserWarning: Couldn't retrieve source code for container of type Net_sub. It won't be checked for correctness upon loading.\n",
      "  \"type \" + obj.__name__ + \". It won't be checked \"\n"
     ]
    }
   ],
   "source": [
    "torch.save(net,'model_separate')"
   ]
  }
 ],
 "metadata": {
  "kernelspec": {
   "display_name": "Python 3",
   "language": "python",
   "name": "python3"
  },
  "language_info": {
   "codemirror_mode": {
    "name": "ipython",
    "version": 3
   },
   "file_extension": ".py",
   "mimetype": "text/x-python",
   "name": "python",
   "nbconvert_exporter": "python",
   "pygments_lexer": "ipython3",
   "version": "3.6.8"
  }
 },
 "nbformat": 4,
 "nbformat_minor": 2
}
