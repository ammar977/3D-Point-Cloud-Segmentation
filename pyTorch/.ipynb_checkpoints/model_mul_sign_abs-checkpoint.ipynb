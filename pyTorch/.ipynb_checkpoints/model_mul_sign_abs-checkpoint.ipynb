{
 "cells": [
  {
   "cell_type": "code",
   "execution_count": 1,
   "metadata": {},
   "outputs": [],
   "source": [
    "import numpy as np\n",
    "import torch.nn as nn\n",
    "import torch.nn.functional as F\n",
    "import torch.optim as optim\n",
    "import torch"
   ]
  },
  {
   "cell_type": "code",
   "execution_count": 28,
   "metadata": {},
   "outputs": [],
   "source": [
    "epochs = 10\n",
    "range_min = 0\n",
    "range_max = 99999999\n",
    "batch_size = 4 \n",
    "num_classes = 2\n",
    "num_train_samples = 100\n",
    "num_test_samples = 100\n",
    "num_digits = 8"
   ]
  },
  {
   "cell_type": "code",
   "execution_count": 3,
   "metadata": {},
   "outputs": [
    {
     "name": "stdout",
     "output_type": "stream",
     "text": [
      "(100, 3)\n",
      "(100,)\n"
     ]
    }
   ],
   "source": [
    "temp = np.random.rand(num_train_samples).astype(np.float64) * range_max\n",
    "temp = np.floor(temp)\n",
    "x_train = np.empty((num_train_samples,3)).astype(np.float64)\n",
    "x_train[:,0] = temp\n",
    "x_train[:num_train_samples // 2,1] = 1.0  \n",
    "x_train[num_train_samples // 2:,1] = -1.0\n",
    "x_train[:,2] = num_digits\n",
    "np.random.shuffle(x_train)\n",
    "y_train = x_train[:,0] * x_train[:,1]\n",
    "print(x_train.shape)\n",
    "print(y_train.shape)"
   ]
  },
  {
   "cell_type": "code",
   "execution_count": 29,
   "metadata": {},
   "outputs": [
    {
     "name": "stdout",
     "output_type": "stream",
     "text": [
      "(100, 3)\n",
      "(100,)\n"
     ]
    }
   ],
   "source": [
    "temp = np.random.randint(low=range_min,high = range_max+1,size = (num_train_samples,))\n",
    "x_train = np.empty((num_train_samples,3))\n",
    "x_train[:,0] = temp\n",
    "x_train[:num_train_samples // 2,1] = 1.0  \n",
    "x_train[num_train_samples // 2:,1] = -1.0\n",
    "x_train[:,2] = num_digits\n",
    "np.random.shuffle(x_train)\n",
    "y_train = x_train[:,0] * x_train[:,1]\n",
    "print(x_train.shape)\n",
    "print(y_train.shape)"
   ]
  },
  {
   "cell_type": "code",
   "execution_count": 49,
   "metadata": {},
   "outputs": [],
   "source": [
    "train_data = torch.from_numpy(x_train).type(torch.FloatTensor)\n",
    "train_labels = torch.from_numpy(y_train).type(torch.FloatTensor)\n",
    "# test_data = torch.from_numpy(x_test).type(torch.FloatTensor)\n",
    "# test_labels = torch.from_numpy(y_test).type(torch.LongTensor)"
   ]
  },
  {
   "cell_type": "code",
   "execution_count": 8,
   "metadata": {},
   "outputs": [],
   "source": [
    "# This model subtracts two numbers\n",
    "class Net_sub(nn.Module):\n",
    "    def __init__(self):\n",
    "        super(Net_sub,self).__init__()\n",
    "        self.fc1 = nn.Linear(2,1)\n",
    "        self.fc1.weight.data = torch.tensor([[1,-1]]).type(torch.FloatTensor)\n",
    "        self.fc1.bias.data = torch.tensor([0]).type(torch.FloatTensor)\n",
    "    \n",
    "    def forward(self,x):\n",
    "        x = self.fc1(x)\n",
    "        return x\n",
    "    \n",
    "    def predict(self,x):\n",
    "        return self.forward(x).type(torch.FloatTensor)\n",
    "    \n",
    "# model_sub = torch.load('model_sub').double()\n",
    "model_sub = torch.load('model_sub')"
   ]
  },
  {
   "cell_type": "code",
   "execution_count": 43,
   "metadata": {},
   "outputs": [],
   "source": [
    "# This model will separate a number into digits\n",
    "# input: 2 inputs - (number,num_digits)\n",
    "# output: separated digits (num_digits,)  \n",
    "\n",
    "class Net_separate(nn.Module):\n",
    "    def __init__(self,model_sub):\n",
    "        super(Net_separate,self).__init__()\n",
    "        \n",
    "        self.divide_by_10 = nn.Linear(1,1,bias=False)\n",
    "        self.divide_by_10.weight.data = torch.tensor([[0.1000000]]).type(torch.FloatTensor)\n",
    "\n",
    "        self.multiply_by_10 = nn.Linear(1,1,bias=False)\n",
    "        self.multiply_by_10.weight.data = torch.tensor([[10]]).type(torch.FloatTensor)\n",
    "        \n",
    "        self.model_sub = model_sub\n",
    "    \n",
    "    def forward(self,x):\n",
    "        input_number = x[:,0].unsqueeze(-1)\n",
    "        num_digits = x[:,1].unsqueeze(-1)\n",
    "        concat = []\n",
    "        data = input_number\n",
    "        for i in range(num_digits[0].type(torch.IntTensor)):\n",
    "            temp_data = self.divide_by_10(data)\n",
    "            print('multiplied by 0.1',temp_data)\n",
    "            temp_data = temp_data\n",
    "            temp = self.multiply_by_10(temp_data)\n",
    "            concat_temp = torch.cat((data,temp),1)\n",
    "            digit = self.model_sub.predict(concat_temp)\n",
    "            \n",
    "            concat.insert(0,digit)\n",
    "            data = temp_data\n",
    "        \n",
    "        out = torch.cat(concat,1)\n",
    "        return out\n",
    "    \n",
    "    def predict(self,x):\n",
    "        return self.forward(x).type(torch.FloatTensor)\n",
    "    \n",
    "# model_separate = torch.load('model_separate').double()  \n",
    "model_separate = torch.load('model_separate')   "
   ]
  },
  {
   "cell_type": "code",
   "execution_count": 10,
   "metadata": {},
   "outputs": [],
   "source": [
    "# this model mulltiplies a single digit number with a sign (1,-1)\n",
    "# input: 2 numbers (2,)\n",
    "# output: single number \n",
    "class Net_mul_sign_0_9(nn.Module):\n",
    "    def __init__(self):\n",
    "        super(Net_mul_sign_0_9,self).__init__()\n",
    "        self.fc1 = nn.Linear(2,10)\n",
    "        self.fc2 = nn.Linear(10,1)\n",
    "    \n",
    "    def forward(self,x):\n",
    "        x = F.softsign(self.fc1(x))\n",
    "        x = self.fc2(x)\n",
    "        return x\n",
    "    \n",
    "    def predict(self,x):\n",
    "        out = self.forward(x)\n",
    "        return torch.round(out).type(torch.FloatTensor)\n",
    "\n",
    "# model_mul_sign_0_9 = torch.load('model_mul_sign_0_9').double()\n",
    "model_mul_sign_0_9 = torch.load('model_mul_sign_0_9')"
   ]
  },
  {
   "cell_type": "code",
   "execution_count": 44,
   "metadata": {},
   "outputs": [],
   "source": [
    "# this model mulltiplies a number with a sign (1,-1)\n",
    "# input: 3 numbers (3,) - [number,sign,num_digits]\n",
    "# output: single number \n",
    "class Net_mul_sign_abs(nn.Module):\n",
    "    def __init__(self,model_separate,model_mul_sign_0_9):\n",
    "        super(Net_mul_sign_abs,self).__init__()\n",
    "        self.model_separate = model_separate\n",
    "        self.model_mul_sign_0_9 = model_mul_sign_0_9\n",
    "        self.multiply_2 = nn.Linear(1,1,bias = False)\n",
    "        self.multiply_2.weight.data = torch.tensor([[2.0]])\n",
    "        self.layers = []\n",
    "    \n",
    "    def forward(self,x):\n",
    "        number = x[:,0].unsqueeze(-1)\n",
    "        sign = x[:,1].unsqueeze(-1)\n",
    "        num_digits = x[:,2].unsqueeze(-1)\n",
    "        \n",
    "        output_digits = self.multiply_2(num_digits)\n",
    "        concat = torch.cat((number,output_digits),1)\n",
    "        sep = self.model_separate.predict(concat)\n",
    "        products = []\n",
    "        i = 0\n",
    "        j = sep.shape[-1]\n",
    "        for n in range(j,0,-1):\n",
    "            temp = sep[:,n-1:n]\n",
    "            concat = torch.cat((temp,sign),1)\n",
    "            prod = self.model_mul_sign_0_9.predict(concat)\n",
    "            self.layers.append(nn.Linear(1,1,bias=False))\n",
    "            self.layers[-1].weight.data = torch.tensor([[10**i]]).type(torch.FloatTensor)\n",
    "            prod = self.layers[-1](prod)\n",
    "            products.append(prod)\n",
    "            i+=1\n",
    "        \n",
    "        concat = torch.cat(products,1)\n",
    "        self.layers.append(nn.Linear(1,1,bias=False))\n",
    "        self.layers[-1].weight.data = np.repeat(torch.tensor([[1.0]]),len(products),axis = -1).type(torch.FloatTensor)\n",
    "        out = self.layers[-1](concat)\n",
    "        return out\n",
    "    \n",
    "    def predict(self,x):\n",
    "        out = self.forward(x)\n",
    "        return out.type(torch.FloatTensor)\n",
    "    \n",
    "# model_mul_sign_abs = torch.load('model_mul_sign_abs').double()"
   ]
  },
  {
   "cell_type": "code",
   "execution_count": 45,
   "metadata": {},
   "outputs": [],
   "source": [
    "net = Net_mul_sign_abs(model_separate,model_mul_sign_0_9)"
   ]
  },
  {
   "cell_type": "code",
   "execution_count": 48,
   "metadata": {},
   "outputs": [
    {
     "name": "stdout",
     "output_type": "stream",
     "text": [
      "tensor([99397544.])\n",
      "multiplied by 0.1 tensor([[9939755.]], grad_fn=<MmBackward>)\n",
      "multiplied by 0.1 tensor([[993975.5000000000]], grad_fn=<MmBackward>)\n",
      "multiplied by 0.1 tensor([[99397.5546875000]], grad_fn=<MmBackward>)\n",
      "multiplied by 0.1 tensor([[9939.7558593750]], grad_fn=<MmBackward>)\n",
      "multiplied by 0.1 tensor([[993.9755859375]], grad_fn=<MmBackward>)\n",
      "multiplied by 0.1 tensor([[99.3975601196]], grad_fn=<MmBackward>)\n",
      "multiplied by 0.1 tensor([[9.9397563934]], grad_fn=<MmBackward>)\n",
      "multiplied by 0.1 tensor([[0.9939756393]], grad_fn=<MmBackward>)\n",
      "multiplied by 0.1 tensor([[0.0993975624]], grad_fn=<MmBackward>)\n",
      "multiplied by 0.1 tensor([[0.0099397562]], grad_fn=<MmBackward>)\n",
      "multiplied by 0.1 tensor([[0.0009939757]], grad_fn=<MmBackward>)\n",
      "multiplied by 0.1 tensor([[9.9397570011e-05]], grad_fn=<MmBackward>)\n",
      "multiplied by 0.1 tensor([[9.9397575468e-06]], grad_fn=<MmBackward>)\n",
      "multiplied by 0.1 tensor([[9.9397573194e-07]], grad_fn=<MmBackward>)\n",
      "multiplied by 0.1 tensor([[9.9397574616e-08]], grad_fn=<MmBackward>)\n",
      "multiplied by 0.1 tensor([[9.9397574616e-09]], grad_fn=<MmBackward>)\n"
     ]
    },
    {
     "data": {
      "text/plain": [
       "tensor([[0.]], grad_fn=<MmBackward>)"
      ]
     },
     "execution_count": 48,
     "metadata": {},
     "output_type": "execute_result"
    }
   ],
   "source": [
    "# print(train_data[0:10])\n",
    "print(train_labels[0:1])\n",
    "net.forward(train_data[0:1])"
   ]
  },
  {
   "cell_type": "code",
   "execution_count": 37,
   "metadata": {},
   "outputs": [
    {
     "name": "stdout",
     "output_type": "stream",
     "text": [
      "tensor([[ 0.,  0.,  0.,  ...,  5.,  5., -8.],\n",
      "        [ 0.,  0.,  0.,  ...,  3.,  7.,  4.],\n",
      "        [ 0.,  0.,  0.,  ...,  5.,  3.,  8.],\n",
      "        ...,\n",
      "        [ 0.,  0.,  0.,  ...,  1.,  2.,  0.],\n",
      "        [ 0.,  0.,  0.,  ...,  4.,  0.,  0.],\n",
      "        [ 0.,  0.,  0.,  ...,  6.,  5.,  0.]], grad_fn=<CatBackward>)\n",
      "wrong example : 0\n",
      "tensor([9.9397544000e+07, 1.0000000000e+00, 8.0000000000e+00])\n",
      "99397544.0\n",
      "[99397550.]\n",
      "wrong example : 1\n",
      "tensor([5.9212372000e+07, 1.0000000000e+00, 8.0000000000e+00])\n",
      "59212372.0\n",
      "[59212376.]\n",
      "wrong example : 2\n",
      "tensor([ 7.1343536000e+07, -1.0000000000e+00,  8.0000000000e+00])\n",
      "-71343540.0\n",
      "[-71343544.]\n",
      "wrong example : 10\n",
      "tensor([8.4907936000e+07, 1.0000000000e+00, 8.0000000000e+00])\n",
      "84907940.0\n",
      "[84907944.]\n",
      "wrong example : 13\n",
      "tensor([8.5629712000e+07, 1.0000000000e+00, 8.0000000000e+00])\n",
      "85629710.0\n",
      "[85629704.]\n",
      "wrong example : 15\n",
      "tensor([7.8836776000e+07, 1.0000000000e+00, 8.0000000000e+00])\n",
      "78836776.0\n",
      "[78836780.]\n",
      "wrong example : 16\n",
      "tensor([ 8.5948696000e+07, -1.0000000000e+00,  8.0000000000e+00])\n",
      "-85948696.0\n",
      "[-85948700.]\n",
      "wrong example : 18\n",
      "tensor([8.6509392000e+07, 1.0000000000e+00, 8.0000000000e+00])\n",
      "86509390.0\n",
      "[86509384.]\n",
      "wrong example : 19\n",
      "tensor([ 9.7221792000e+07, -1.0000000000e+00,  8.0000000000e+00])\n",
      "-97221790.0\n",
      "[-97221784.]\n",
      "wrong example : 24\n",
      "tensor([ 5.7456916000e+07, -1.0000000000e+00,  8.0000000000e+00])\n",
      "-57456916.0\n",
      "[-57456910.]\n",
      "wrong example : 43\n",
      "tensor([ 5.5099956000e+07, -1.0000000000e+00,  8.0000000000e+00])\n",
      "-55099956.0\n",
      "[-55099950.]\n",
      "wrong example : 45\n",
      "tensor([8.2927568000e+07, 1.0000000000e+00, 8.0000000000e+00])\n",
      "82927570.0\n",
      "[82927576.]\n",
      "wrong example : 48\n",
      "tensor([ 8.4723024000e+07, -1.0000000000e+00,  8.0000000000e+00])\n",
      "-84723020.0\n",
      "[-84723030.]\n",
      "wrong example : 49\n",
      "tensor([6.3450356000e+07, 1.0000000000e+00, 8.0000000000e+00])\n",
      "63450356.0\n",
      "[63450350.]\n",
      "wrong example : 57\n",
      "tensor([ 9.4061312000e+07, -1.0000000000e+00,  8.0000000000e+00])\n",
      "-94061310.0\n",
      "[-94061304.]\n",
      "wrong example : 60\n",
      "tensor([6.5579156000e+07, 1.0000000000e+00, 8.0000000000e+00])\n",
      "65579156.0\n",
      "[65579150.]\n",
      "wrong example : 68\n",
      "tensor([ 8.2010912000e+07, -1.0000000000e+00,  8.0000000000e+00])\n",
      "-82010910.0\n",
      "[-82010904.]\n",
      "wrong example : 76\n",
      "tensor([ 9.3402112000e+07, -1.0000000000e+00,  8.0000000000e+00])\n",
      "-93402110.0\n",
      "[-93402104.]\n",
      "wrong example : 78\n",
      "tensor([9.5707752000e+07, 1.0000000000e+00, 8.0000000000e+00])\n",
      "95707750.0\n",
      "[95707740.]\n",
      "wrong example : 80\n",
      "tensor([6.4344316000e+07, 1.0000000000e+00, 8.0000000000e+00])\n",
      "64344316.0\n",
      "[64344310.]\n",
      "80\n"
     ]
    }
   ],
   "source": [
    "torch.set_printoptions(precision=10)\n",
    "out = net.predict(train_data)\n",
    "temp = train_labels.numpy()\n",
    "out = out.detach().numpy()\n",
    "correct = 0\n",
    "for i in range(out.shape[0]):\n",
    "    if out[i] == temp[i]:\n",
    "        correct+=1\n",
    "    else:\n",
    "        print('wrong example :',i)\n",
    "        print(train_data[i])\n",
    "        print(temp[i])\n",
    "        print(out[i])\n",
    "print(correct)"
   ]
  },
  {
   "cell_type": "code",
   "execution_count": 47,
   "metadata": {},
   "outputs": [
    {
     "name": "stderr",
     "output_type": "stream",
     "text": [
      "C:\\Users\\Ammar\\.conda\\envs\\neuralnets\\lib\\site-packages\\torch\\serialization.py:256: UserWarning: Couldn't retrieve source code for container of type Net_mul_sign_abs. It won't be checked for correctness upon loading.\n",
      "  \"type \" + obj.__name__ + \". It won't be checked \"\n",
      "C:\\Users\\Ammar\\.conda\\envs\\neuralnets\\lib\\site-packages\\torch\\serialization.py:256: UserWarning: Couldn't retrieve source code for container of type Net_separate. It won't be checked for correctness upon loading.\n",
      "  \"type \" + obj.__name__ + \". It won't be checked \"\n",
      "C:\\Users\\Ammar\\.conda\\envs\\neuralnets\\lib\\site-packages\\torch\\serialization.py:256: UserWarning: Couldn't retrieve source code for container of type Net_sub. It won't be checked for correctness upon loading.\n",
      "  \"type \" + obj.__name__ + \". It won't be checked \"\n",
      "C:\\Users\\Ammar\\.conda\\envs\\neuralnets\\lib\\site-packages\\torch\\serialization.py:256: UserWarning: Couldn't retrieve source code for container of type Net_mul_sign_0_9. It won't be checked for correctness upon loading.\n",
      "  \"type \" + obj.__name__ + \". It won't be checked \"\n"
     ]
    }
   ],
   "source": [
    "torch.save(net,'model_mul_sign_abs')"
   ]
  },
  {
   "cell_type": "code",
   "execution_count": 80,
   "metadata": {},
   "outputs": [
    {
     "data": {
      "text/plain": [
       "tensor([9939755.])"
      ]
     },
     "execution_count": 80,
     "metadata": {},
     "output_type": "execute_result"
    }
   ],
   "source": [
    "x = torch.tensor([99397544.0])\n",
    "y = torch.tensor([0.1])\n",
    "x * y"
   ]
  },
  {
   "cell_type": "code",
   "execution_count": 81,
   "metadata": {},
   "outputs": [
    {
     "data": {
      "text/plain": [
       "9939754.4"
      ]
     },
     "execution_count": 81,
     "metadata": {},
     "output_type": "execute_result"
    }
   ],
   "source": [
    "99397544.0 * 0.1"
   ]
  }
 ],
 "metadata": {
  "kernelspec": {
   "display_name": "Python 3",
   "language": "python",
   "name": "python3"
  },
  "language_info": {
   "codemirror_mode": {
    "name": "ipython",
    "version": 3
   },
   "file_extension": ".py",
   "mimetype": "text/x-python",
   "name": "python",
   "nbconvert_exporter": "python",
   "pygments_lexer": "ipython3",
   "version": "3.6.8"
  }
 },
 "nbformat": 4,
 "nbformat_minor": 2
}
