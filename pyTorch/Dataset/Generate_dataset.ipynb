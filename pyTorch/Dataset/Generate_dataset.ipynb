{
 "cells": [
  {
   "cell_type": "code",
   "execution_count": 1,
   "metadata": {},
   "outputs": [],
   "source": [
    "import numpy as np"
   ]
  },
  {
   "cell_type": "code",
   "execution_count": 9,
   "metadata": {},
   "outputs": [],
   "source": [
    "# data for addition\n",
    "num_samples = 1000\n",
    "num_digits = 6\n",
    "range_min = -999999\n",
    "range_max = 999999\n",
    "np.random.seed(7)\n",
    "data = np.random.uniform(low=range_min,high = range_max+1,size = (num_samples,2))\n",
    "data = np.round(data)\n",
    "labels = data[:,0] + data[:,1]\n",
    "np.save('data_add' + '_' + str(num_digits) + '_digits', data)\n",
    "np.save('labels_add' +'_' + str(num_digits) + '_digits', labels)"
   ]
  },
  {
   "cell_type": "code",
   "execution_count": 14,
   "metadata": {},
   "outputs": [],
   "source": [
    "# data for subtraction\n",
    "num_samples = 1000\n",
    "num_digits = 6\n",
    "range_min = -999999\n",
    "range_max = 999999\n",
    "np.random.seed(8)\n",
    "data = np.random.uniform(low=range_min,high = range_max+1,size = (num_samples,2))\n",
    "data = np.round(data)\n",
    "labels = data[:,0] - data[:,1]\n",
    "np.save('data_sub' + '_' + str(num_digits) + '_digits', data)\n",
    "np.save('labels_sub' +'_' + str(num_digits) + '_digits', labels_add)"
   ]
  },
  {
   "cell_type": "code",
   "execution_count": 2,
   "metadata": {},
   "outputs": [],
   "source": [
    "# data for multiplication\n",
    "num_samples = 1000\n",
    "num_digits = 7\n",
    "range_min = -9999999\n",
    "range_max = 9999999\n",
    "data = np.random.randint(low=range_min,high = range_max+1,size = (num_samples,3),dtype = np.int64)\n",
    "data[:,2] = num_digits\n",
    "labels_add = data[:,0] * data[:,1]\n",
    "np.save('data_mult' + '_' + str(num_digits) + '_digits', data)\n",
    "np.save('labels_mult' +'_' + str(num_digits) + '_digits', labels_add)"
   ]
  },
  {
   "cell_type": "code",
   "execution_count": 18,
   "metadata": {},
   "outputs": [],
   "source": [
    "# data for division\n",
    "num_samples = 15\n",
    "num_digits = 7\n",
    "range_min = -9999999\n",
    "range_max = 9999999\n",
    "temp = np.random.randint(low = range_min,high = range_max+1,size = (num_samples,2),dtype = np.int64)\n",
    "x_train = np.empty(shape = [num_samples,4])\n",
    "x_train[:,:2] = temp\n",
    "x_train[:,2] = [len(str(abs(x))) for x in temp[:,0]]\n",
    "x_train[:,3] = [len(str(abs(x))) for x in temp[:,1]]\n",
    "# x_train[x_train[:,0] == 0] = np.random.randint(low=range_min,high=range_max+1)\n",
    "y_train = np.empty(shape = [num_samples,2])\n",
    "y_train[:,0] = np.array((np.abs(x_train[:,1]) / np.abs(x_train[:,0])))\n",
    "y_train = np.floor(y_train)\n",
    "for i in range(x_train.shape[0]):\n",
    "    if x_train[i,1] * x_train[i,0] < 0:\n",
    "        y_train[i,0] *= -1\n",
    "\n",
    "y_train[:,1] = np.array(np.abs(x_train[:,1]) % np.abs(x_train[:,0]))\n",
    "np.save('data_div' + '_' + str(num_digits) + '_digits', x_train)\n",
    "np.save('labels_div' +'_' + str(num_digits) + '_digits', y_train)"
   ]
  }
 ],
 "metadata": {
  "kernelspec": {
   "display_name": "Python 3",
   "language": "python",
   "name": "python3"
  },
  "language_info": {
   "codemirror_mode": {
    "name": "ipython",
    "version": 3
   },
   "file_extension": ".py",
   "mimetype": "text/x-python",
   "name": "python",
   "nbconvert_exporter": "python",
   "pygments_lexer": "ipython3",
   "version": "3.6.8"
  }
 },
 "nbformat": 4,
 "nbformat_minor": 2
}
