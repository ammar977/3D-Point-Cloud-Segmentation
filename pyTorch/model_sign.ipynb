{
 "cells": [
  {
   "cell_type": "code",
   "execution_count": 1,
   "metadata": {},
   "outputs": [],
   "source": [
    "import numpy as np\n",
    "import torch.nn as nn\n",
    "import torch.nn.functional as F\n",
    "import torch.optim as optim\n",
    "import torch\n",
    "\n",
    "# from keras.models import Model\n",
    "# from keras.layers import Dense,Input\n",
    "# from keras.layers.convolutional import Conv2D, AtrousConvolution2D\n",
    "# import keras\n",
    "# import keras.backend as K"
   ]
  },
  {
   "cell_type": "code",
   "execution_count": 2,
   "metadata": {},
   "outputs": [],
   "source": [
    "epochs = 10\n",
    "range_min = -999\n",
    "range_max = 999\n",
    "batch_size = 4 \n",
    "num_classes = 2\n",
    "num_train_samples = 1000\n",
    "num_test_samples = 100"
   ]
  },
  {
   "cell_type": "code",
   "execution_count": 5,
   "metadata": {},
   "outputs": [
    {
     "data": {
      "text/plain": [
       "(1000,)"
      ]
     },
     "execution_count": 5,
     "metadata": {},
     "output_type": "execute_result"
    }
   ],
   "source": [
    "x_train = np.random.randint(low = range_min,high = range_max+1,size = (num_train_samples,2))\n",
    "y_train = x_train[:,0] * x_train[:,1]\n",
    "y_train = np.array([1.0 if x > 0 else -1.0 for x in y_train])\n",
    "y_train.shape"
   ]
  },
  {
   "cell_type": "code",
   "execution_count": 6,
   "metadata": {},
   "outputs": [
    {
     "data": {
      "text/plain": [
       "(100,)"
      ]
     },
     "execution_count": 6,
     "metadata": {},
     "output_type": "execute_result"
    }
   ],
   "source": [
    "x_test = np.random.randint(low = range_min,high = range_max+1,size = (num_test_samples,2))\n",
    "y_test = x_test[:,0] * x_test[:,1]\n",
    "y_test = np.array([1.0 if x > 0 else -1.0 for x in y_test])\n",
    "y_test.shape"
   ]
  },
  {
   "cell_type": "code",
   "execution_count": 7,
   "metadata": {},
   "outputs": [],
   "source": [
    "train_data = torch.from_numpy(x_train).type(torch.FloatTensor)\n",
    "train_labels = torch.from_numpy(y_train).type(torch.LongTensor)\n",
    "test_data = torch.from_numpy(x_test).type(torch.FloatTensor)\n",
    "test_labels = torch.from_numpy(y_test).type(torch.LongTensor)"
   ]
  },
  {
   "cell_type": "code",
   "execution_count": 28,
   "metadata": {},
   "outputs": [],
   "source": [
    "# This models takes two numbers as input and gives the sign of their product.\n",
    "# 0 for negative and 1 for positive \n",
    "\n",
    "class Net_sign(nn.Module):\n",
    "    def __init__(self):\n",
    "        super(Net_sign,self).__init__()\n",
    "        self.fc1 = nn.Linear(2,15)\n",
    "        self.fc2 = nn.Linear(15,15)\n",
    "        self.fc3 = nn.Linear(15,2)\n",
    "    \n",
    "    def forward(self,x):\n",
    "        x = F.softsign(self.fc1(x))\n",
    "        x = F.softsign(self.fc2(x))\n",
    "        x = F.softmax(self.fc3(x))\n",
    "        return x\n",
    "    \n",
    "    def predict(self,x):\n",
    "        pred = self.forward(x)\n",
    "        _,out = torch.max(pred,1)\n",
    "        return out\n",
    "    \n",
    "model_initial_sign = torch.load('model_intial_sign')"
   ]
  },
  {
   "cell_type": "code",
   "execution_count": 13,
   "metadata": {},
   "outputs": [],
   "source": [
    "# This model subtracts two numbers\n",
    "class Net_sub(nn.Module):\n",
    "    def __init__(self):\n",
    "        super(Net_sub,self).__init__()\n",
    "        self.fc1 = nn.Linear(2,1)\n",
    "        self.fc1.weight.data = torch.tensor([[1,-1]]).type(torch.FloatTensor)\n",
    "        self.fc1.bias.data = torch.tensor([0]).type(torch.FloatTensor)\n",
    "    \n",
    "    def forward(self,x):\n",
    "        x = self.fc1(x)\n",
    "        return x\n",
    "    \n",
    "    def predict(self,x):\n",
    "        return self.forward(x).type(torch.FloatTensor)\n",
    "    \n",
    "model_sub = torch.load('model_sub')"
   ]
  },
  {
   "cell_type": "code",
   "execution_count": 54,
   "metadata": {},
   "outputs": [],
   "source": [
    "# This model will give the sign(-1 and 1) of the product of two numbers\n",
    "# input: 2 numbers\n",
    "# then it uses model_initial_sign to retrieve 0 and 1\n",
    "# multiplies that with 2\n",
    "# then subtracts -1 to give 1 or -1 as final sign \n",
    "\n",
    "class Net_sign_mult(nn.Module):\n",
    "    def __init__(self,model_initial_sign,model_sub):\n",
    "        super(Net_sign_mult,self).__init__()\n",
    "        \n",
    "        self.model_initial_sign = model_initial_sign\n",
    "        \n",
    "        self.fc1 = nn.Linear(1,1,bias = False) # layer to multiply by 2\n",
    "        self.fc1.weight.data = torch.tensor([[2]]).type(torch.FloatTensor)\n",
    "\n",
    "        self.model_sub = model_sub\n",
    "\n",
    "    \n",
    "    def forward(self,x):\n",
    "        x = self.model_initial_sign.predict(x).type(torch.FloatTensor)\n",
    "        x = x.unsqueeze(-1)\n",
    "\n",
    "        x = self.fc1(x)\n",
    "        \n",
    "        ones = torch.ones(x.shape)\n",
    "        x = torch.cat((x,ones),1)\n",
    "        x = self.model_sub.predict(x)\n",
    "        return x\n",
    "    \n",
    "    def predict(self,x):\n",
    "        return self.forward(x).type(torch.FloatTensor)"
   ]
  },
  {
   "cell_type": "code",
   "execution_count": 55,
   "metadata": {},
   "outputs": [],
   "source": [
    "net = Net_sign_mult(model_initial_sign,model_sub)"
   ]
  },
  {
   "cell_type": "code",
   "execution_count": 59,
   "metadata": {},
   "outputs": [
    {
     "name": "stdout",
     "output_type": "stream",
     "text": [
      "tensor([[-492., -433.],\n",
      "        [ 429., -603.],\n",
      "        [-163.,  397.],\n",
      "        [ 811.,  360.],\n",
      "        [-816., -689.],\n",
      "        [-784.,   42.],\n",
      "        [-642.,  442.],\n",
      "        [ 812., -848.],\n",
      "        [-438.,  141.],\n",
      "        [-733.,  295.]])\n",
      "tensor([ 1, -1, -1,  1,  1, -1, -1, -1, -1, -1])\n"
     ]
    },
    {
     "name": "stderr",
     "output_type": "stream",
     "text": [
      "C:\\Users\\Ammar\\.conda\\envs\\neuralnets\\lib\\site-packages\\ipykernel_launcher.py:14: UserWarning: Implicit dimension choice for softmax has been deprecated. Change the call to include dim=X as an argument.\n",
      "  \n"
     ]
    },
    {
     "name": "stdout",
     "output_type": "stream",
     "text": [
      "torch.Size([10, 1])\n",
      "torch.Size([10, 2])\n"
     ]
    },
    {
     "data": {
      "text/plain": [
       "tensor([[ 1.],\n",
       "        [-1.],\n",
       "        [-1.],\n",
       "        [ 1.],\n",
       "        [ 1.],\n",
       "        [-1.],\n",
       "        [-1.],\n",
       "        [-1.],\n",
       "        [-1.],\n",
       "        [-1.]], grad_fn=<AddmmBackward>)"
      ]
     },
     "execution_count": 59,
     "metadata": {},
     "output_type": "execute_result"
    }
   ],
   "source": [
    "# This does not work when we give more than one item from train_data\n",
    "print(train_data[0:10])\n",
    "print(train_labels[0:10])\n",
    "net.forward(train_data[0:10])"
   ]
  },
  {
   "cell_type": "code",
   "execution_count": 60,
   "metadata": {},
   "outputs": [
    {
     "name": "stderr",
     "output_type": "stream",
     "text": [
      "C:\\Users\\Ammar\\.conda\\envs\\neuralnets\\lib\\site-packages\\torch\\serialization.py:256: UserWarning: Couldn't retrieve source code for container of type Net_sign_mult. It won't be checked for correctness upon loading.\n",
      "  \"type \" + obj.__name__ + \". It won't be checked \"\n",
      "C:\\Users\\Ammar\\.conda\\envs\\neuralnets\\lib\\site-packages\\torch\\serialization.py:256: UserWarning: Couldn't retrieve source code for container of type Net_sign. It won't be checked for correctness upon loading.\n",
      "  \"type \" + obj.__name__ + \". It won't be checked \"\n",
      "C:\\Users\\Ammar\\.conda\\envs\\neuralnets\\lib\\site-packages\\torch\\serialization.py:256: UserWarning: Couldn't retrieve source code for container of type Net_sub. It won't be checked for correctness upon loading.\n",
      "  \"type \" + obj.__name__ + \". It won't be checked \"\n"
     ]
    }
   ],
   "source": [
    "torch.save(net,'model_sign_mult')"
   ]
  }
 ],
 "metadata": {
  "kernelspec": {
   "display_name": "Python 3",
   "language": "python",
   "name": "python3"
  },
  "language_info": {
   "codemirror_mode": {
    "name": "ipython",
    "version": 3
   },
   "file_extension": ".py",
   "mimetype": "text/x-python",
   "name": "python",
   "nbconvert_exporter": "python",
   "pygments_lexer": "ipython3",
   "version": "3.6.8"
  }
 },
 "nbformat": 4,
 "nbformat_minor": 2
}
