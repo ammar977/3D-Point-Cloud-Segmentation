{
 "cells": [
  {
   "cell_type": "code",
   "execution_count": 12,
   "metadata": {},
   "outputs": [],
   "source": [
    "import numpy as np\n",
    "import torch.nn as nn\n",
    "import torch.nn.functional as F\n",
    "import torch.optim as optim\n",
    "import torch\n",
    "\n",
    "from keras.models import Model\n",
    "from keras.layers import Dense,Input\n",
    "from keras.layers.convolutional import Conv2D, AtrousConvolution2D\n",
    "import keras\n",
    "import keras.backend as K"
   ]
  },
  {
   "cell_type": "code",
   "execution_count": 2,
   "metadata": {},
   "outputs": [],
   "source": [
    "epochs = 100\n",
    "range_min = 0\n",
    "range_max = 9\n",
    "batch_size = 4 \n",
    "num_classes = 82\n",
    "num_train_samples = 100"
   ]
  },
  {
   "cell_type": "code",
   "execution_count": 5,
   "metadata": {},
   "outputs": [
    {
     "name": "stdout",
     "output_type": "stream",
     "text": [
      "torch.Size([100, 2])\n",
      "torch.Size([100])\n"
     ]
    }
   ],
   "source": [
    "temp = np.random.randint(low=0,high=10,size = (num_train_samples,1))\n",
    "temp2 = np.ones((num_train_samples // 2,1))\n",
    "temp2 = np.concatenate((temp2,-temp2))\n",
    "np.random.shuffle(temp2)\n",
    "train_data = np.hstack((temp,temp2))\n",
    "train_labels = train_data[:,0] * train_data[:,1]\n",
    "train_data = torch.from_numpy(train_data).type(torch.FloatTensor)\n",
    "train_labels = torch.from_numpy(train_labels).type(torch.LongTensor)\n",
    "print(train_data.shape)\n",
    "print(train_labels.shape)"
   ]
  },
  {
   "cell_type": "code",
   "execution_count": 6,
   "metadata": {},
   "outputs": [],
   "source": [
    "def net_exp(inputs):\n",
    "    input_data = Input(shape = inputs)\n",
    "    \n",
    "    out = Dense(10,activation='softsign',name = 'fc1')(input_data)\n",
    "    out = Dense(1,activation = 'linear',name = 'fc2')(out)\n",
    "    return Model(inputs = input_data,outputs=out)"
   ]
  },
  {
   "cell_type": "code",
   "execution_count": 7,
   "metadata": {},
   "outputs": [],
   "source": [
    "model_exp = net_exp((2,))\n",
    "model_exp.compile(loss='MSE',optimizer = 'adam',metrics=['accuracy'])\n",
    "model_exp.load_weights('../final_mult.h5')\n",
    "model_exp.trainable=False"
   ]
  },
  {
   "cell_type": "code",
   "execution_count": 8,
   "metadata": {},
   "outputs": [],
   "source": [
    "def keras_to_pyt(km, pm):\n",
    "    weight_dict = dict()\n",
    "    for layer in km.layers:\n",
    "        if type(layer) is keras.layers.convolutional.Conv2D:\n",
    "            weight_dict[layer.get_config()['name'] + '.weight'] = np.transpose(layer.get_weights()[0], (3, 2, 0, 1))\n",
    "            weight_dict[layer.get_config()['name'] + '.bias'] = layer.get_weights()[1]\n",
    "        elif type(layer) is keras.layers.Dense:\n",
    "            weight_dict[layer.get_config()['name'] + '.weight'] = np.transpose(layer.get_weights()[0], (1, 0))\n",
    "            weight_dict[layer.get_config()['name'] + '.bias'] = layer.get_weights()[1]\n",
    "    pyt_state_dict = pm.state_dict()\n",
    "    for key in pyt_state_dict.keys():\n",
    "        pyt_state_dict[key] = torch.from_numpy(weight_dict[key])\n",
    "    pm.load_state_dict(pyt_state_dict)\n",
    "    return (pm,pyt_state_dict)"
   ]
  },
  {
   "cell_type": "code",
   "execution_count": 16,
   "metadata": {},
   "outputs": [],
   "source": [
    "# this model mulltiplies a single digit number with a sign (1,-1)\n",
    "# input: 2 numbers (2,)\n",
    "# output: single number \n",
    "class Net_mul_sign_0_9(nn.Module):\n",
    "    def __init__(self):\n",
    "        super(Net_mul_sign_0_9,self).__init__()\n",
    "        self.fc1 = nn.Linear(2,10)\n",
    "        self.fc2 = nn.Linear(10,1)\n",
    "    \n",
    "    def forward(self,x):\n",
    "        x = F.softsign(self.fc1(x))\n",
    "        x = self.fc2(x)\n",
    "        return x\n",
    "    \n",
    "    def predict(self,x):\n",
    "        out = self.forward(x)\n",
    "        return torch.round(out).type(torch.FloatTensor)"
   ]
  },
  {
   "cell_type": "code",
   "execution_count": 17,
   "metadata": {},
   "outputs": [],
   "source": [
    "net = Net_mul_sign_0_9()\n",
    "criterion = nn.MSELoss()\n",
    "optimizer = optim.Adam(net.parameters(), lr=0.001)"
   ]
  },
  {
   "cell_type": "code",
   "execution_count": 18,
   "metadata": {},
   "outputs": [],
   "source": [
    "net,weights = keras_to_pyt(model_exp, net)"
   ]
  },
  {
   "cell_type": "code",
   "execution_count": 20,
   "metadata": {},
   "outputs": [
    {
     "name": "stderr",
     "output_type": "stream",
     "text": [
      "C:\\Users\\Ammar\\.conda\\envs\\neuralnets\\lib\\site-packages\\torch\\serialization.py:256: UserWarning: Couldn't retrieve source code for container of type Net_mul_sign_0_9. It won't be checked for correctness upon loading.\n",
      "  \"type \" + obj.__name__ + \". It won't be checked \"\n"
     ]
    }
   ],
   "source": [
    "torch.save(net,'model_mul_sign_0_9')"
   ]
  },
  {
   "cell_type": "code",
   "execution_count": 21,
   "metadata": {},
   "outputs": [],
   "source": [
    "model1 = torch.load('model_mul_sign_0_9')"
   ]
  },
  {
   "cell_type": "code",
   "execution_count": 23,
   "metadata": {},
   "outputs": [
    {
     "name": "stdout",
     "output_type": "stream",
     "text": [
      "tensor([ 2, -2,  8,  5, -5, -9, -6,  3,  7, -4])\n"
     ]
    },
    {
     "data": {
      "text/plain": [
       "tensor([[ 2.],\n",
       "        [-2.],\n",
       "        [ 8.],\n",
       "        [ 5.],\n",
       "        [-5.],\n",
       "        [-9.],\n",
       "        [-6.],\n",
       "        [ 3.],\n",
       "        [ 7.],\n",
       "        [-4.]], grad_fn=<RoundBackward>)"
      ]
     },
     "execution_count": 23,
     "metadata": {},
     "output_type": "execute_result"
    }
   ],
   "source": [
    "print(train_labels[:10])\n",
    "model1.predict(train_data[:10])"
   ]
  }
 ],
 "metadata": {
  "kernelspec": {
   "display_name": "Python 3",
   "language": "python",
   "name": "python3"
  },
  "language_info": {
   "codemirror_mode": {
    "name": "ipython",
    "version": 3
   },
   "file_extension": ".py",
   "mimetype": "text/x-python",
   "name": "python",
   "nbconvert_exporter": "python",
   "pygments_lexer": "ipython3",
   "version": "3.6.8"
  }
 },
 "nbformat": 4,
 "nbformat_minor": 2
}
