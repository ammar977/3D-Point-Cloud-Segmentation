{
 "cells": [
  {
   "cell_type": "code",
   "execution_count": 1,
   "metadata": {},
   "outputs": [
    {
     "name": "stderr",
     "output_type": "stream",
     "text": [
      "Using TensorFlow backend.\n"
     ]
    }
   ],
   "source": [
    "import numpy as np\n",
    "import torch.nn as nn\n",
    "import torch.nn.functional as F\n",
    "import torch.optim as optim\n",
    "import torch\n",
    "\n",
    "from keras.models import Model\n",
    "from keras.layers import Dense,Input\n",
    "from keras.layers.convolutional import Conv2D, AtrousConvolution2D\n",
    "import keras\n",
    "import keras.backend as K"
   ]
  },
  {
   "cell_type": "code",
   "execution_count": 2,
   "metadata": {},
   "outputs": [],
   "source": [
    "epochs = 10\n",
    "range_min = -999\n",
    "range_max = 999\n",
    "batch_size = 4 \n",
    "num_classes = 2\n",
    "num_train_samples = 1000\n",
    "num_test_samples = 100"
   ]
  },
  {
   "cell_type": "code",
   "execution_count": 3,
   "metadata": {},
   "outputs": [],
   "source": [
    "x_train = np.random.randint(low = range_min,high = range_max+1,size = (num_train_samples,2))\n",
    "y_train = x_train[:,0] * x_train[:,1]\n",
    "y_train = np.abs(y_train) / y_train\n",
    "y_train[y_train < 0] = 0"
   ]
  },
  {
   "cell_type": "code",
   "execution_count": 4,
   "metadata": {},
   "outputs": [],
   "source": [
    "x_test = np.random.randint(low = range_min,high = range_max+1,size = (num_test_samples,2))\n",
    "y_test = x_test[:,0] * x_test[:,1]\n",
    "y_test = np.abs(y_test) / y_test\n",
    "y_test[y_test < 0] = 0"
   ]
  },
  {
   "cell_type": "code",
   "execution_count": 5,
   "metadata": {},
   "outputs": [],
   "source": [
    "train_data = torch.from_numpy(x_train).type(torch.FloatTensor)\n",
    "train_labels = torch.from_numpy(y_train).type(torch.LongTensor)\n",
    "test_data = torch.from_numpy(x_test).type(torch.FloatTensor)\n",
    "test_labels = torch.from_numpy(y_test).type(torch.LongTensor)"
   ]
  },
  {
   "cell_type": "code",
   "execution_count": 6,
   "metadata": {},
   "outputs": [],
   "source": [
    "def keras_to_pyt(km, pm):\n",
    "    weight_dict = dict()\n",
    "    for layer in km.layers:\n",
    "        if type(layer) is keras.layers.convolutional.Conv2D:\n",
    "            weight_dict[layer.get_config()['name'] + '.weight'] = np.transpose(layer.get_weights()[0], (3, 2, 0, 1))\n",
    "            weight_dict[layer.get_config()['name'] + '.bias'] = layer.get_weights()[1]\n",
    "        elif type(layer) is keras.layers.Dense:\n",
    "            weight_dict[layer.get_config()['name'] + '.weight'] = np.transpose(layer.get_weights()[0], (1, 0))\n",
    "            weight_dict[layer.get_config()['name'] + '.bias'] = layer.get_weights()[1]\n",
    "    pyt_state_dict = pm.state_dict()\n",
    "    for key in pyt_state_dict.keys():\n",
    "        pyt_state_dict[key] = torch.from_numpy(weight_dict[key])\n",
    "    pm.load_state_dict(pyt_state_dict)\n",
    "    return (pm,pyt_state_dict)"
   ]
  },
  {
   "cell_type": "code",
   "execution_count": 11,
   "metadata": {},
   "outputs": [],
   "source": [
    "class Net_sign(nn.Module):\n",
    "    def __init__(self):\n",
    "        super(Net_sign,self).__init__()\n",
    "        self.fc1 = nn.Linear(2,15)\n",
    "        self.fc2 = nn.Linear(15,15)\n",
    "        self.fc3 = nn.Linear(15,2)\n",
    "    \n",
    "    def forward(self,x):\n",
    "        x = F.softsign(self.fc1(x))\n",
    "        x = F.softsign(self.fc2(x))\n",
    "        x = F.softmax(self.fc3(x))\n",
    "        return x\n",
    "    \n",
    "    def predict(self,x):\n",
    "        pred = self.forward(x)\n",
    "        _,out = torch.max(pred,1)\n",
    "        return out\n",
    "        "
   ]
  },
  {
   "cell_type": "code",
   "execution_count": 12,
   "metadata": {},
   "outputs": [],
   "source": [
    "net = Net_sign()\n",
    "criterion = nn.CrossEntropyLoss()\n",
    "optimizer = optim.Adam(net.parameters(), lr=0.001)"
   ]
  },
  {
   "cell_type": "code",
   "execution_count": 13,
   "metadata": {},
   "outputs": [],
   "source": [
    "def net_sign(inputs):\n",
    "    input_data = Input(shape=inputs)\n",
    "    out = Dense(15,activation = 'softsign',name='fc1')(input_data)\n",
    "    out = Dense(15,activation = 'softsign',name='fc2')(out)\n",
    "    out = Dense(2,activation = 'softmax',name='fc3')(out)\n",
    "\n",
    "    return Model(inputs=input_data,outputs=out)"
   ]
  },
  {
   "cell_type": "code",
   "execution_count": 14,
   "metadata": {},
   "outputs": [],
   "source": [
    "model_sign = net_sign((2,))\n",
    "model_sign.compile(loss='categorical_crossentropy',optimizer = 'adam',metrics=['accuracy'])\n",
    "# model_sign.summary()\n",
    "model_sign.trainable=False\n",
    "model_sign.load_weights('../neg_pos.h5')"
   ]
  },
  {
   "cell_type": "code",
   "execution_count": 15,
   "metadata": {},
   "outputs": [],
   "source": [
    "net,weights = keras_to_pyt(model_sign, net)"
   ]
  },
  {
   "cell_type": "code",
   "execution_count": 16,
   "metadata": {},
   "outputs": [
    {
     "name": "stderr",
     "output_type": "stream",
     "text": [
      "C:\\Users\\Ammar\\.conda\\envs\\neuralnets\\lib\\site-packages\\ipykernel_launcher.py:11: UserWarning: Implicit dimension choice for softmax has been deprecated. Change the call to include dim=X as an argument.\n",
      "  # This is added back by InteractiveShellApp.init_path()\n"
     ]
    },
    {
     "name": "stdout",
     "output_type": "stream",
     "text": [
      "[0 0 0 1 0 1 1 1 0 0 0 1 0 0 1 1 1 0 0 0 1 0 1 0 1 1 1 0 0 1 0 1 1 0 1 1 1\n",
      " 1 0 1 1 1 1 1 0 1 1 0 1 1 1 1 1 1 1 1 0 1 0 0 1 0 0 1 1 1 0 1 1 1 0 1 0 0\n",
      " 0 1 1 0 0 0 0 0 1 0 1 0 0 0 1 0 0 1 0 1 1 0 1 0 1 0]\n",
      "tensor([0, 0, 0, 1, 0, 1, 1, 1, 0, 0, 0, 1, 0, 0, 1, 1, 1, 0, 0, 0, 1, 0, 1, 0,\n",
      "        1, 1, 1, 0, 0, 1, 0, 1, 1, 0, 1, 1, 1, 1, 0, 1, 1, 1, 1, 1, 0, 1, 1, 0,\n",
      "        1, 1, 1, 1, 1, 1, 1, 1, 0, 1, 0, 0, 1, 0, 0, 1, 1, 1, 0, 1, 1, 1, 0, 1,\n",
      "        0, 0, 0, 1, 1, 0, 0, 0, 0, 0, 1, 0, 1, 0, 0, 0, 1, 0, 0, 1, 0, 1, 1, 0,\n",
      "        1, 0, 1, 0])\n"
     ]
    }
   ],
   "source": [
    "pred = net.forward(test_data)\n",
    "_,indices = torch.max(pred,1)\n",
    "indices = indices.numpy()\n",
    "print(indices)\n",
    "print(test_labels)"
   ]
  },
  {
   "cell_type": "code",
   "execution_count": 18,
   "metadata": {},
   "outputs": [
    {
     "name": "stderr",
     "output_type": "stream",
     "text": [
      "C:\\Users\\Ammar\\.conda\\envs\\neuralnets\\lib\\site-packages\\torch\\serialization.py:256: UserWarning: Couldn't retrieve source code for container of type Net_sign. It won't be checked for correctness upon loading.\n",
      "  \"type \" + obj.__name__ + \". It won't be checked \"\n"
     ]
    }
   ],
   "source": [
    "torch.save(net,'model_intial_sign')"
   ]
  }
 ],
 "metadata": {
  "kernelspec": {
   "display_name": "Python 3",
   "language": "python",
   "name": "python3"
  },
  "language_info": {
   "codemirror_mode": {
    "name": "ipython",
    "version": 3
   },
   "file_extension": ".py",
   "mimetype": "text/x-python",
   "name": "python",
   "nbconvert_exporter": "python",
   "pygments_lexer": "ipython3",
   "version": "3.6.8"
  }
 },
 "nbformat": 4,
 "nbformat_minor": 2
}
