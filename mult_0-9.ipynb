{
 "cells": [
  {
   "cell_type": "markdown",
   "metadata": {},
   "source": [
    "## Imports"
   ]
  },
  {
   "cell_type": "code",
   "execution_count": 1,
   "metadata": {},
   "outputs": [
    {
     "name": "stderr",
     "output_type": "stream",
     "text": [
      "Using TensorFlow backend.\n"
     ]
    }
   ],
   "source": [
    "# import NALU files\n",
    "import sys\n",
    "sys.path.insert(0, 'C:/Users/Ammar/Documents/CV LAB internship/Sproj/NALU_files')\n",
    "from nalu import NALU\n",
    "from nac import NAC\n",
    "\n",
    "\n",
    "# import Keras items\n",
    "from keras.models import Model\n",
    "from keras.layers import Dense,Lambda,Concatenate,Input,Activation,Layer,Dropout\n",
    "from keras import backend as K\n",
    "from keras.utils import to_categorical,plot_model\n",
    "\n",
    "# import other libs\n",
    "import numpy as np\n",
    "from itertools import combinations_with_replacement,product\n",
    "from sklearn.model_selection import train_test_split"
   ]
  },
  {
   "cell_type": "markdown",
   "metadata": {},
   "source": [
    "## Parameters"
   ]
  },
  {
   "cell_type": "code",
   "execution_count": 2,
   "metadata": {
    "collapsed": true
   },
   "outputs": [],
   "source": [
    "model_name = 'mul_0-9'\n",
    "EPOCHS = 2000\n",
    "BATCH_SIZE = 4\n",
    "range_min = 0\n",
    "range_max = 9"
   ]
  },
  {
   "cell_type": "markdown",
   "metadata": {},
   "source": [
    "## Generate Dataset"
   ]
  },
  {
   "cell_type": "code",
   "execution_count": 3,
   "metadata": {},
   "outputs": [
    {
     "name": "stdout",
     "output_type": "stream",
     "text": [
      "\t (100, 82)\n"
     ]
    }
   ],
   "source": [
    "x = np.array(list(product(range(10),repeat = 2)))\n",
    "y = x[:,0] * x[:,1]\n",
    "y = to_categorical(y,num_classes=82)\n",
    "print('\\t',y.shape)"
   ]
  },
  {
   "cell_type": "markdown",
   "metadata": {},
   "source": [
    "## Model"
   ]
  },
  {
   "cell_type": "code",
   "execution_count": 4,
   "metadata": {
    "collapsed": true
   },
   "outputs": [],
   "source": [
    "def net(inputs):\n",
    "    input_data = Input(shape = inputs)\n",
    "    out = Dense(30,activation = 'relu')(input_data)\n",
    "    out = Dense(82,activation='softmax')(out)\n",
    "\n",
    "    return Model(inputs = input_data,outputs = out)"
   ]
  },
  {
   "cell_type": "markdown",
   "metadata": {},
   "source": [
    "+ #### Model Initilization And Details"
   ]
  },
  {
   "cell_type": "code",
   "execution_count": 5,
   "metadata": {},
   "outputs": [
    {
     "name": "stdout",
     "output_type": "stream",
     "text": [
      "_________________________________________________________________\n",
      "Layer (type)                 Output Shape              Param #   \n",
      "=================================================================\n",
      "input_1 (InputLayer)         (None, 2)                 0         \n",
      "_________________________________________________________________\n",
      "dense_1 (Dense)              (None, 30)                90        \n",
      "_________________________________________________________________\n",
      "dense_2 (Dense)              (None, 82)                2542      \n",
      "=================================================================\n",
      "Total params: 2,632\n",
      "Trainable params: 2,632\n",
      "Non-trainable params: 0\n",
      "_________________________________________________________________\n"
     ]
    }
   ],
   "source": [
    "model = net((2,))\n",
    "model.compile(loss = 'categorical_crossentropy',optimizer = 'Adam',metrics = ['accuracy'])\n",
    "model.summary()"
   ]
  },
  {
   "cell_type": "markdown",
   "metadata": {},
   "source": [
    "+ #### Fit Model"
   ]
  },
  {
   "cell_type": "code",
   "execution_count": 141,
   "metadata": {},
   "outputs": [
    {
     "name": "stdout",
     "output_type": "stream",
     "text": [
      "Train on 100 samples, validate on 100 samples\n",
      "Epoch 1/10\n",
      "100/100 [==============================] - 0s 615us/step - loss: 0.1160 - acc: 0.9700 - val_loss: 0.0938 - val_acc: 1.0000\n",
      "Epoch 2/10\n",
      "100/100 [==============================] - 0s 648us/step - loss: 0.1069 - acc: 1.0000 - val_loss: 0.0942 - val_acc: 1.0000\n",
      "Epoch 3/10\n",
      "100/100 [==============================] - 0s 508us/step - loss: 0.1044 - acc: 1.0000 - val_loss: 0.0938 - val_acc: 1.0000\n",
      "Epoch 4/10\n",
      "100/100 [==============================] - 0s 508us/step - loss: 0.1066 - acc: 1.0000 - val_loss: 0.0938 - val_acc: 1.0000\n",
      "Epoch 5/10\n",
      "100/100 [==============================] - 0s 548us/step - loss: 0.1190 - acc: 0.9700 - val_loss: 0.0941 - val_acc: 1.0000\n",
      "Epoch 6/10\n",
      "100/100 [==============================] - 0s 618us/step - loss: 0.1070 - acc: 0.9900 - val_loss: 0.0963 - val_acc: 0.9900\n",
      "Epoch 7/10\n",
      "100/100 [==============================] - 0s 548us/step - loss: 0.1202 - acc: 0.9900 - val_loss: 0.0984 - val_acc: 0.9900\n",
      "Epoch 8/10\n",
      "100/100 [==============================] - 0s 608us/step - loss: 0.1158 - acc: 0.9700 - val_loss: 0.0964 - val_acc: 0.9800\n",
      "Epoch 9/10\n",
      "100/100 [==============================] - 0s 588us/step - loss: 0.1026 - acc: 1.0000 - val_loss: 0.0933 - val_acc: 1.0000\n",
      "Epoch 10/10\n",
      "100/100 [==============================] - 0s 648us/step - loss: 0.1105 - acc: 1.0000 - val_loss: 0.0935 - val_acc: 1.0000\n"
     ]
    }
   ],
   "source": [
    "fitted = model.fit(x, y, validation_data = (x,y),\n",
    "          batch_size=BATCH_SIZE, epochs=EPOCHS//200,\n",
    "          verbose=1)"
   ]
  },
  {
   "cell_type": "markdown",
   "metadata": {},
   "source": [
    "+ #### Test Model"
   ]
  },
  {
   "cell_type": "code",
   "execution_count": 9,
   "metadata": {
    "scrolled": true
   },
   "outputs": [
    {
     "name": "stdout",
     "output_type": "stream",
     "text": [
      "\t [0 0]  =  0\n",
      "\t predicted:  0\n",
      "\t [0 1]  =  0\n",
      "\t predicted:  0\n",
      "\t [0 2]  =  0\n",
      "\t predicted:  0\n",
      "\t [0 3]  =  0\n",
      "\t predicted:  0\n",
      "\t [0 4]  =  0\n",
      "\t predicted:  0\n",
      "\t [0 5]  =  0\n",
      "\t predicted:  0\n",
      "\t [0 6]  =  0\n",
      "\t predicted:  0\n",
      "\t [0 7]  =  0\n",
      "\t predicted:  0\n",
      "\t [0 8]  =  0\n",
      "\t predicted:  0\n",
      "\t [0 9]  =  0\n",
      "\t predicted:  0\n",
      "\t [1 0]  =  0\n",
      "\t predicted:  0\n",
      "\t [1 1]  =  1\n",
      "\t predicted:  1\n",
      "\t [1 2]  =  2\n",
      "\t predicted:  2\n",
      "\t [1 3]  =  3\n",
      "\t predicted:  3\n",
      "\t [1 4]  =  4\n",
      "\t predicted:  4\n",
      "\t [1 5]  =  5\n",
      "\t predicted:  5\n",
      "\t [1 6]  =  6\n",
      "\t predicted:  6\n",
      "\t [1 7]  =  7\n",
      "\t predicted:  7\n",
      "\t [1 8]  =  8\n",
      "\t predicted:  8\n",
      "\t [1 9]  =  9\n",
      "\t predicted:  9\n",
      "\t [2 0]  =  0\n",
      "\t predicted:  0\n",
      "\t [2 1]  =  2\n",
      "\t predicted:  2\n",
      "\t [2 2]  =  4\n",
      "\t predicted:  4\n",
      "\t [2 3]  =  6\n",
      "\t predicted:  6\n",
      "\t [2 4]  =  8\n",
      "\t predicted:  8\n",
      "\t [2 5]  =  10\n",
      "\t predicted:  10\n",
      "\t [2 6]  =  12\n",
      "\t predicted:  12\n",
      "\t [2 7]  =  14\n",
      "\t predicted:  14\n",
      "\t [2 8]  =  16\n",
      "\t predicted:  16\n",
      "\t [2 9]  =  18\n",
      "\t predicted:  18\n",
      "\t [3 0]  =  0\n",
      "\t predicted:  0\n",
      "\t [3 1]  =  3\n",
      "\t predicted:  3\n",
      "\t [3 2]  =  6\n",
      "\t predicted:  6\n",
      "\t [3 3]  =  9\n",
      "\t predicted:  9\n",
      "\t [3 4]  =  12\n",
      "\t predicted:  12\n",
      "\t [3 5]  =  15\n",
      "\t predicted:  15\n",
      "\t [3 6]  =  18\n",
      "\t predicted:  18\n",
      "\t [3 7]  =  21\n",
      "\t predicted:  21\n",
      "\t [3 8]  =  24\n",
      "\t predicted:  24\n",
      "\t [3 9]  =  27\n",
      "\t predicted:  27\n",
      "\t [4 0]  =  0\n",
      "\t predicted:  0\n",
      "\t [4 1]  =  4\n",
      "\t predicted:  4\n",
      "\t [4 2]  =  8\n",
      "\t predicted:  8\n",
      "\t [4 3]  =  12\n",
      "\t predicted:  12\n",
      "\t [4 4]  =  16\n",
      "\t predicted:  16\n",
      "\t [4 5]  =  20\n",
      "\t predicted:  20\n",
      "\t [4 6]  =  24\n",
      "\t predicted:  24\n",
      "\t [4 7]  =  28\n",
      "\t predicted:  28\n",
      "\t [4 8]  =  32\n",
      "\t predicted:  32\n",
      "\t [4 9]  =  36\n",
      "\t predicted:  36\n",
      "\t [5 0]  =  0\n",
      "\t predicted:  0\n",
      "\t [5 1]  =  5\n",
      "\t predicted:  5\n",
      "\t [5 2]  =  10\n",
      "\t predicted:  10\n",
      "\t [5 3]  =  15\n",
      "\t predicted:  15\n",
      "\t [5 4]  =  20\n",
      "\t predicted:  20\n",
      "\t [5 5]  =  25\n",
      "\t predicted:  25\n",
      "\t [5 6]  =  30\n",
      "\t predicted:  30\n",
      "\t [5 7]  =  35\n",
      "\t predicted:  35\n",
      "\t [5 8]  =  40\n",
      "\t predicted:  40\n",
      "\t [5 9]  =  45\n",
      "\t predicted:  45\n",
      "\t [6 0]  =  0\n",
      "\t predicted:  0\n",
      "\t [6 1]  =  6\n",
      "\t predicted:  6\n",
      "\t [6 2]  =  12\n",
      "\t predicted:  12\n",
      "\t [6 3]  =  18\n",
      "\t predicted:  18\n",
      "\t [6 4]  =  24\n",
      "\t predicted:  24\n",
      "\t [6 5]  =  30\n",
      "\t predicted:  30\n",
      "\t [6 6]  =  36\n",
      "\t predicted:  36\n",
      "\t [6 7]  =  42\n",
      "\t predicted:  42\n",
      "\t [6 8]  =  48\n",
      "\t predicted:  48\n",
      "\t [6 9]  =  54\n",
      "\t predicted:  54\n",
      "\t [7 0]  =  0\n",
      "\t predicted:  0\n",
      "\t [7 1]  =  7\n",
      "\t predicted:  7\n",
      "\t [7 2]  =  14\n",
      "\t predicted:  14\n",
      "\t [7 3]  =  21\n",
      "\t predicted:  21\n",
      "\t [7 4]  =  28\n",
      "\t predicted:  28\n",
      "\t [7 5]  =  35\n",
      "\t predicted:  35\n",
      "\t [7 6]  =  42\n",
      "\t predicted:  42\n",
      "\t [7 7]  =  49\n",
      "\t predicted:  49\n",
      "\t [7 8]  =  56\n",
      "\t predicted:  56\n",
      "\t [7 9]  =  63\n",
      "\t predicted:  63\n",
      "\t [8 0]  =  0\n",
      "\t predicted:  0\n",
      "\t [8 1]  =  8\n",
      "\t predicted:  8\n",
      "\t [8 2]  =  16\n",
      "\t predicted:  16\n",
      "\t [8 3]  =  24\n",
      "\t predicted:  24\n",
      "\t [8 4]  =  32\n",
      "\t predicted:  32\n",
      "\t [8 5]  =  40\n",
      "\t predicted:  40\n",
      "\t [8 6]  =  48\n",
      "\t predicted:  48\n",
      "\t [8 7]  =  56\n",
      "\t predicted:  56\n",
      "\t [8 8]  =  64\n",
      "\t predicted:  64\n",
      "\t [8 9]  =  72\n",
      "\t predicted:  72\n",
      "\t [9 0]  =  0\n",
      "\t predicted:  0\n",
      "\t [9 1]  =  9\n",
      "\t predicted:  9\n",
      "\t [9 2]  =  18\n",
      "\t predicted:  18\n",
      "\t [9 3]  =  27\n",
      "\t predicted:  27\n",
      "\t [9 4]  =  36\n",
      "\t predicted:  36\n",
      "\t [9 5]  =  45\n",
      "\t predicted:  45\n",
      "\t [9 6]  =  54\n",
      "\t predicted:  54\n",
      "\t [9 7]  =  63\n",
      "\t predicted:  63\n",
      "\t [9 8]  =  72\n",
      "\t predicted:  72\n",
      "\t [9 9]  =  81\n",
      "\t predicted:  81\n"
     ]
    }
   ],
   "source": [
    "out = model.predict(x)\n",
    "for i in range(100):\n",
    "    print ('\\t',x[i,:],' = ', np.argmax(y[i]))\n",
    "    print('\\t predicted: ',np.argmax(out[i]))"
   ]
  },
  {
   "cell_type": "markdown",
   "metadata": {},
   "source": [
    "+ #### Save Model"
   ]
  },
  {
   "cell_type": "code",
   "execution_count": 6,
   "metadata": {
    "collapsed": true
   },
   "outputs": [],
   "source": [
    "model.load_weights('mul_0-9_classifier.h5')"
   ]
  },
  {
   "cell_type": "code",
   "execution_count": 151,
   "metadata": {
    "collapsed": true
   },
   "outputs": [],
   "source": [
    "plot_model(model,to_file = 'mul_0-9.png',show_shapes=True)"
   ]
  }
 ],
 "metadata": {
  "kernelspec": {
   "display_name": "Python 3",
   "language": "python",
   "name": "python3"
  },
  "language_info": {
   "codemirror_mode": {
    "name": "ipython",
    "version": 3
   },
   "file_extension": ".py",
   "mimetype": "text/x-python",
   "name": "python",
   "nbconvert_exporter": "python",
   "pygments_lexer": "ipython3",
   "version": "3.6.8"
  }
 },
 "nbformat": 4,
 "nbformat_minor": 2
}
