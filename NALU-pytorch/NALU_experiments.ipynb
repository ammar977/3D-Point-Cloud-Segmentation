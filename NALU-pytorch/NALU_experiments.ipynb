{
 "cells": [
  {
   "cell_type": "code",
   "execution_count": 1,
   "metadata": {},
   "outputs": [],
   "source": [
    "import torch\n",
    "from torch import nn as nn\n",
    "from models.nac import NAC\n",
    "from models.nalu import NALU\n",
    "from utilities.train_utils import get_eval_loss\n",
    "from utilities.train_utils import get_eval_preds\n",
    "from utilities.train_utils import train\n",
    "from torch.optim import Adam\n",
    "import numpy as np\n",
    "import pandas as pd"
   ]
  },
  {
   "cell_type": "markdown",
   "metadata": {},
   "source": [
    "### Function to create toy dataset"
   ]
  },
  {
   "cell_type": "code",
   "execution_count": 244,
   "metadata": {},
   "outputs": [],
   "source": [
    "def make_data(min_val, max_val, num_obs, op):\n",
    "    '''\n",
    "    Generates toy data and target by sampling values from a\n",
    "    uniform distribution parameterized by min_val and max_val.\n",
    "    '''\n",
    "#     np.random.seed(7)\n",
    "    data = np.random.uniform(min_val, max_val, size=(num_obs, 2))\n",
    "    if op == '+':\n",
    "        targets = data[:, 0] + data[:, 1]\n",
    "    elif op == '-':\n",
    "        targets = data[:, 0] - data[:, 1]\n",
    "    elif op == '*':\n",
    "        targets = data[:, 0] * data[:, 1]\n",
    "    elif op == '/':\n",
    "        targets = data[:, 0] / data[:, 1]\n",
    "    elif op == '^2':\n",
    "        data = np.random.randint(min_val, max_val, size=(num_obs, 1)).astype(np.float32)\n",
    "        targets = data ** 2\n",
    "    elif op == 'sqrt':\n",
    "        data = np.random.randint(min_val, max_val, size=(num_obs, 1))\n",
    "        targets = np.sqrt(data)\n",
    "    return data, targets"
   ]
  },
  {
   "cell_type": "markdown",
   "metadata": {},
   "source": [
    "### Function to compute accuracy of predictions"
   ]
  },
  {
   "cell_type": "code",
   "execution_count": 3,
   "metadata": {},
   "outputs": [],
   "source": [
    "def accuracy_score(preds, targets, tol=1e-3):\n",
    "    '''\n",
    "    Computes prediction accuracy by checking if\n",
    "    predictions are equal to the target upto `tol`\n",
    "    places after decimal.\n",
    "    '''\n",
    "    preds = preds.cpu().numpy().flatten()\n",
    "    targets = targets.cpu().numpy().flatten()\n",
    "    accuracy = np.isclose(preds, targets, rtol=tol)\n",
    "    accuracy = accuracy.astype(np.int32).mean()\n",
    "    return accuracy * 100"
   ]
  },
  {
   "cell_type": "markdown",
   "metadata": {},
   "source": [
    "### Running experiments"
   ]
  },
  {
   "cell_type": "code",
   "execution_count": 5,
   "metadata": {
    "scrolled": true
   },
   "outputs": [
    {
     "name": "stderr",
     "output_type": "stream",
     "text": [
      "                                                                                                                       \r"
     ]
    },
    {
     "name": "stdout",
     "output_type": "stream",
     "text": [
      "Test accuracy for [+]: 100.00%\n"
     ]
    },
    {
     "name": "stderr",
     "output_type": "stream",
     "text": [
      "                                                                                                                       \r"
     ]
    },
    {
     "name": "stdout",
     "output_type": "stream",
     "text": [
      "Test accuracy for [-]: 100.00%\n"
     ]
    },
    {
     "name": "stderr",
     "output_type": "stream",
     "text": [
      "                                                                                                                       \r"
     ]
    },
    {
     "name": "stdout",
     "output_type": "stream",
     "text": [
      "Test accuracy for [*]: 100.00%\n"
     ]
    },
    {
     "name": "stderr",
     "output_type": "stream",
     "text": [
      "                                                                                                                       \r"
     ]
    },
    {
     "name": "stdout",
     "output_type": "stream",
     "text": [
      "Test accuracy for [/]: 94.83%\n"
     ]
    }
   ],
   "source": [
    "eps = 1e-12\n",
    "ops = ['+', '-', '*', '/']\n",
    "test_scores = {}\n",
    "models=[]\n",
    "for op in ops:\n",
    "        \n",
    "    X_train, Y_train = make_data(10, 20, 10000, op)\n",
    "    X_valid, Y_valid = make_data(10, 20, 200, op)\n",
    "    X_test, Y_test = make_data(0, 30, 10000, op) # Test set contains both interpolated\n",
    "                                                 # and extrapolated data\n",
    "\n",
    "    model = train(NALU(X_train.shape[1], 1), nn.SmoothL1Loss(), Adam, X_train, Y_train,\n",
    "                  X_valid, Y_valid, patience=15, batch_size=32,num_epochs = 1000)\n",
    "    test_preds, test_targets = get_eval_preds(model, X_test,\n",
    "                                              Y_test, 32, False)\n",
    "    \n",
    "    test_acc = accuracy_score(test_preds, test_targets)\n",
    "    \n",
    "    print('Test accuracy for [{}]: {:.2f}%'.format(op, test_acc))\n",
    "    models.append(model)\n",
    "    \n",
    "    if op == 'sqrt':\n",
    "        test_scores['sqrt(a)'] = test_acc\n",
    "    else:\n",
    "        test_scores['a '+op+' b'] = test_acc"
   ]
  },
  {
   "cell_type": "markdown",
   "metadata": {},
   "source": [
    "### Saving the results"
   ]
  },
  {
   "cell_type": "code",
   "execution_count": 63,
   "metadata": {},
   "outputs": [
    {
     "name": "stdout",
     "output_type": "stream",
     "text": [
      "100.0\n"
     ]
    }
   ],
   "source": [
    "X_test, Y_test = make_data(10, 20, 1000, '+')\n",
    "X_test = np.round(X_test)\n",
    "Y_test = X_test[:,0] + X_test[:,1]\n",
    "\n",
    "# test_preds, test_targets = get_eval_preds(models[0], X_test,\n",
    "#                                               Y_test, 32, False)\n",
    "\n",
    "X_test = torch.from_numpy(X_test).float()\n",
    "preds = models[0].forward(X_test)\n",
    "\n",
    "correct = 0\n",
    "preds = preds.detach().numpy()\n",
    "for i in range(X_test.shape[0]):\n",
    "    if np.isclose(preds[i],Y_test[i]):\n",
    "        correct+=1\n",
    "\n",
    "test_acc = correct * 100.0 / X_test.shape[0]\n",
    "print(test_acc)"
   ]
  },
  {
   "cell_type": "code",
   "execution_count": 293,
   "metadata": {},
   "outputs": [
    {
     "name": "stdout",
     "output_type": "stream",
     "text": [
      "90.5\n"
     ]
    }
   ],
   "source": [
    "X_test, Y_test = make_data(10, 20, 1000, '-')\n",
    "X_test = np.round(X_test)\n",
    "Y_test = X_test[:,0] - X_test[:,1]\n",
    "\n",
    "# test_preds, test_targets = get_eval_preds(models[0], X_test,\n",
    "#                                               Y_test, 32, False)\n",
    "\n",
    "X_test = torch.from_numpy(X_test).float()\n",
    "preds = models[1].forward(X_test)\n",
    "\n",
    "correct = 0\n",
    "preds = preds.detach().numpy()\n",
    "for i in range(X_test.shape[0]):\n",
    "    if np.isclose(preds[i],Y_test[i]):\n",
    "        correct+=1\n",
    "\n",
    "test_acc = correct * 100.0 / X_test.shape[0]\n",
    "print(test_acc)"
   ]
  },
  {
   "cell_type": "code",
   "execution_count": 295,
   "metadata": {},
   "outputs": [
    {
     "name": "stdout",
     "output_type": "stream",
     "text": [
      "97.2\n"
     ]
    }
   ],
   "source": [
    "X_test, Y_test = make_data(0, 30, 1000, '*')\n",
    "X_test = np.round(X_test)\n",
    "Y_test = X_test[:,0] * X_test[:,1]\n",
    "\n",
    "# test_preds, test_targets = get_eval_preds(models[0], X_test,\n",
    "#                                               Y_test, 32, False)\n",
    "\n",
    "X_test = torch.from_numpy(X_test).float()\n",
    "preds = models[2].forward(X_test)\n",
    "\n",
    "correct = 0\n",
    "preds = preds.detach().numpy()\n",
    "for i in range(X_test.shape[0]):\n",
    "    if np.isclose(preds[i],Y_test[i]):\n",
    "        correct+=1\n",
    "\n",
    "test_acc = correct * 100.0 / X_test.shape[0]\n",
    "print(test_acc)"
   ]
  },
  {
   "cell_type": "code",
   "execution_count": 317,
   "metadata": {},
   "outputs": [
    {
     "name": "stderr",
     "output_type": "stream",
     "text": [
      "C:\\Users\\Ammar\\.conda\\envs\\neuralnets\\lib\\site-packages\\ipykernel_launcher.py:3: RuntimeWarning: divide by zero encountered in true_divide\n",
      "  This is separate from the ipykernel package so we can avoid doing imports until\n",
      "C:\\Users\\Ammar\\.conda\\envs\\neuralnets\\lib\\site-packages\\ipykernel_launcher.py:3: RuntimeWarning: invalid value encountered in true_divide\n",
      "  This is separate from the ipykernel package so we can avoid doing imports until\n"
     ]
    },
    {
     "name": "stdout",
     "output_type": "stream",
     "text": [
      "95.8\n"
     ]
    }
   ],
   "source": [
    "X_test, Y_test = make_data(0, 30, 1000, '/')\n",
    "X_test = np.round(X_test)\n",
    "Y_test = X_test[:,0] / X_test[:,1]\n",
    "Y_test = np.round(Y_test)\n",
    "# test_preds, test_targets = get_eval_preds(models[0], X_test,\n",
    "#                                               Y_test, 32, False)\n",
    "\n",
    "X_test = torch.from_numpy(X_test).float()\n",
    "preds = models[3].forward(X_test)\n",
    "\n",
    "correct = 0\n",
    "preds = preds.detach().numpy().round()\n",
    "for i in range(X_test.shape[0]):\n",
    "    if np.isclose(preds[i],Y_test[i]):\n",
    "        correct+=1\n",
    "\n",
    "test_acc = correct * 100.0 / X_test.shape[0]\n",
    "print(test_acc)"
   ]
  },
  {
   "cell_type": "code",
   "execution_count": 8,
   "metadata": {},
   "outputs": [
    {
     "data": {
      "text/html": [
       "<div>\n",
       "<style scoped>\n",
       "    .dataframe tbody tr th:only-of-type {\n",
       "        vertical-align: middle;\n",
       "    }\n",
       "\n",
       "    .dataframe tbody tr th {\n",
       "        vertical-align: top;\n",
       "    }\n",
       "\n",
       "    .dataframe thead th {\n",
       "        text-align: right;\n",
       "    }\n",
       "</style>\n",
       "<table border=\"1\" class=\"dataframe\">\n",
       "  <thead>\n",
       "    <tr style=\"text-align: right;\">\n",
       "      <th></th>\n",
       "      <th>Accuracy</th>\n",
       "    </tr>\n",
       "  </thead>\n",
       "  <tbody>\n",
       "    <tr>\n",
       "      <th>a + b</th>\n",
       "      <td>100.00</td>\n",
       "    </tr>\n",
       "    <tr>\n",
       "      <th>a - b</th>\n",
       "      <td>99.97</td>\n",
       "    </tr>\n",
       "    <tr>\n",
       "      <th>a * b</th>\n",
       "      <td>100.00</td>\n",
       "    </tr>\n",
       "    <tr>\n",
       "      <th>a / b</th>\n",
       "      <td>94.56</td>\n",
       "    </tr>\n",
       "  </tbody>\n",
       "</table>\n",
       "</div>"
      ],
      "text/plain": [
       "       Accuracy\n",
       "a + b    100.00\n",
       "a - b     99.97\n",
       "a * b    100.00\n",
       "a / b     94.56"
      ]
     },
     "execution_count": 8,
     "metadata": {},
     "output_type": "execute_result"
    }
   ],
   "source": [
    "results = pd.DataFrame.from_dict(test_scores, orient='index', columns=['Accuracy'])\n",
    "results.to_csv('results.csv', index=False)\n",
    "results.head(4)"
   ]
  }
 ],
 "metadata": {
  "kernelspec": {
   "display_name": "Python 3",
   "language": "python",
   "name": "python3"
  },
  "language_info": {
   "codemirror_mode": {
    "name": "ipython",
    "version": 3
   },
   "file_extension": ".py",
   "mimetype": "text/x-python",
   "name": "python",
   "nbconvert_exporter": "python",
   "pygments_lexer": "ipython3",
   "version": "3.6.8"
  }
 },
 "nbformat": 4,
 "nbformat_minor": 2
}
